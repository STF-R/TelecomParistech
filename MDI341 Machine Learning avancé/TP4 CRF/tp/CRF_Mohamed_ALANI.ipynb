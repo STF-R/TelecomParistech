{
 "cells": [
  {
   "cell_type": "code",
   "execution_count": 1,
   "metadata": {
    "collapsed": false
   },
   "outputs": [
    {
     "name": "stdout",
     "output_type": "stream",
     "text": [
      "0.18.1\n"
     ]
    }
   ],
   "source": [
    "from itertools import chain\n",
    "import nltk\n",
    "from sklearn.metrics import classification_report, confusion_matrix\n",
    "from sklearn.preprocessing import LabelBinarizer\n",
    "import sklearn\n",
    "import pycrfsuite\n",
    "import numpy as np \n",
    "\n",
    "print(sklearn.__version__)\n",
    "import pickle\n",
    "\n",
    "import numpy as np\n",
    "from pycrfsuite import Tagger\n",
    "from flexcrf_tp.models.linear_chain import (_feat_fun_values,\n",
    "                                            _compute_all_potentials,\n",
    "                                            _forward_score,\n",
    "                                            _backward_score,\n",
    "                                            _partition_fun_value,\n",
    "                                            _posterior_score)\n",
    "\n",
    "from flexcrf_tp.crfsuite2flexcrf import convert_data_to_flexcrf"
   ]
  },
  {
   "cell_type": "markdown",
   "metadata": {},
   "source": [
    "# Let's use CoNLL 2002 data to build a NER system\n",
    "\n",
    "CoNLL2002 corpus is available in NLTK. We use Spanish data."
   ]
  },
  {
   "cell_type": "code",
   "execution_count": 2,
   "metadata": {
    "collapsed": false
   },
   "outputs": [
    {
     "data": {
      "text/plain": [
       "['esp.testa', 'esp.testb', 'esp.train', 'ned.testa', 'ned.testb', 'ned.train']"
      ]
     },
     "execution_count": 2,
     "metadata": {},
     "output_type": "execute_result"
    }
   ],
   "source": [
    "nltk.corpus.conll2002.fileids()"
   ]
  },
  {
   "cell_type": "code",
   "execution_count": 3,
   "metadata": {
    "collapsed": false
   },
   "outputs": [
    {
     "name": "stdout",
     "output_type": "stream",
     "text": [
      "Wall time: 5.14 s\n"
     ]
    }
   ],
   "source": [
    "%%time\n",
    "train_sents = list(nltk.corpus.conll2002.iob_sents('esp.train'))\n",
    "test_sents = list(nltk.corpus.conll2002.iob_sents('esp.testb'))"
   ]
  },
  {
   "cell_type": "markdown",
   "metadata": {},
   "source": [
    "Data format:"
   ]
  },
  {
   "cell_type": "code",
   "execution_count": 4,
   "metadata": {
    "collapsed": false
   },
   "outputs": [
    {
     "data": {
      "text/plain": [
       "[('Melbourne', 'NP', 'B-LOC'),\n",
       " ('(', 'Fpa', 'O'),\n",
       " ('Australia', 'NP', 'B-LOC'),\n",
       " (')', 'Fpt', 'O'),\n",
       " (',', 'Fc', 'O'),\n",
       " ('25', 'Z', 'O'),\n",
       " ('may', 'NC', 'O'),\n",
       " ('(', 'Fpa', 'O'),\n",
       " ('EFE', 'NC', 'B-ORG'),\n",
       " (')', 'Fpt', 'O'),\n",
       " ('.', 'Fp', 'O')]"
      ]
     },
     "execution_count": 4,
     "metadata": {},
     "output_type": "execute_result"
    }
   ],
   "source": [
    "train_sents[0]"
   ]
  },
  {
   "cell_type": "markdown",
   "metadata": {},
   "source": [
    "## Features\n",
    "\n",
    "Next, define some features. In this example we use word identity, word suffix, word shape and word POS tag; also, some information from nearby words is used. \n",
    "\n",
    "This makes a simple baseline, but you certainly can add and remove some features to get (much?) better results - experiment with it."
   ]
  },
  {
   "cell_type": "code",
   "execution_count": 5,
   "metadata": {
    "collapsed": false
   },
   "outputs": [],
   "source": [
    "def word2features(sent, i):\n",
    "    word = sent[i][0]\n",
    "    postag = sent[i][1]\n",
    "    features = [\n",
    "        'bias',\n",
    "        'word.lower=' + word.lower(),\n",
    "        'word[-3:]=' + word[-3:],\n",
    "        'word[-2:]=' + word[-2:],\n",
    "        'word.isupper=%s' % word.isupper(),\n",
    "        'word.istitle=%s' % word.istitle(),\n",
    "        'word.isdigit=%s' % word.isdigit(),\n",
    "        'postag=' + postag,\n",
    "        'postag[:2]=' + postag[:2],\n",
    "    ]\n",
    "    if i > 1:\n",
    "        word1 = sent[i-1][0]\n",
    "        word2 = sent[i-2][0]\n",
    "        postag1 = sent[i-1][1]\n",
    "        postag2 = sent[i-2][1]\n",
    "        \n",
    "        features.extend([\n",
    "            '-1:word.lower=' + word1.lower(),\n",
    "            '-1:word.istitle=%s' % word1.istitle(),\n",
    "            '-1:word.isupper=%s' % word1.isupper(),\n",
    "            '-1:postag=' + postag1,\n",
    "            '-1:postag[:2]=' + postag1[:2],\n",
    "\n",
    "            '-2:word.lower=' + word2.lower(),\n",
    "            '-2:word.istitle=%s' % word2.istitle(),\n",
    "            '-2:word.isupper=%s' % word2.isupper(),\n",
    "            '-2:postag=' + postag2,\n",
    "            '-2:postag[:2]=' + postag2[:2],\n",
    "        ])\n",
    "        \n",
    "    elif i < len(sent)-2:\n",
    "        word1 = sent[i+1][0]\n",
    "        postag1 = sent[i+1][1]\n",
    "        word2 = sent[i+2][0]\n",
    "        postag2 = sent[i+2][1]\n",
    "        \n",
    "        features.extend([\n",
    "            '+1:word.lower=' + word1.lower(),\n",
    "            '+1:word.istitle=%s' % word1.istitle(),\n",
    "            '+1:word.isupper=%s' % word1.isupper(),\n",
    "            '+1:postag=' + postag1,\n",
    "            '+1:postag[:2]=' + postag1[:2],\n",
    "            \n",
    "            '+2:word.lower=' + word2.lower(),\n",
    "            '+2:word.istitle=%s' % word2.istitle(),\n",
    "            '+2:word.isupper=%s' % word2.isupper(),\n",
    "            '+2:postag=' + postag2,\n",
    "            '+2:postag[:2]=' + postag2[:2],\n",
    "        ])\n",
    "        \n",
    "    elif i > 0 and i < len(sent) - 1:\n",
    "        word_a_1 = sent[i + 1][0]\n",
    "        postag_a_1 = sent[i + 1][1]\n",
    "        word_b_1 = sent[i - 1][0]\n",
    "        postag_b_1 = sent[i - 1][1]\n",
    "        \n",
    "        features.extend([\n",
    "            # word sequence\n",
    "            '+1:word.word='  + word.lower() + word_a_1.lower(),\n",
    "            '-1:word.word='  + word_b_1.lower() + word.lower(),\n",
    "\n",
    "            'word.word.word=' + word_b_1.lower() + word.lower() + word_a_1.lower(), \n",
    "\n",
    "            # tag sequence    \n",
    "            '+1:postag.postag='  + postag + postag_a_1,\n",
    "            '-1:postag.postag=' + postag_b_1 + postag, \n",
    "\n",
    "            'postag.postag.postag=' + postag_b_1 + postag + postag_a_1\n",
    "        ])\n",
    "        \n",
    "    else:\n",
    "        features.append('EOS')\n",
    "                \n",
    "    return features\n",
    "\n",
    "\n",
    "def sent2features(sent):\n",
    "    return [word2features(sent, i) for i in range(len(sent))]\n",
    "\n",
    "def sent2labels(sent):\n",
    "    return [label for token, postag, label in sent]\n",
    "\n",
    "def sent2tokens(sent):\n",
    "    return [token for token, postag, label in sent]    "
   ]
  },
  {
   "cell_type": "markdown",
   "metadata": {},
   "source": [
    "This is what word2features extracts:"
   ]
  },
  {
   "cell_type": "code",
   "execution_count": 6,
   "metadata": {
    "collapsed": false
   },
   "outputs": [
    {
     "data": {
      "text/plain": [
       "['bias',\n",
       " 'word.lower=melbourne',\n",
       " 'word[-3:]=rne',\n",
       " 'word[-2:]=ne',\n",
       " 'word.isupper=False',\n",
       " 'word.istitle=True',\n",
       " 'word.isdigit=False',\n",
       " 'postag=NP',\n",
       " 'postag[:2]=NP',\n",
       " '+1:word.lower=(',\n",
       " '+1:word.istitle=False',\n",
       " '+1:word.isupper=False',\n",
       " '+1:postag=Fpa',\n",
       " '+1:postag[:2]=Fp',\n",
       " '+2:word.lower=australia',\n",
       " '+2:word.istitle=True',\n",
       " '+2:word.isupper=False',\n",
       " '+2:postag=NP',\n",
       " '+2:postag[:2]=NP']"
      ]
     },
     "execution_count": 6,
     "metadata": {},
     "output_type": "execute_result"
    }
   ],
   "source": [
    "sent2features(train_sents[0])[0]"
   ]
  },
  {
   "cell_type": "markdown",
   "metadata": {},
   "source": [
    "Extract the features from the data:"
   ]
  },
  {
   "cell_type": "code",
   "execution_count": 7,
   "metadata": {
    "collapsed": false
   },
   "outputs": [
    {
     "name": "stdout",
     "output_type": "stream",
     "text": [
      "Wall time: 4.54 s\n"
     ]
    }
   ],
   "source": [
    "%%time\n",
    "X_train = [sent2features(s) for s in train_sents]\n",
    "y_train = [sent2labels(s) for s in train_sents]\n",
    "\n",
    "X_test = [sent2features(s) for s in test_sents]\n",
    "y_test = [sent2labels(s) for s in test_sents]"
   ]
  },
  {
   "cell_type": "code",
   "execution_count": null,
   "metadata": {
    "collapsed": false
   },
   "outputs": [],
   "source": []
  },
  {
   "cell_type": "markdown",
   "metadata": {},
   "source": [
    "## Train the model\n",
    "\n",
    "To train the model, we create pycrfsuite.Trainer, load the training data and call 'train' method. \n",
    "First, create pycrfsuite.Trainer and load the training data to CRFsuite:"
   ]
  },
  {
   "cell_type": "code",
   "execution_count": 8,
   "metadata": {
    "collapsed": false
   },
   "outputs": [
    {
     "name": "stdout",
     "output_type": "stream",
     "text": [
      "Wall time: 5.66 s\n"
     ]
    }
   ],
   "source": [
    "%%time\n",
    "trainer = pycrfsuite.Trainer(verbose=False)\n",
    "\n",
    "for xseq, yseq in zip(X_train, y_train):\n",
    "    trainer.append(xseq, yseq)"
   ]
  },
  {
   "cell_type": "markdown",
   "metadata": {},
   "source": [
    "Set training parameters. We will use L-BFGS training algorithm (it is default) with Elastic Net (L1 + L2) regularization."
   ]
  },
  {
   "cell_type": "code",
   "execution_count": 9,
   "metadata": {
    "collapsed": false
   },
   "outputs": [],
   "source": [
    "trainer.set_params({\n",
    "    'c1': 1.0,   # coefficient for L1 penalty\n",
    "    'c2': 1e-3,  # coefficient for L2 penalty\n",
    "    'max_iterations': 50,  # stop earlier\n",
    "\n",
    "    # include transitions that are possible, but not observed\n",
    "    'feature.possible_transitions': True\n",
    "})"
   ]
  },
  {
   "cell_type": "markdown",
   "metadata": {},
   "source": [
    "Possible parameters for the default training algorithm:"
   ]
  },
  {
   "cell_type": "code",
   "execution_count": 10,
   "metadata": {
    "collapsed": false
   },
   "outputs": [
    {
     "data": {
      "text/plain": [
       "['feature.minfreq',\n",
       " 'feature.possible_states',\n",
       " 'feature.possible_transitions',\n",
       " 'c1',\n",
       " 'c2',\n",
       " 'max_iterations',\n",
       " 'num_memories',\n",
       " 'epsilon',\n",
       " 'period',\n",
       " 'delta',\n",
       " 'linesearch',\n",
       " 'max_linesearch']"
      ]
     },
     "execution_count": 10,
     "metadata": {},
     "output_type": "execute_result"
    }
   ],
   "source": [
    "trainer.params()"
   ]
  },
  {
   "cell_type": "markdown",
   "metadata": {},
   "source": [
    "Train the model:"
   ]
  },
  {
   "cell_type": "code",
   "execution_count": 11,
   "metadata": {
    "collapsed": false
   },
   "outputs": [
    {
     "name": "stdout",
     "output_type": "stream",
     "text": [
      "Wall time: 27.6 s\n"
     ]
    }
   ],
   "source": [
    "%%time\n",
    "trainer.train('conll2002-esp.crfsuite')"
   ]
  },
  {
   "cell_type": "markdown",
   "metadata": {},
   "source": [
    "trainer.train saves model to a file:"
   ]
  },
  {
   "cell_type": "code",
   "execution_count": 12,
   "metadata": {
    "collapsed": false
   },
   "outputs": [
    {
     "name": "stdout",
     "output_type": "stream",
     "text": [
      "-rw-r--r-- 1 Mohamed 197609 538K mars  28 19:24 ./conll2002-esp.crfsuite\n"
     ]
    }
   ],
   "source": [
    "!ls -lh ./conll2002-esp.crfsuite"
   ]
  },
  {
   "cell_type": "markdown",
   "metadata": {},
   "source": [
    "We can also get information about the final state of the model by looking at the trainer's logparser. If we had tagged our input data using the optional group argument in add, and had used the optional holdout argument during train, there would be information about the trainer's performance on the holdout set as well. "
   ]
  },
  {
   "cell_type": "code",
   "execution_count": 13,
   "metadata": {
    "collapsed": false
   },
   "outputs": [
    {
     "data": {
      "text/plain": [
       "{'active_features': 10202,\n",
       " 'error_norm': 313.904088,\n",
       " 'feature_norm': 80.526738,\n",
       " 'linesearch_step': 1.0,\n",
       " 'linesearch_trials': 1,\n",
       " 'loss': 14205.264353,\n",
       " 'num': 50,\n",
       " 'scores': {},\n",
       " 'time': 0.505}"
      ]
     },
     "execution_count": 13,
     "metadata": {},
     "output_type": "execute_result"
    }
   ],
   "source": [
    "trainer.logparser.last_iteration"
   ]
  },
  {
   "cell_type": "markdown",
   "metadata": {},
   "source": [
    "We can also get this information for every step using trainer.logparser.iterations"
   ]
  },
  {
   "cell_type": "code",
   "execution_count": 14,
   "metadata": {
    "collapsed": false
   },
   "outputs": [
    {
     "name": "stdout",
     "output_type": "stream",
     "text": [
      "50 {'active_features': 10202, 'linesearch_trials': 1, 'feature_norm': 80.526738, 'linesearch_step': 1.0, 'error_norm': 313.904088, 'scores': {}, 'loss': 14205.264353, 'time': 0.505, 'num': 50}\n"
     ]
    }
   ],
   "source": [
    "print(len(trainer.logparser.iterations), trainer.logparser.iterations[-1])"
   ]
  },
  {
   "cell_type": "markdown",
   "metadata": {},
   "source": [
    "## Make predictions\n",
    "\n",
    "To use the trained model, create pycrfsuite.Tagger, open the model and use \"tag\" method:"
   ]
  },
  {
   "cell_type": "code",
   "execution_count": 15,
   "metadata": {
    "collapsed": false
   },
   "outputs": [
    {
     "data": {
      "text/plain": [
       "<contextlib.closing at 0x28414c0dcf8>"
      ]
     },
     "execution_count": 15,
     "metadata": {},
     "output_type": "execute_result"
    }
   ],
   "source": [
    "tagger = pycrfsuite.Tagger()\n",
    "tagger.open('conll2002-esp.crfsuite')"
   ]
  },
  {
   "cell_type": "markdown",
   "metadata": {},
   "source": [
    "Let's tag a sentence to see how it works:"
   ]
  },
  {
   "cell_type": "code",
   "execution_count": 16,
   "metadata": {
    "collapsed": false
   },
   "outputs": [
    {
     "name": "stdout",
     "output_type": "stream",
     "text": [
      "La Coruña , 23 may ( EFECOM ) .\n",
      "\n",
      "Predicted: B-LOC I-LOC O O O O B-ORG O O\n",
      "Correct:   B-LOC I-LOC O O O O B-ORG O O\n"
     ]
    }
   ],
   "source": [
    "example_sent = test_sents[0]\n",
    "print(' '.join(sent2tokens(example_sent)), end='\\n\\n')\n",
    "\n",
    "print(\"Predicted:\", ' '.join(tagger.tag(sent2features(example_sent))))\n",
    "print(\"Correct:  \", ' '.join(sent2labels(example_sent)))"
   ]
  },
  {
   "cell_type": "markdown",
   "metadata": {},
   "source": [
    "## Evaluate the model"
   ]
  },
  {
   "cell_type": "code",
   "execution_count": 17,
   "metadata": {
    "collapsed": false
   },
   "outputs": [],
   "source": [
    "def bio_classification_report(y_true, y_pred):\n",
    "    \"\"\"\n",
    "    Classification report for a list of BIO-encoded sequences.\n",
    "    It computes token-level metrics and discards \"O\" labels.\n",
    "    \n",
    "    Note that it requires scikit-learn 0.15+ (or a version from github master)\n",
    "    to calculate averages properly!\n",
    "    \"\"\"\n",
    "    lb = LabelBinarizer()\n",
    "    y_true_combined = lb.fit_transform(list(chain.from_iterable(y_true)))\n",
    "    y_pred_combined = lb.transform(list(chain.from_iterable(y_pred)))\n",
    "        \n",
    "    tagset = set(lb.classes_) - {'O'}\n",
    "    tagset = sorted(tagset, key=lambda tag: tag.split('-', 1)[::-1])\n",
    "    class_indices = {cls: idx for idx, cls in enumerate(lb.classes_)}\n",
    "    \n",
    "    return classification_report(\n",
    "        y_true_combined,\n",
    "        y_pred_combined,\n",
    "        labels = [class_indices[cls] for cls in tagset],\n",
    "        target_names = tagset,\n",
    "    )"
   ]
  },
  {
   "cell_type": "markdown",
   "metadata": {},
   "source": [
    "Predict entity labels for all sentences in our testing set ('testb' Spanish data):"
   ]
  },
  {
   "cell_type": "code",
   "execution_count": 18,
   "metadata": {
    "collapsed": false
   },
   "outputs": [
    {
     "name": "stdout",
     "output_type": "stream",
     "text": [
      "Wall time: 866 ms\n"
     ]
    }
   ],
   "source": [
    "%%time\n",
    "y_pred = [tagger.tag(xseq) for xseq in X_test]"
   ]
  },
  {
   "cell_type": "markdown",
   "metadata": {},
   "source": [
    "..and check the result. Note this report is not comparable to results in CONLL2002 papers because here we check per-token results (not per-entity). Per-entity numbers will be worse.  "
   ]
  },
  {
   "cell_type": "code",
   "execution_count": 19,
   "metadata": {
    "collapsed": false
   },
   "outputs": [
    {
     "name": "stdout",
     "output_type": "stream",
     "text": [
      "             precision    recall  f1-score   support\n",
      "\n",
      "      B-LOC       0.79      0.75      0.77      1084\n",
      "      I-LOC       0.69      0.64      0.66       325\n",
      "     B-MISC       0.71      0.50      0.58       339\n",
      "     I-MISC       0.62      0.55      0.58       557\n",
      "      B-ORG       0.81      0.82      0.81      1400\n",
      "      I-ORG       0.83      0.81      0.82      1104\n",
      "      B-PER       0.80      0.88      0.84       735\n",
      "      I-PER       0.87      0.93      0.90       634\n",
      "\n",
      "avg / total       0.79      0.77      0.78      6178\n",
      "\n"
     ]
    }
   ],
   "source": [
    "print(bio_classification_report(y_test, y_pred))"
   ]
  },
  {
   "cell_type": "markdown",
   "metadata": {},
   "source": [
    "## Let's check what classifier learned"
   ]
  },
  {
   "cell_type": "code",
   "execution_count": 20,
   "metadata": {
    "collapsed": false
   },
   "outputs": [
    {
     "name": "stdout",
     "output_type": "stream",
     "text": [
      "Top likely transitions:\n",
      "B-PER  -> I-PER   6.120515\n",
      "B-LOC  -> I-LOC   4.725438\n",
      "I-MISC -> I-MISC  4.715527\n",
      "B-ORG  -> I-ORG   4.272482\n",
      "I-ORG  -> I-ORG   4.252518\n",
      "I-PER  -> I-PER   4.209032\n",
      "I-LOC  -> I-LOC   4.185278\n",
      "B-MISC -> I-MISC  3.732494\n",
      "O      -> B-MISC  1.412869\n",
      "O      -> O       1.223342\n",
      "O      -> B-ORG   0.873367\n",
      "O      -> B-LOC   0.771999\n",
      "I-PER  -> B-LOC   0.765577\n",
      "O      -> B-PER   0.401441\n",
      "B-ORG  -> B-LOC   0.141326\n",
      "\n",
      "Top unlikely transitions:\n",
      "B-MISC -> I-LOC   -2.818435\n",
      "I-ORG  -> I-LOC   -2.820726\n",
      "B-LOC  -> I-ORG   -2.836072\n",
      "B-ORG  -> B-ORG   -2.871635\n",
      "I-LOC  -> I-ORG   -3.013622\n",
      "I-PER  -> I-ORG   -3.015370\n",
      "B-MISC -> B-MISC  -3.040931\n",
      "B-PER  -> B-PER   -3.094318\n",
      "I-MISC -> I-LOC   -3.120213\n",
      "B-MISC -> I-ORG   -3.436320\n",
      "I-MISC -> I-ORG   -3.809124\n",
      "O      -> I-PER   -7.074274\n",
      "O      -> I-MISC  -7.764248\n",
      "O      -> I-LOC   -8.066906\n",
      "O      -> I-ORG   -8.124627\n"
     ]
    }
   ],
   "source": [
    "from collections import Counter\n",
    "info = tagger.info()\n",
    "\n",
    "def print_transitions(trans_features):\n",
    "    for (label_from, label_to), weight in trans_features:\n",
    "        print(\"%-6s -> %-7s %0.6f\" % (label_from, label_to, weight))\n",
    "\n",
    "print(\"Top likely transitions:\")\n",
    "print_transitions(Counter(info.transitions).most_common(15))\n",
    "\n",
    "print(\"\\nTop unlikely transitions:\")\n",
    "print_transitions(Counter(info.transitions).most_common()[-15:])"
   ]
  },
  {
   "cell_type": "markdown",
   "metadata": {},
   "source": [
    "We can see that, for example, it is very likely that the beginning of an organization name (B-ORG) will be followed by a token inside organization name (I-ORG), but transitions to I-ORG from tokens with other labels are penalized. Also note I-PER -> B-LOC transition: a positive weight means that model thinks that a person name is often followed by a location.\n",
    "\n",
    "Check the state features:"
   ]
  },
  {
   "cell_type": "code",
   "execution_count": 21,
   "metadata": {
    "collapsed": false
   },
   "outputs": [
    {
     "name": "stdout",
     "output_type": "stream",
     "text": [
      "Top positive:\n",
      "9.476269 B-ORG  word.lower=efe-cantabria\n",
      "8.512838 B-ORG  word.lower=psoe-progresistas\n",
      "5.406334 O      word.lower=mar-23-may-2000\n",
      "4.915326 I-PER  word.lower=gándara\n",
      "4.856425 B-ORG  word.lower=xfera\n",
      "4.716338 B-ORG  word.lower=telefónica\n",
      "4.641311 I-MISC -1:word.lower=ibex\n",
      "4.582893 B-MISC word.lower=expovacaciones\n",
      "4.537645 B-MISC word.lower=diversia\n",
      "4.478269 B-ORG  word.lower=esquerra\n",
      "4.460681 B-PER  word.lower=mcmanaman\n",
      "4.381993 B-ORG  word[-2:]=-e\n",
      "4.366103 O      word.istitle=False\n",
      "4.281879 B-LOC  -1:word.lower=nuboso\n",
      "4.097012 O      postag[:2]=Fp\n",
      "4.088448 B-ORG  word.lower=terra\n",
      "4.085507 B-MISC word.lower=diversia.com\n",
      "4.047451 B-ORG  word.lower=ciu\n",
      "3.959024 I-LOC  -1:word.lower=calle\n",
      "3.957171 B-ORG  word[-3:]=CiU\n",
      "\n",
      "Top negative:\n",
      "-1.635142 O      -2:word.lower=rodillo\n",
      "-1.663723 O      word.lower=circo\n",
      "-1.685685 B-PER  word[-2:]=ón\n",
      "-1.743277 B-PER  -1:word.lower=en\n",
      "-1.755077 B-LOC  -2:word.lower=nacional\n",
      "-1.868276 B-PER  word[-3:]=nes\n",
      "-1.954365 I-ORG  word[-3:]=La\n",
      "-1.954822 B-PER  word[-3:]=sta\n",
      "-1.997061 O      postag=NP\n",
      "-1.997061 O      postag[:2]=NP\n",
      "-2.107292 B-PER  word[-2:]=os\n",
      "-2.356974 I-PER  word[-3:]=ico\n",
      "-2.382596 O      word.lower=fundación\n",
      "-2.512551 O      -1:word.lower=sección\n",
      "-2.558495 B-PER  -1:word.lower=del\n",
      "-3.227366 O      word[-2:]=nd\n",
      "-3.240142 I-PER  -1:word.lower=san\n",
      "-3.370518 O      word.istitle=True\n",
      "-3.776908 O      word[-2:]=om\n",
      "-4.045491 O      word.isupper=True\n"
     ]
    }
   ],
   "source": [
    "def print_state_features(state_features):\n",
    "    for (attr, label), weight in state_features:\n",
    "        print(\"%0.6f %-6s %s\" % (weight, label, attr))    \n",
    "\n",
    "print(\"Top positive:\")\n",
    "print_state_features(Counter(info.state_features).most_common(20))\n",
    "\n",
    "print(\"\\nTop negative:\")\n",
    "print_state_features(Counter(info.state_features).most_common()[-20:])"
   ]
  },
  {
   "cell_type": "markdown",
   "metadata": {},
   "source": [
    "Some observations:\n",
    "\n",
    "* **8.743642 B-ORG  word.lower=psoe-progresistas** - the model remembered names of some entities - maybe it is overfit, or maybe our features are not adequate, or maybe remembering is indeed helpful;\n",
    "* **5.195429 I-LOC  -1:word.lower=calle**: \"calle\" is a street in Spanish; model learns that if a previous word was \"calle\" then the token is likely a part of location;\n",
    "* **-3.529449 O      word.isupper=True**, ** -2.913103 O      word.istitle=True **: UPPERCASED or TitleCased words are likely entities of some kind;\n",
    "* **-2.585756 O      postag=NP** - proper nouns (NP is a proper noun in the Spanish tagset) are often entities."
   ]
  },
  {
   "cell_type": "code",
   "execution_count": 22,
   "metadata": {
    "collapsed": false
   },
   "outputs": [
    {
     "ename": "NameError",
     "evalue": "name 'CRFSUITE_TEST_DATA_FILE' is not defined",
     "output_type": "error",
     "traceback": [
      "\u001b[0;31m---------------------------------------------------------------------------\u001b[0m",
      "\u001b[0;31mNameError\u001b[0m                                 Traceback (most recent call last)",
      "\u001b[0;32m<ipython-input-22-1d3c3e18b47e>\u001b[0m in \u001b[0;36m<module>\u001b[0;34m()\u001b[0m\n\u001b[0;32m----> 1\u001b[0;31m \u001b[0mpickle\u001b[0m\u001b[1;33m.\u001b[0m\u001b[0mdump\u001b[0m\u001b[1;33m(\u001b[0m\u001b[1;33m{\u001b[0m\u001b[1;34m'X'\u001b[0m\u001b[1;33m:\u001b[0m \u001b[0mX_test\u001b[0m\u001b[1;33m,\u001b[0m \u001b[1;34m'y'\u001b[0m\u001b[1;33m:\u001b[0m \u001b[0my_test\u001b[0m\u001b[1;33m}\u001b[0m\u001b[1;33m,\u001b[0m \u001b[0mopen\u001b[0m\u001b[1;33m(\u001b[0m\u001b[0mCRFSUITE_TEST_DATA_FILE\u001b[0m\u001b[1;33m,\u001b[0m \u001b[1;34m'wb'\u001b[0m\u001b[1;33m)\u001b[0m\u001b[1;33m)\u001b[0m\u001b[1;33m\u001b[0m\u001b[0m\n\u001b[0m",
      "\u001b[0;31mNameError\u001b[0m: name 'CRFSUITE_TEST_DATA_FILE' is not defined"
     ]
    }
   ],
   "source": [
    "pickle.dump({'X': X_test, 'y': y_test}, open(CRFSUITE_TEST_DATA_FILE, 'wb'))"
   ]
  },
  {
   "cell_type": "code",
   "execution_count": 24,
   "metadata": {
    "collapsed": true
   },
   "outputs": [],
   "source": [
    "CRFSUITE_TEST_DATA_FILE = 'conll2002-esp_crfsuite-test-data.dump'\n",
    "X_test, y_test = pickle.load(open(CRFSUITE_TEST_DATA_FILE, 'rb'))"
   ]
  },
  {
   "cell_type": "code",
   "execution_count": null,
   "metadata": {
    "collapsed": false
   },
   "outputs": [],
   "source": []
  },
  {
   "cell_type": "code",
   "execution_count": 25,
   "metadata": {
    "collapsed": false
   },
   "outputs": [
    {
     "name": "stdout",
     "output_type": "stream",
     "text": [
      "test data loaded.\n",
      "\n",
      "converting to flexcrf format...\n",
      "f_xy_desc created.\n",
      "t_xyy_desc created\n",
      "Processing sentence 1/3...\n",
      "Processing sentence 2/3...\n",
      "Processing sentence 3/3...\n"
     ]
    }
   ],
   "source": [
    "# -- Load data and crfsuite model and convert them-------------------------\n",
    "\n",
    "RECREATE = True  # set to True to recreate flexcrf data with new model\n",
    "\n",
    "CRFSUITE_MODEL_FILE = 'conll2002-esp.crfsuite'\n",
    "CRFSUITE_TEST_DATA_FILE = 'conll2002-esp_crfsuite-test-data.dump'\n",
    "FLEXCRF_TEST_DATA_FILE = 'conll2002-esp_flexcrf-test-data.dump'\n",
    "\n",
    "# crfsuite model\n",
    "tagger = Tagger()\n",
    "tagger.open(CRFSUITE_MODEL_FILE)\n",
    "model = tagger.info()\n",
    "\n",
    "data = pickle.load(open(CRFSUITE_TEST_DATA_FILE, 'rb'))\n",
    "print (\"test data loaded.\")\n",
    "\n",
    "if RECREATE:\n",
    "    dataset, thetas = convert_data_to_flexcrf(data, model, n_seq=3)\n",
    "    pickle.dump({'dataset': dataset, 'thetas': thetas},\n",
    "                open(FLEXCRF_TEST_DATA_FILE, 'wb'))\n",
    "else:\n",
    "    dd = pickle.load(open(FLEXCRF_TEST_DATA_FILE))\n",
    "    dataset = dd['dataset']\n",
    "    thetas = dd['thetas']\n"
   ]
  },
  {
   "cell_type": "code",
   "execution_count": 26,
   "metadata": {
    "collapsed": true
   },
   "outputs": [],
   "source": [
    "\n",
    "def viterbi_decoder(m_xy, n=None, log_version=True):\n",
    "    \"\"\"\n",
    "    Performs MAP inference, determining $y = \\argmax_y P(y|x)$, using the\n",
    "    Viterbi algorithm.\n",
    "\n",
    "    Parameters\n",
    "    ----------\n",
    "    m_xy : ndarray, shape (n_obs, n_labels, n_labels)\n",
    "        Values of log-potentials ($\\log M_i(y_{i-1}, y_i, x)$)\n",
    "        computed based on feature functions f_xy and/or user-defined potentials\n",
    "        `psi_xy`. At t=0, m_xy[0, 0, :] contains values of $\\log M_1(y_0, y_1)$\n",
    "        with $y_0$ the fixed initial state.\n",
    "\n",
    "    n : integer, default=None\n",
    "        Time position up to which to decode the optimal sequence; if not\n",
    "        specified (default) the score is computed for the whole sequence.\n",
    "\n",
    "    Returns\n",
    "    -------\n",
    "    y_pred : ndarray, shape (n_obs,)\n",
    "        Predicted optimal sequence of labels.\n",
    "\n",
    "    \"\"\"\n",
    "    \n",
    "    \n",
    "    n_obs, n_label, _ = m_xy.shape \n",
    "    argmax = np.zeros((n_obs - 1, n_label), dtype=int)\n",
    "    y_pred = np.zeros(n_obs, dtype=int)\n",
    "\n",
    "    # init\n",
    "    score = m_xy[0, 0, :]\n",
    "\n",
    "    # Boucle pour calculer les nouveaux scores \n",
    "    for i in range(n_obs - 1):\n",
    "        tmp = score.reshape(-1, 1) + m_xy[i + 1]\n",
    "        argmax[i] = np.argmax(tmp, axis=0)\n",
    "        score = tmp[argmax[i], np.arange(n_label)]\n",
    "\n",
    "    # On trouve le chemin pour la meilleure séquence \n",
    "    y_pred[-1] = np.argmax(score)\n",
    "    for i in np.arange(n_obs - 1)[::-1]:\n",
    "        y_pred[i] = argmax[i, y_pred[i + 1]]\n",
    "\n",
    "    return y_pred, score[y_pred[-1]]\n"
   ]
  },
  {
   "cell_type": "code",
   "execution_count": 27,
   "metadata": {
    "collapsed": false
   },
   "outputs": [
    {
     "name": "stdout",
     "output_type": "stream",
     "text": [
      "\n",
      "-- With crfsuite:\n",
      "labels:\n",
      " ['B-LOC', 'I-LOC', 'O', 'O', 'O', 'O', 'B-ORG', 'O', 'O'] \n",
      " [0 7 1 1 1 1 2 1 1]\n",
      "probability:\t 0.586343\n"
     ]
    },
    {
     "name": "stderr",
     "output_type": "stream",
     "text": [
      "C:\\Users\\Mohamed\\MS BGD\\MDI341 Machine Learning avancé\\TP4 CRF\\tp\\flexcrf_tp\\models\\linear_chain.py:218: RuntimeWarning: divide by zero encountered in log\n",
      "  f_xy.select(y1=ND, y2=y2, arr_out=True).T)\n",
      "C:\\Users\\Mohamed\\MS BGD\\MDI341 Machine Learning avancé\\TP4 CRF\\tp\\flexcrf_tp\\models\\linear_chain.py:220: RuntimeWarning: divide by zero encountered in log\n",
      "  f_xy.select(y1=y1, y2=y2, arr_out=True).T)\n"
     ]
    },
    {
     "name": "stdout",
     "output_type": "stream",
     "text": [
      "-- With flexcrf:\n",
      "labels:\n",
      " [0 7 1 1 1 1 2 1 1]\n",
      "equal predictions:  True\n",
      "\n",
      "-- With crfsuite:\n",
      "labels:\n",
      " ['O'] \n",
      " [1]\n",
      "probability:\t 0.999946\n",
      "-- With flexcrf:\n",
      "labels:\n",
      " [1]\n",
      "equal predictions:  True\n",
      "\n",
      "-- With crfsuite:\n",
      "labels:\n",
      " ['O', 'O', 'O', 'O', 'O', 'O', 'O', 'O', 'O', 'O', 'O', 'O', 'B-MISC', 'O', 'O', 'B-LOC', 'O', 'O', 'O', 'O', 'O', 'O', 'O', 'O', 'O', 'O', 'O', 'O', 'O', 'O', 'O', 'O', 'O', 'O', 'O', 'O', 'O', 'B-PER', 'I-PER', 'I-PER', 'O', 'O', 'O', 'O', 'O', 'B-LOC', 'I-LOC', 'O'] \n",
      " [1 1 1 1 1 1 1 1 1 1 1 1 5 1 1 0 1 1 1 1 1 1 1 1 1 1 1 1 1 1 1 1 1 1 1 1 1\n",
      " 3 4 4 1 1 1 1 1 0 7 1]\n",
      "probability:\t 0.430171\n",
      "-- With flexcrf:\n",
      "labels:\n",
      " [1 1 1 1 1 1 1 1 1 1 1 1 5 1 1 0 1 1 1 1 1 1 1 1 1 1 1 1 1 1 1 1 1 1 1 1 1\n",
      " 3 4 4 1 1 1 1 1 0 7 1]\n",
      "equal predictions:  True\n"
     ]
    }
   ],
   "source": [
    "# -- Start classification ------------------------------------------------\n",
    "\n",
    "for seq in range(len(dataset)):\n",
    "    # -- with crfsuite\n",
    "    s_ = tagger.tag(data['X'][seq])\n",
    "    y_ = np.array([int(model.labels[s]) for s in s_])\n",
    "    prob_ = tagger.probability(s_)\n",
    "\n",
    "    print (\"\\n-- With crfsuite:\")\n",
    "    print (\"labels:\\n\", s_, \"\\n\", y_)\n",
    "    print (\"probability:\\t %f\" % prob_)\n",
    "\n",
    "    # -- with flexcrf\n",
    "    f_xy, y = dataset[seq]\n",
    "    theta = thetas[seq]\n",
    "\n",
    "    m_xy, f_m_xy = _compute_all_potentials(f_xy, theta)\n",
    "\n",
    "    y_pred = viterbi_decoder(m_xy)[0]\n",
    "\n",
    "    # ADD CODE TO COMPUTE POSTERIOR PROBABILITY WITH FLEXCRF HERE ....\n",
    "\n",
    "    print (\"-- With flexcrf:\")\n",
    "    print (\"labels:\\n\", y_pred)\n",
    "    print (\"equal predictions: \", np.all(y_pred == y_))\n",
    "    #print \"probability:\\t %f\" % prob\n",
    "    #print \"delta:\\t %f\" % abs(prob-prob_)\n",
    "\n",
    "tagger.close()"
   ]
  }
 ],
 "metadata": {
  "kernelspec": {
   "display_name": "Python [conda root]",
   "language": "python",
   "name": "conda-root-py"
  },
  "language_info": {
   "codemirror_mode": {
    "name": "ipython",
    "version": 3
   },
   "file_extension": ".py",
   "mimetype": "text/x-python",
   "name": "python",
   "nbconvert_exporter": "python",
   "pygments_lexer": "ipython3",
   "version": "3.5.2"
  }
 },
 "nbformat": 4,
 "nbformat_minor": 0
}
