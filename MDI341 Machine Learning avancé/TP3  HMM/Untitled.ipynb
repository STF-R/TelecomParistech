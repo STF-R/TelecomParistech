{
 "cells": [
  {
   "cell_type": "markdown",
   "metadata": {},
   "source": [
    "# TP HMM "
   ]
  },
  {
   "cell_type": "code",
   "execution_count": 52,
   "metadata": {
    "collapsed": false,
    "scrolled": true
   },
   "outputs": [],
   "source": [
    "import numpy as np\n",
    "import random\n",
    "import matplotlib.pyplot as plt"
   ]
  },
  {
   "cell_type": "code",
   "execution_count": 157,
   "metadata": {
    "collapsed": true
   },
   "outputs": [],
   "source": [
    "v = np.loadtxt(\"data_txt_compact/matrice_symboles.txt\")\n",
    "A0 = np.loadtxt(\"data_txt_compact/A0.txt\")\n",
    "B0 = np.loadtxt(\"data_txt_compact/B0.txt\")\n",
    "A7 = np.loadtxt(\"data_txt_compact/A7.txt\")\n",
    "B7 = np.loadtxt(\"data_txt_compact/B7.txt\")\n",
    "A1 = np.loadtxt(\"data_txt_compact/A1.txt\")\n",
    "B1 = np.loadtxt(\"data_txt_compact/B1.txt\")\n",
    "vect_pi0 = np.loadtxt(\"data_txt_compact/vect_pi0.txt\")"
   ]
  },
  {
   "cell_type": "markdown",
   "metadata": {},
   "source": [
    "### 2.1 A quoi correspondent les zéros de la matrice B ? et ceux de la matrice A et du vecteur π ?"
   ]
  },
  {
   "cell_type": "markdown",
   "metadata": {},
   "source": [
    "Les zéros de la matrice B correspondent à la probabilité 0 des observations de passer d'un état à un autre. \n",
    "\n",
    "Les zéros de la matrice A correspondent à la probabilité 0 de passer d'un état à un autre. \n",
    "\n",
    "Les zéros de la matrice pi correspondentau fait que l'état initial n'est pas à l'état i."
   ]
  },
  {
   "cell_type": "markdown",
   "metadata": {},
   "source": [
    "### 2.2 Génération de l'état suivant"
   ]
  },
  {
   "cell_type": "code",
   "execution_count": 146,
   "metadata": {
    "collapsed": false
   },
   "outputs": [],
   "source": [
    "def etat_suivant(i, A0): \n",
    "    cumsum = A0[i,:].cumsum()\n",
    "    rand = random.uniform(0, 1)    \n",
    "    plt.plot(range(len(cumsum)), cumsum, label=\"random generator\")\n",
    "    plt.plot([0,4],[rand, rand], label=\"cumsum\")\n",
    "    plt.legend()    \n",
    "    for i in range(len(cumsum)): \n",
    "        if cumsum[i] >= rand: \n",
    "            return i\n",
    "plt.show()"
   ]
  },
  {
   "cell_type": "code",
   "execution_count": 145,
   "metadata": {
    "collapsed": false
   },
   "outputs": [],
   "source": [
    "def seq_etats_f(A0):\n",
    "    seq_etats = np.zeros(28)\n",
    "    for i in range(28):\n",
    "        seq_etats[i] = etat_suivant(seq_etats[i-1], A0)\n",
    "    return seq_etats"
   ]
  },
  {
   "cell_type": "code",
   "execution_count": 153,
   "metadata": {
    "collapsed": false
   },
   "outputs": [],
   "source": [
    "def obs_suiv(B0, A0):\n",
    "    seq_obs = []\n",
    "    seq_etats = seq_etats_f(A0)\n",
    "    for elem in seq_etats:\n",
    "        cumsum = B0[:,elem].cumsum()\n",
    "        rand = random.uniform(0, 1)\n",
    "        for i in range(len(cumsum)): \n",
    "            if cumsum[i] >= rand: \n",
    "                seq_obs.append(i)\n",
    "                break \n",
    "    return seq_obs\n"
   ]
  },
  {
   "cell_type": "code",
   "execution_count": 159,
   "metadata": {
    "collapsed": false
   },
   "outputs": [
    {
     "name": "stderr",
     "output_type": "stream",
     "text": [
      "C:\\Users\\Mohamed\\Anaconda3\\lib\\site-packages\\ipykernel\\__main__.py:2: VisibleDeprecationWarning: using a non-integer number instead of an integer will result in an error in the future\n",
      "  from ipykernel import kernelapp as app\n",
      "C:\\Users\\Mohamed\\Anaconda3\\lib\\site-packages\\ipykernel\\__main__.py:5: VisibleDeprecationWarning: using a non-integer number instead of an integer will result in an error in the future\n"
     ]
    },
    {
     "data": {
      "image/png": "[encoded data removed]",
      "text/plain": [
       "<matplotlib.figure.Figure at 0x226a2ce04e0>"
      ]
     },
     "metadata": {},
     "output_type": "display_data"
    }
   ],
   "source": [
    "def plot_number(A0, B0):\n",
    "    seq_etats = seq_etats_f(A0)\n",
    "    seq_obs = obs_suiv(B0,A0)\n",
    "    seq_obs = [elem + 1 for elem in seq_obs]\n",
    "    im=[]\n",
    "    plt.close()\n",
    "    # les x contiennent les index dans le dictionnaire \n",
    "    for t in range (0,len(seq_etats)) : \n",
    "        im_col=v[:, seq_obs[t]-1]\n",
    "        im.append(im_col)  \n",
    "\n",
    "    im = np.array(im).T  # now make an array  \n",
    "    plt.imshow(im*255, cmap='Greys', interpolation='none', aspect='auto') \n",
    "    plt.show()\n",
    "plot_number(A0, B0)"
   ]
  },
  {
   "cell_type": "code",
   "execution_count": 160,
   "metadata": {
    "collapsed": false
   },
   "outputs": [
    {
     "name": "stderr",
     "output_type": "stream",
     "text": [
      "C:\\Users\\Mohamed\\Anaconda3\\lib\\site-packages\\ipykernel\\__main__.py:2: VisibleDeprecationWarning: using a non-integer number instead of an integer will result in an error in the future\n",
      "  from ipykernel import kernelapp as app\n",
      "C:\\Users\\Mohamed\\Anaconda3\\lib\\site-packages\\ipykernel\\__main__.py:5: VisibleDeprecationWarning: using a non-integer number instead of an integer will result in an error in the future\n"
     ]
    },
    {
     "data": {
      "image/png": "[encoded data removed]",
      "text/plain": [
       "<matplotlib.figure.Figure at 0x226a2f71550>"
      ]
     },
     "metadata": {},
     "output_type": "display_data"
    }
   ],
   "source": [
    "plot_number(A7, B7)"
   ]
  },
  {
   "cell_type": "code",
   "execution_count": 161,
   "metadata": {
    "collapsed": false
   },
   "outputs": [
    {
     "name": "stderr",
     "output_type": "stream",
     "text": [
      "C:\\Users\\Mohamed\\Anaconda3\\lib\\site-packages\\ipykernel\\__main__.py:2: VisibleDeprecationWarning: using a non-integer number instead of an integer will result in an error in the future\n",
      "  from ipykernel import kernelapp as app\n",
      "C:\\Users\\Mohamed\\Anaconda3\\lib\\site-packages\\ipykernel\\__main__.py:5: VisibleDeprecationWarning: using a non-integer number instead of an integer will result in an error in the future\n"
     ]
    },
    {
     "data": {
      "image/png": "[encoded data removed]",
      "text/plain": [
       "<matplotlib.figure.Figure at 0x226a4127358>"
      ]
     },
     "metadata": {},
     "output_type": "display_data"
    }
   ],
   "source": [
    "plot_number(A1, B1)"
   ]
  },
  {
   "cell_type": "markdown",
   "metadata": {},
   "source": [
    "## Calcul de la vraisemblance de séquence d'observations"
   ]
  },
  {
   "cell_type": "code",
   "execution_count": 163,
   "metadata": {
    "collapsed": false
   },
   "outputs": [
    {
     "name": "stdout",
     "output_type": "stream",
     "text": [
      "[[  1.   1.   1.   1.   1.   1.  14.  14.  14.  23.  12.  12.  12.  12.\n",
      "   18.  18.  18.  18.  18.  18.  23.  23.  14.   1.   1.   1.   1.   1.]\n",
      " [  1.   1.   1.   1.   1.   4.  14.  23.  23.  23.  23.  12.  12.  18.\n",
      "   18.  18.  18.  18.  27.  23.  23.  11.   3.   1.   1.   1.   1.   1.]\n",
      " [  1.   1.   1.   1.   1.   4.  14.  14.  23.  23.  23.  23.  23.  23.\n",
      "   23.  23.  23.  23.  23.  23.  23.  11.  11.   4.   4.   1.   1.   1.]\n",
      " [  1.   1.   1.   1.   4.  14.  23.  23.  12.  12.  18.  18.  18.  18.\n",
      "   18.  18.   9.  18.  18.  12.  23.  23.  11.   1.   1.   1.   1.   1.]\n",
      " [  1.   1.   1.   1.   1.   1.  11.  11.  27.  27.  27.  27.  18.  18.\n",
      "   18.  18.  12.   5.  14.  14.  23.  23.  11.  11.   1.   1.   1.   1.]\n",
      " [  1.   1.   1.   1.   1.   1.   1.  14.  14.  23.  27.  27.  18.  18.\n",
      "   18.   9.  18.  18.  12.  23.  23.  23.   4.   1.   1.   1.   1.   1.]\n",
      " [  1.   1.   1.   1.   1.  14.  14.  14.  14.  23.  23.  23.  12.  12.\n",
      "   12.  23.  23.  23.  23.  23.  11.  11.  11.  11.  11.   1.   1.   1.]\n",
      " [  1.   1.   1.   1.   1.   1.   1.  14.  23.  23.  23.  18.  18.  18.\n",
      "   18.  18.  18.  27.  23.  23.  11.  11.   1.   1.   1.   1.   1.   1.]\n",
      " [  1.   1.   1.   1.   1.  14.  23.  23.  23.  23.  32.  28.  28.  28.\n",
      "   28.  28.  28.  12.  12.  12.  23.  23.  23.  23.   4.   1.   1.   1.]\n",
      " [  1.   1.   1.   1.   1.   1.   1.   1.   1.   1.  14.  23.  23.  23.\n",
      "   18.  18.  27.  27.  23.  11.   1.   1.   1.   1.   1.   1.   1.   1.]]\n"
     ]
    },
    {
     "data": {
      "text/plain": [
       "1.0"
      ]
     },
     "execution_count": 163,
     "metadata": {},
     "output_type": "execute_result"
    }
   ],
   "source": [
    "TestChiffres = np.loadtxt(\"data_txt_compact/SeqTest0.txt\")\n",
    "print(TestChiffres)\n",
    "nex = 2\n",
    "seq = TestChiffres[nex, :] \n",
    "seq[4] "
   ]
  }
 ],
 "metadata": {
  "kernelspec": {
   "display_name": "Python [conda root]",
   "language": "python",
   "name": "conda-root-py"
  },
  "language_info": {
   "codemirror_mode": {
    "name": "ipython",
    "version": 3
   },
   "file_extension": ".py",
   "mimetype": "text/x-python",
   "name": "python",
   "nbconvert_exporter": "python",
   "pygments_lexer": "ipython3",
   "version": "3.5.2"
  }
 },
 "nbformat": 4,
 "nbformat_minor": 2
}
