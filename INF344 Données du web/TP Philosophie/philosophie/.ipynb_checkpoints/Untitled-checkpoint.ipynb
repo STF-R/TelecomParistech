{
 "cells": [
  {
   "cell_type": "code",
   "execution_count": 116,
   "metadata": {
    "collapsed": false
   },
   "outputs": [
    {
     "name": "stdout",
     "output_type": "stream",
     "text": [
      "Ça fonctionne !\n",
      "('Histoire', ['Passé', 'Synecdoque', 'Historien', 'Passé', 'Vision_du_monde', 'Culture', 'Source_(information)', 'Spéculation', 'Idéologie', 'Méthode_historique'])\n"
     ]
    }
   ],
   "source": [
    "#!/usr/bin/python3\n",
    "# coding: utf8\n",
    "\n",
    "# Ne pas se soucier de ces imports\n",
    "import setpath\n",
    "from bs4 import BeautifulSoup\n",
    "from json import loads\n",
    "from urllib.request import urlopen\n",
    "from urllib.parse import urlencode\n",
    "from urllib.parse import unquote\n",
    "from urllib.parse import urldefrag\n",
    "from pprint import pprint\n",
    "\n",
    "\n",
    "# Si vous écrivez des fonctions en plus, faites-le ici\n",
    "\n",
    "\n",
    "def getJSON(page):\n",
    "    params = urlencode({\n",
    "      'format': 'json',  # TODO: compléter ceci\n",
    "      'action': 'parse',  # TODO: compléter ceci\n",
    "      'prop': 'text',  # TODO: compléter ceci\n",
    "      'redirects' : \"true\",\n",
    "      'page': page})\n",
    "    API = \"https://fr.wikipedia.org/w/api.php\"  # TODO: changer ceci\n",
    "    response = urlopen(API + \"?\" + params)\n",
    "    return response.read().decode('utf-8')\n",
    "\n",
    "\n",
    "def getRawPage(page):\n",
    "    parsed = loads(getJSON(page))\n",
    "    try:\n",
    "        title = parsed[\"parse\"][\"title\"]  # TODO: remplacer ceci\n",
    "        content = parsed[\"parse\"][\"text\"][\"*\"]  # TODO: remplacer ceci\n",
    "        return title, content\n",
    "    except KeyError:\n",
    "        # La page demandée n'existe pas\n",
    "        return None, None\n",
    "\n",
    "\n",
    "def getPage(page):\n",
    "    page = page.replace(\" \", \" \")\n",
    "    title, json = getRawPage(page)\n",
    "    soup = BeautifulSoup(json, 'html.parser')\n",
    "    liste_p = soup.find_all(\"p\", recursive=False)\n",
    "    liste_a=[]\n",
    "\n",
    "    for item in liste_p:\n",
    "        item.find_all(\"a\", href=True)\n",
    "        liste_a += [elem for elem in item.find_all(\"a\", href=True)]\n",
    "\n",
    "    new_list = []\n",
    "\n",
    "    for item in liste_a:\n",
    "        try: \n",
    "            if item[\"href\"].split(\"/\")[1]==\"wiki\":\n",
    "                new_list.append(unquote(item[\"href\"].split(\"/\")[2]).replace(\"_\", \" \"))\n",
    "        except:\n",
    "            continue\n",
    "    return title, new_list[:10]   # TODO: écrire ceci\n",
    "\n",
    "\n",
    "if __name__ == '__main__':\n",
    "    # Ce code est exécuté lorsque l'on exécute le fichier\n",
    "\n",
    "    print(\"Ça fonctionne !\")\n",
    "\n",
    "    # Voici des idées pour tester vos fonctions :\n",
    "    print(getPage(\"Histoire\"))\n",
    "    # print(getRawPage(\"Utilisateur:A3nm/INF344\"))\n",
    "    # print(getRawPage(\"Histoire\"))\n"
   ]
  },
  {
   "cell_type": "code",
   "execution_count": 120,
   "metadata": {
    "collapsed": false
   },
   "outputs": [
    {
     "data": {
      "text/plain": [
       "'Synecdoque'"
      ]
     },
     "execution_count": 120,
     "metadata": {},
     "output_type": "execute_result"
    }
   ],
   "source": [
    "urldefrag(\"Synecdoque\")[0]"
   ]
  }
 ],
 "metadata": {
  "kernelspec": {
   "display_name": "Python [conda root]",
   "language": "python",
   "name": "conda-root-py"
  },
  "language_info": {
   "codemirror_mode": {
    "name": "ipython",
    "version": 3
   },
   "file_extension": ".py",
   "mimetype": "text/x-python",
   "name": "python",
   "nbconvert_exporter": "python",
   "pygments_lexer": "ipython3",
   "version": "3.5.2"
  }
 },
 "nbformat": 4,
 "nbformat_minor": 2
}
