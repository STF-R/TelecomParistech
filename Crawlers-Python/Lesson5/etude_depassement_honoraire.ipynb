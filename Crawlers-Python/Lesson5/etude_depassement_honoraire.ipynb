{
 "cells": [
  {
   "cell_type": "code",
   "execution_count": 2,
   "metadata": {
    "collapsed": true
   },
   "outputs": [],
   "source": [
    "import requests\n",
    "from bs4 import BeautifulSoup\n",
    "import pandas as pd\n",
    "import re\n",
    "import numpy as np\n"
   ]
  },
  {
   "cell_type": "code",
   "execution_count": 3,
   "metadata": {
    "collapsed": false
   },
   "outputs": [
    {
     "name": "stderr",
     "output_type": "stream",
     "text": [
      "C:\\Users\\Mohamed\\Anaconda3\\lib\\site-packages\\IPython\\core\\interactiveshell.py:2717: DtypeWarning: Columns (7) have mixed types. Specify dtype option on import or set low_memory=False.\n",
      "  interactivity=interactivity, compiler=compiler, result=result)\n"
     ]
    }
   ],
   "source": [
    "df = pd.read_csv('\\\\Users\\Mohamed\\MS BGD\\\\toolkit Big Data\\hackathon\\R2015AL\\R201501.CSV', delimiter=\";\", encoding = \"ISO-8859-1\")"
   ]
  },
  {
   "cell_type": "code",
   "execution_count": 83,
   "metadata": {
    "collapsed": false
   },
   "outputs": [
    {
     "name": "stdout",
     "output_type": "stream",
     "text": [
      "Index(['l_cpam', 'l_dpt', 'l_region', 'l_asu_nat', 'cpl_cod', 'l_pre_spe',\n",
      "       'rem_mon', 'rec_mon', 'dep_mon'],\n",
      "      dtype='object')\n",
      "['NORD PAS DE CALAIS PICARDIE' 'LANGUEDOC ROUSSILLON MIDI PYRÉNÉES'\n",
      " 'CENTRE VAL DE LOIRE' 'ALSACE CHAMPAGNE ARDENNE LORRAINE' 'ILE DE FRANCE'\n",
      " 'AQUITAINE LIMOUSIN POITOU CHARENTES' 'PAYS DE LA LOIRE' 'RHONE ALPES'\n",
      " 'BOURGOGNE FRANCHE COMTÉ' 'NORMANDIE' 'BRETAGNE' 'GUADELOUPE'\n",
      " \"PROVENCE ALPES COTE D'AZUR\" 'MARTINIQUE' 'CORSE' 'AUVERGNE RHÔNE ALPES'\n",
      " 'GUYANE' 'REUNION' 'MAYOTTE']\n",
      "['Omnipraticiens' 'Spécialité Inconnue' 'Chirurgie'\n",
      " 'Pathologie cardio-vasculaire' 'Anesthésie-réanimation chirurgicale'\n",
      " 'Ophtalmologie' 'Dermatologie et vénérologie' 'Oto-rhino laryngologie'\n",
      " 'Gastro-entérologie et hépatologie' 'Stomatologie' 'Médecine Interne'\n",
      " 'Rhumatologie' 'Radiologie' 'Gynécologie' 'Pneumologie' 'Endocrinologie'\n",
      " 'Pédiatrie' 'Néphrologie' 'Anatomie-cytologie-pathologique' 'Gériatrie'\n",
      " 'Médecine physique et de réanimation' 'Santé publique et Médecine Sociale'\n",
      " 'Médecin biologiste' 'Psychiatrie' 'Neurologie' 'Chirurgie dentaire'\n",
      " 'Chirurgie dentaire spécialistes' 'Sages-femmes' 'Infirmier'\n",
      " 'Masseur-kinésithérapeute']\n"
     ]
    }
   ],
   "source": [
    "dfclean = df.drop([\"cpam\",  \"dpt\", \"region\", \"l_serie\", \"SERIE\", \"l_prs_nat\",\\\n",
    " \"asu_nat\", \"l_cpl_cod\", \"ben_qlt\", \"l_ben_qlt\", \"l_pre_spe1\", \"pre_spe\", \\\n",
    " \"pre_stj1\", \"exe_spe\", \"l_exe_spe\", \"exe_spe1\",\"exe_stj1\", \"top_slm\",\\\n",
    "  \"l_top_slm\", \"l_exe_stj1\", \"prs_nat\", \"sns_date\", \"pre_spe1\", \"act_dnb\",\\\n",
    "              \"act_coe\", \"l_pre_stj1\", \"l_exe_stj1\", \"l_exe_spe1\", \"REM_TAU\"], axis=1)\n",
    "print(dfclean.columns)\n",
    "dfclean[\"l_pre_spe\"] = dfclean[\"l_pre_spe\"].apply(lambda x : x[3:].replace(\"TOTAL \", \"\").strip())\n",
    "dfclean[\"l_region\"] = dfclean[\"l_region\"].apply(lambda x : x[3:].strip())\n",
    "\n",
    "dfclean[\"l_region\"] = dfclean[\"l_region\"].apply(lambda x : \"Alsace-Champagne-Ardenne-Lorraine\" if \"LORRAINE\" in x or \"ALSACE\" in x or \"CHAMPAGNE ARDENNE\" in x else x)\n",
    "dfclean[\"l_region\"] = dfclean[\"l_region\"].apply(lambda x : \"Normandie\" if \"NORMANDIE\" in x else x)\n",
    "dfclean[\"l_region\"] = dfclean[\"l_region\"].apply(lambda x : \"Aquitaine-Limousin-Poitou-Charentes\" if \"AQUITAINE\" in x or \"LIMOUSIN\" in x or \"POITOU CHARENTES\" in x else x)\n",
    "dfclean[\"l_region\"] = dfclean[\"l_region\"].apply(lambda x : \"Auvergne-Rhône-Alpes\" if \"AUVERGNE\" in x or \"RHONES ALPES\" in x else x)\n",
    "dfclean[\"l_region\"] = dfclean[\"l_region\"].apply(lambda x : \"Bourgogne-Franche-Comté\" if \"BOURGOGNE\" in x or \"FRANCHE COMTE\" in x else x)\n",
    "dfclean[\"l_region\"] = dfclean[\"l_region\"].apply(lambda x : \"Centre-Val de Loire\" if \"CENTRE\" in x else x)\n",
    "dfclean[\"l_region\"] = dfclean[\"l_region\"].apply(lambda x : \"Languedoc-Roussillon-Midi-Pyrénées\" if \"LANGUEDOC ROUSSILLON\" in x or \"MIDI PYRENEES\" in x else x)\n",
    "dfclean[\"l_region\"] = dfclean[\"l_region\"].apply(lambda x : \"Nord-Pas-de-Calais-Picardie\" if \"NORD PAS DE CALAIS\" in x or \"PICARDIE\" in x else x)\n",
    "dfclean[\"l_region\"] = dfclean[\"l_region\"].apply(lambda x : x.replace(\"-\", \" \").upper())\n",
    "dfclean = dfclean.rename(columns = {'l_region' : \"REGION\"})\n",
    "dfclean = dfclean.rename(columns = {'l_pre_spe' : \"SPECIALITE\"})\n",
    "\n",
    "print(dfclean[\"REGION\"].unique())\n",
    "print(dfclean[\"SPECIALITE\"].unique())"
   ]
  },
  {
   "cell_type": "code",
   "execution_count": 84,
   "metadata": {
    "collapsed": false
   },
   "outputs": [
    {
     "name": "stdout",
     "output_type": "stream",
     "text": [
      "                              REGION                           SPECIALITE  \\\n",
      "0  ALSACE CHAMPAGNE ARDENNE LORRAINE      Anatomie-cytologie-pathologique   \n",
      "1  ALSACE CHAMPAGNE ARDENNE LORRAINE  Anesthésie-réanimation chirurgicale   \n",
      "2  ALSACE CHAMPAGNE ARDENNE LORRAINE                            Chirurgie   \n",
      "3  ALSACE CHAMPAGNE ARDENNE LORRAINE                   Chirurgie dentaire   \n",
      "4  ALSACE CHAMPAGNE ARDENNE LORRAINE      Chirurgie dentaire spécialistes   \n",
      "\n",
      "       dep_mon  \n",
      "0     43521.87  \n",
      "1   1046063.44  \n",
      "2   3470705.29  \n",
      "3  20863020.92  \n",
      "4   5474843.95  \n"
     ]
    }
   ],
   "source": [
    "dfclean[\"dep_mon\"] = dfclean[\"dep_mon\"].apply(lambda x : float(x.replace(\".\", \"\").replace(\",\", \".\")))\n",
    "groupedDfClean = dfclean.groupby([\"REGION\", \"SPECIALITE\"], as_index=False)[\"dep_mon\"].sum()\n",
    "\n",
    "print(groupedDfClean.head(5))\n"
   ]
  },
  {
   "cell_type": "code",
   "execution_count": 118,
   "metadata": {
    "collapsed": false
   },
   "outputs": [
    {
     "name": "stdout",
     "output_type": "stream",
     "text": [
      "Index(['SEXE', 'AGE', 'ANNEE', 'REGION', 'SPECIALITE', 'Effectif'], dtype='object')\n",
      "                     REGION ACTIVITE                           SPECIALITE  \\\n",
      "0  ALSACE CHAMPAGNE ARDENNE LORRAINE      Anatomie-cytologie-pathologique   \n",
      "1  ALSACE CHAMPAGNE ARDENNE LORRAINE  Anesthésie-réanimation chirurgicale   \n",
      "2  ALSACE CHAMPAGNE ARDENNE LORRAINE  Cardiologie et maladies vasculaires   \n",
      "3  ALSACE CHAMPAGNE ARDENNE LORRAINE                            Chirurgie   \n",
      "4  ALSACE CHAMPAGNE ARDENNE LORRAINE         Dermatologie et vénéréologie   \n",
      "\n",
      "   Effectif  \n",
      "0       107  \n",
      "1       936  \n",
      "2       567  \n",
      "3       965  \n",
      "4       306  \n"
     ]
    }
   ],
   "source": [
    "dfMed = pd.read_csv(\"C:\\\\Users\\Mohamed\\MS BGD\\\\toolkit Big Data\\hackathon\\EffectifMedecins.CSV\", delimiter= \",\", encoding = \"ISO-8859-1\", skiprows =3)\n",
    "dfMed = dfMed.rename(columns={'Unnamed: 5' : 'Effectif'})\n",
    "dfMed = dfMed[dfMed.SEXE.str.contains(\"confondus\") == False]\n",
    "dfMed = dfMed[dfMed.AGE.str.contains(\"confondus\") == False]\n",
    "dfMed = dfMed[dfMed['REGION ACTIVITE'] != \"FRANCE ENTIERE\"]\n",
    "dfMed = dfMed[dfMed['REGION ACTIVITE'] != \"FRANCE Métropolitaine\"]\n",
    "dfMed = dfMed[dfMed.SPECIALITE.str.contains(\"Ensemble\") == False]\n",
    "dfMed = dfMed[dfMed.SPECIALITE.str.contains(\"Spécialistes\") == False]\n",
    "dfMed = dfMed[dfMed['ANNEE'] == 2015]\n",
    "\n",
    "dfMed[\"SPECIALITE\"] = dfMed[\"SPECIALITE\"].apply(lambda x : \"Chirurgie\" if \"Chirurgie\" in x else x)\n",
    "dfMed[\"SPECIALITE\"] = dfMed[\"SPECIALITE\"].apply(lambda x : \"Gynécologie\" if \"Gynécologie\" in x else x)\n",
    "dfMed[\"SPECIALITE\"] = dfMed[\"SPECIALITE\"].apply(lambda x : \"Pathologie cardio-vasculaire\" if \"cardio\" in x else x)\n",
    "dfMed[\"SPECIALITE\"] = dfMed[\"SPECIALITE\"].apply(lambda x : \"Anesthésie-réanimation chirurgicale\" if \"Anesthésie\" in x else x)\n",
    "dfMed[\"SPECIALITE\"] = dfMed[\"SPECIALITE\"].apply(lambda x : \"Oto-rhino laryngologie\" if \"ORL\" in x else x)\n",
    "dfMed[\"SPECIALITE\"] = dfMed[\"SPECIALITE\"].apply(lambda x : \"Stomatologie\" if \"stomato\" in x else x)\n",
    "dfMed[\"SPECIALITE\"] = dfMed[\"SPECIALITE\"].apply(lambda x : \"Radiologie\" if \"Radio\" in x else x)\n",
    "dfMed[\"SPECIALITE\"] = dfMed[\"SPECIALITE\"].apply(lambda x : \"Endocrinologie\" if \"Endocrinolo\" in x else x)\n",
    "dfMed[\"SPECIALITE\"] = dfMed[\"SPECIALITE\"].apply(lambda x : \"Anatomie-cytologie-pathologique\" if \"Anatomie\" in x else x)\n",
    "dfMed[\"SPECIALITE\"] = dfMed[\"SPECIALITE\"].apply(lambda x : \"Médecin biologiste\" if \"Biologie\" in x else x)\n",
    "dfMed[\"REGION ACTIVITE\"] = dfMed[\"REGION ACTIVITE\"].apply(lambda x : x.replace(\"-\", \" \").upper())\n",
    "\n",
    "dfMed = dfMed.rename(columns = {\"REGION ACTIVITE\" : \"REGION\"})\n",
    "print(dfMed.columns)\n",
    "new_index = (np.arange(len(dfMed[\"SEXE\"])))\n",
    "dfMed = dfMed.set_index(new_index)\n",
    "\n",
    "groupedMed = dfMed.groupby(['REGION','SPECIALITE'], as_index=False)\n",
    "groupedMed = groupedMed[\"Effectif\"].sum()\n",
    "\n",
    "print(grouped.head(5))"
   ]
  },
  {
   "cell_type": "code",
   "execution_count": 172,
   "metadata": {
    "collapsed": false
   },
   "outputs": [
    {
     "name": "stdout",
     "output_type": "stream",
     "text": [
      "['ALSACE CHAMPAGNE ARDENNE LORRAINE' 'AQUITAINE LIMOUSIN POITOU CHARENTES'\n",
      " 'AUVERGNE RHONE ALPES' 'BOURGOGNE FRANCHE COMTE' 'BRETAGNE'\n",
      " 'CENTRE VAL DE LOIRE' 'CORSE' 'ILE DE FRANCE'\n",
      " 'LANGUEDOC ROUSSILLON MIDI PYRENEES' 'NORD PAS DE CALAIS PICARDIE'\n",
      " 'NORMANDIE' 'PAYS DE LA LOIRE' \"PROVENCE ALPES COTE D'AZUR\"\n",
      " 'FRANCE METROPOLITAINE' 'GUADELOUPE ' 'MARTINIQUE ' 'GUYANE' 'LA REUNION'\n",
      " 'MAYOTTE' 'DOM' 'FRANCE METROPOLITAINE ET DOM' 'NAN'\n",
      " 'SOURCE : INSEE   ESTIMATIONS DE POPULATION (RESULTATS PROVISOIRES ARRÊTES FIN 2015).']\n",
      "                                         dep_mon  Effectif  0 à 19 ans  \\\n",
      "REGION                                                                   \n",
      "MAYOTTE                                 19410.51        55   2101064.0   \n",
      "BRETAGNE                              1776413.88      4004  13463065.0   \n",
      "GUYANE                                 114329.31       166   1831104.0   \n",
      "NORMANDIE                             3543942.20      3873  13923289.0   \n",
      "PAYS DE LA LOIRE                      3841188.06      4083  16112039.0   \n",
      "AQUITAINE LIMOUSIN POITOU CHARENTES   9208559.52      7664  22273400.0   \n",
      "NORD PAS DE CALAIS PICARDIE           8968669.25      7019  26951239.0   \n",
      "CORSE                                  511783.79       367   1141703.0   \n",
      "ALSACE CHAMPAGNE ARDENNE LORRAINE    10306590.24      7125  22353980.0   \n",
      "CENTRE VAL DE LOIRE                   4074339.08      2807  10525380.0   \n",
      "ILE DE FRANCE                        63017070.07     23345  53267069.0   \n",
      "\n",
      "                                     20 à 39 ans  40 à 59 ans  60 à 74 ans  \\\n",
      "REGION                                                                       \n",
      "MAYOTTE                                1045381.0     550324.0     124593.0   \n",
      "BRETAGNE                              12438237.0   14970965.0    9267822.0   \n",
      "GUYANE                                 1231956.0     921332.0     267002.0   \n",
      "NORMANDIE                             12787128.0   15216377.0    9250873.0   \n",
      "PAYS DE LA LOIRE                      14527316.0   16614032.0    9848967.0   \n",
      "AQUITAINE LIMOUSIN POITOU CHARENTES   21707725.0   27299841.0   17752947.0   \n",
      "NORD PAS DE CALAIS PICARDIE           25247635.0   27021313.0   14717070.0   \n",
      "CORSE                                  1311210.0    1550145.0     969289.0   \n",
      "ALSACE CHAMPAGNE ARDENNE LORRAINE     22676657.0   26052738.0   14814735.0   \n",
      "CENTRE VAL DE LOIRE                    9553796.0   11796640.0    7391719.0   \n",
      "ILE DE FRANCE                         58324331.0   54290520.0   25626361.0   \n",
      "\n",
      "                                     75 ans et plus        Total  \\\n",
      "REGION                                                             \n",
      "MAYOTTE                                     36193.0    3857555.0   \n",
      "BRETAGNE                                  5863045.0   56003134.0   \n",
      "GUYANE                                      75803.0    4327197.0   \n",
      "NORMANDIE                                 5511502.0   56689169.0   \n",
      "PAYS DE LA LOIRE                          6070802.0   63173156.0   \n",
      "AQUITAINE LIMOUSIN POITOU CHARENTES      11348418.0  100382331.0   \n",
      "NORD PAS DE CALAIS PICARDIE               8179244.0  102116501.0   \n",
      "CORSE                                      584919.0    5557266.0   \n",
      "ALSACE CHAMPAGNE ARDENNE LORRAINE         8628775.0   94526885.0   \n",
      "CENTRE VAL DE LOIRE                       4632823.0   43900358.0   \n",
      "ILE DE FRANCE                            13748257.0  205256538.0   \n",
      "\n",
      "                                     Depassement/eff  \n",
      "REGION                                                \n",
      "MAYOTTE                                   352.918364  \n",
      "BRETAGNE                                  443.659810  \n",
      "GUYANE                                    688.730783  \n",
      "NORMANDIE                                 915.038007  \n",
      "PAYS DE LA LOIRE                          940.775915  \n",
      "AQUITAINE LIMOUSIN POITOU CHARENTES      1201.534384  \n",
      "NORD PAS DE CALAIS PICARDIE              1277.770231  \n",
      "CORSE                                    1394.506240  \n",
      "ALSACE CHAMPAGNE ARDENNE LORRAINE        1446.538981  \n",
      "CENTRE VAL DE LOIRE                      1451.492369  \n",
      "ILE DE FRANCE                            2699.381883  \n",
      "                                         dep_mon  Effectif  Depassement/eff\n",
      "SPECIALITE                                                                 \n",
      "Médecin biologiste                       1412.17      2617         0.539614\n",
      "Néphrologie                             34278.28      1449        23.656508\n",
      "Gériatrie                               48065.85      1557        30.870809\n",
      "Pneumologie                            485482.45      2657       182.718272\n",
      "Neurologie                             703306.99      2188       321.438295\n",
      "Pédiatrie                             4088504.78      7038       580.918554\n",
      "Psychiatrie                           8162627.33     13490       605.087274\n",
      "Anatomie-cytologie-pathologique        859340.93      1405       611.630555\n",
      "Endocrinologie                        1097707.83      1633       672.203203\n",
      "Gastro-entérologie et hépatologie     2708276.30      3259       831.014514\n",
      "Anesthésie-réanimation chirurgicale  11277627.22      9880      1141.460245\n",
      "Rhumatologie                          3120055.52      2363      1320.378976\n",
      "Radiologie                           11149174.62      8441      1320.835756\n",
      "Oto-rhino laryngologie                5084769.06      2715      1872.843116\n",
      "Gynécologie                          17220451.28      7075      2433.986047\n",
      "Chirurgie                            32204280.44     10909      2952.083641\n",
      "Ophtalmologie                        20558623.31      5252      3914.437035\n",
      "[[ 1.          0.88362084]\n",
      " [ 0.88362084  1.        ]]\n",
      "            REGION     SPECIALITE     dep_mon  Effectif  Depassement/eff\n",
      "163  ILE DE FRANCE  Ophtalmologie  8782561.55      1510      5816.265927\n"
     ]
    },
    {
     "name": "stderr",
     "output_type": "stream",
     "text": [
      "C:\\Users\\Mohamed\\Anaconda3\\lib\\site-packages\\ipykernel\\__main__.py:26: SettingWithCopyWarning: \n",
      "A value is trying to be set on a copy of a slice from a DataFrame.\n",
      "Try using .loc[row_indexer,col_indexer] = value instead\n",
      "\n",
      "See the caveats in the documentation: http://pandas.pydata.org/pandas-docs/stable/indexing.html#indexing-view-versus-copy\n"
     ]
    }
   ],
   "source": [
    "import unicodedata\n",
    "\n",
    "joinedDf = pd.merge(groupedDfClean, groupedMed, how='inner', on=['REGION','SPECIALITE'])\n",
    "\n",
    "densitePop = pd.read_excel(\"C:\\\\Users\\Mohamed\\MS BGD\\\\toolkit Big Data\\hackathon\\estim-pop-reg-sexe-gca-1975-2015.xlsx\", sheetname=\"2015\", skiprows=4)\n",
    "densitePop = densitePop.rename(columns = {\"Unnamed: 0\" : \"REGION\"})\n",
    "densitePop = densitePop.drop(densitePop.columns[7:-1], axis=1)\n",
    "densitePop = densitePop.drop(densitePop.columns[-1], axis=1)\n",
    "densitePop[\"REGION\"] = densitePop[\"REGION\"].apply(lambda x : str(x).replace(\"-\", \" \").replace(\"é\", \"e\").replace(\"ô\", \"o\").replace(\"Î\", \"i\").upper())\n",
    "\n",
    "joinedWPopReg = pd.merge(joinedDf, densitePop, how = 'inner', on = \"REGION\")\n",
    "\n",
    "joinedDfByRegion = joinedWPopReg.groupby('REGION', as_index=False).sum()\n",
    "joinedDfBySpec = joinedDf.groupby('SPECIALITE', as_index=False).sum()\n",
    "joinedDfBySpec[\"Depassement/eff\"] = joinedDfBySpec[\"dep_mon\"]/joinedDfBySpec[\"Effectif\"]\n",
    "joinedDfByRegion[\"Depassement/eff\"] = joinedDfByRegion[\"dep_mon\"]/joinedDfByRegion[\"Effectif\"]\n",
    "joinedDfByRegion = joinedDfByRegion.set_index([\"REGION\"])\n",
    "joinedDfBySpec = joinedDfBySpec.set_index([\"SPECIALITE\"])\n",
    "print(joinedDfByRegion.sort_values(['Depassement/eff']))\n",
    "print(joinedDfBySpec.sort_values(['Depassement/eff'])) \n",
    "print(np.corrcoef(joinedDfByRegion[\"dep_mon\"], joinedDfByRegion[\"Total\"]))\n",
    " \n",
    "parisOphtalmo = (joinedDf[(joinedDf[\"REGION\"] == \"ILE DE FRANCE\") & (joinedDf[\"SPECIALITE\"] == \"Ophtalmologie\")])\n",
    "parisOphtalmo[\"Depassement/eff\"] = parisOphtalmo[\"dep_mon\"]/parisOphtalmo[\"Effectif\"]\n",
    "print(parisOphtalmo)\n"
   ]
  }
 ],
 "metadata": {
  "anaconda-cloud": {},
  "kernelspec": {
   "display_name": "Python [conda root]",
   "language": "python",
   "name": "conda-root-py"
  },
  "language_info": {
   "codemirror_mode": {
    "name": "ipython",
    "version": 3
   },
   "file_extension": ".py",
   "mimetype": "text/x-python",
   "name": "python",
   "nbconvert_exporter": "python",
   "pygments_lexer": "ipython3",
   "version": "3.5.2"
  }
 },
 "nbformat": 4,
 "nbformat_minor": 1
}
