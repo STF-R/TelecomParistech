{
 "cells": [
  {
   "cell_type": "markdown",
   "metadata": {},
   "source": [
    "# TP SVM 16/12/2016"
   ]
  },
  {
   "cell_type": "markdown",
   "metadata": {},
   "source": [
    "## Imports"
   ]
  },
  {
   "cell_type": "code",
   "execution_count": 4,
   "metadata": {
    "collapsed": false
   },
   "outputs": [
    {
     "data": {
      "text/plain": [
       "{'axes.axisbelow': True,\n",
       " 'axes.edgecolor': '.15',\n",
       " 'axes.facecolor': 'white',\n",
       " 'axes.grid': False,\n",
       " 'axes.labelcolor': '.15',\n",
       " 'axes.linewidth': 1.25,\n",
       " 'figure.facecolor': 'white',\n",
       " 'font.family': ['sans-serif'],\n",
       " 'font.sans-serif': ['Arial',\n",
       "  'Liberation Sans',\n",
       "  'Bitstream Vera Sans',\n",
       "  'sans-serif'],\n",
       " 'grid.color': '.8',\n",
       " 'grid.linestyle': '-',\n",
       " 'image.cmap': 'Greys',\n",
       " 'legend.frameon': False,\n",
       " 'legend.numpoints': 1,\n",
       " 'legend.scatterpoints': 1,\n",
       " 'lines.solid_capstyle': 'round',\n",
       " 'text.color': '.15',\n",
       " 'xtick.color': '.15',\n",
       " 'xtick.direction': 'out',\n",
       " 'xtick.major.size': 0.0,\n",
       " 'xtick.minor.size': 0.0,\n",
       " 'ytick.color': '.15',\n",
       " 'ytick.direction': 'out',\n",
       " 'ytick.major.size': 0.0,\n",
       " 'ytick.minor.size': 0.0}"
      ]
     },
     "execution_count": 4,
     "metadata": {},
     "output_type": "execute_result"
    }
   ],
   "source": [
    "import pandas as pd\n",
    "import numpy as np\n",
    "import matplotlib.pyplot as plt\n",
    "import seaborn as sns\n",
    "from matplotlib import rc\n",
    "from svm_source import frontiere, rand_gauss, rand_bi_gauss, plot_2d\n",
    "\n",
    "from sklearn import svm\n",
    "from sklearn.svm import SVC\n",
    "from sklearn import datasets\n",
    "\n",
    "plt.close('all')\n",
    "rc('font', **{'family': 'sans-serif', 'sans-serif': ['Computer Modern Roman']})\n",
    "params = {'axes.labelsize': 12,\n",
    "          'font.size': 16,\n",
    "          'legend.fontsize': 16,\n",
    "          'text.usetex': False,\n",
    "          'figure.figsize': (8, 6)}\n",
    "plt.rcParams.update(params)\n",
    "\n",
    "sns.set_context(\"poster\")\n",
    "sns.set_palette(\"colorblind\")\n",
    "sns.set_style(\"white\")\n",
    "sns.axes_style()"
   ]
  },
  {
   "cell_type": "markdown",
   "metadata": {},
   "source": [
    "### Question 1 : Noyau linéaire"
   ]
  },
  {
   "cell_type": "code",
   "execution_count": 12,
   "metadata": {
    "collapsed": false
   },
   "outputs": [
    {
     "name": "stdout",
     "output_type": "stream",
     "text": [
      "[1 1 1 1 1 1 1 1 1 1 1 1 1 1 1 1 1 1 1 1 1 1 1 1 1 1 1 1 1 1 1 1 1 1 1 1 1\n",
      " 1 1 1 1 1 1 1 1 1 1 1 1 1 2 2 2 2 2 2 2 2 2 2 2 2 2 2 2 2 2 2 2 2 2 2 2 2\n",
      " 2 2 2 2 2 2 2 2 2 2 2 2 2 2 2 2 2 2 2 2 2 2 2 2 2 2]\n"
     ]
    },
    {
     "data": {
      "text/plain": [
       "0.73999999999999999"
      ]
     },
     "execution_count": 12,
     "metadata": {},
     "output_type": "execute_result"
    }
   ],
   "source": [
    "from sklearn import datasets\n",
    "iris = datasets.load_iris()\n",
    "X = iris.data\n",
    "y = iris.target\n",
    "X = X[y != 0, :2]\n",
    "y = y[y != 0]\n",
    "print(y)\n",
    "\n",
    "clf = SVC(kernel= \"linear\")\n",
    "clf.fit(X[::2],y[::2])\n",
    "clf.score(X[1::2], y[1::2])"
   ]
  },
  {
   "cell_type": "markdown",
   "metadata": {},
   "source": [
    "### Question 2 : Noyau polynomial "
   ]
  },
  {
   "cell_type": "code",
   "execution_count": 14,
   "metadata": {
    "collapsed": false
   },
   "outputs": [
    {
     "data": {
      "text/plain": [
       "0.71999999999999997"
      ]
     },
     "execution_count": 14,
     "metadata": {},
     "output_type": "execute_result"
    }
   ],
   "source": [
    "clf = SVC(kernel=\"poly\")\n",
    "clf.fit(X[::2],y[::2])\n",
    "clf.score(X[1::2], y[1::2])"
   ]
  },
  {
   "cell_type": "markdown",
   "metadata": {},
   "source": [
    "### Question 3 : "
   ]
  },
  {
   "cell_type": "markdown",
   "metadata": {},
   "source": [
    "Il faut remplacer la contrainte $ y y_{pred} > 1 - \\xi_i $ dans l'expression "
   ]
  },
  {
   "cell_type": "markdown",
   "metadata": {},
   "source": [
    "### Question 4 : "
   ]
  },
  {
   "cell_type": "markdown",
   "metadata": {},
   "source": [
    "On peut réécrire le problème de cette manière : $ min \\frac{1}{2} ||w||^2 + C \\sum_{i=1}^n max(0,1-y_iy_{ipred})$"
   ]
  },
  {
   "cell_type": "markdown",
   "metadata": {},
   "source": [
    "### Question 5 : "
   ]
  },
  {
   "cell_type": "markdown",
   "metadata": {},
   "source": [
    "0.0001 : 59.8\n",
    "\n",
    "0.001 : 59.8\n",
    "\n",
    "0.01 : 59.8\n",
    "\n",
    "0.1 : 67.2\n",
    "\n",
    "1 : 90.4\n",
    "\n",
    "10 : 96\n",
    "\n",
    "100 : 98.3\n",
    "\n",
    "1000 : 98.87\n",
    "\n",
    "Plus le paramètre C est grand, plus celui ci va avoir tendance à coller aux données. Plus le C est grand, plus on pénalise les erreurs et on diminue la marge"
   ]
  },
  {
   "cell_type": "code",
   "execution_count": null,
   "metadata": {
    "collapsed": true
   },
   "outputs": [],
   "source": [
    "from time import time\n",
    "import pylab as pl\n",
    "\n",
    "from sklearn.cross_validation import train_test_split\n",
    "from sklearn.datasets import fetch_lfw_people\n",
    "\n",
    "\n",
    "####################################################################\n",
    "# Download the data (if not already on disk); load it as numpy arrays\n",
    "lfw_people = fetch_lfw_people(min_faces_per_person=70, resize=0.4,\n",
    "                              color=True, funneled=False, slice_=None,\n",
    "                              download_if_missing=True)"
   ]
  },
  {
   "cell_type": "code",
   "execution_count": 19,
   "metadata": {
    "collapsed": false
   },
   "outputs": [
    {
     "name": "stdout",
     "output_type": "stream",
     "text": [
      "(1288, 100, 100, 3)\n",
      "Fitting the classifier to the training set\n"
     ]
    },
    {
     "name": "stderr",
     "output_type": "stream",
     "text": [
      "C:\\Users\\Mohamed\\Anaconda3\\lib\\site-packages\\ipykernel\\__main__.py:44: VisibleDeprecationWarning: using a non-integer number instead of an integer will result in an error in the future\n"
     ]
    },
    {
     "name": "stdout",
     "output_type": "stream",
     "text": [
      "Predicting the people names on the testing set\n",
      "done in 0.000s\n",
      "Chance level : 0.621052631579\n",
      "Accuracy : 0.873684210526\n"
     ]
    }
   ],
   "source": [
    "# data_home='.'\n",
    "\n",
    "\n",
    "# introspect the images arrays to find the shapes (for plotting)\n",
    "images = lfw_people.images / 255.\n",
    "print(images.shape)\n",
    "n_samples, h, w, n_colors = images.shape\n",
    "\n",
    "# the label to predict is the id of the person\n",
    "target_names = lfw_people.target_names.tolist()\n",
    "\n",
    "####################################################################\n",
    "# Pick a pair to classify such as\n",
    "names = ['Tony Blair', 'Colin Powell']\n",
    "# names = ['Donald Rumsfeld', 'Colin Powell']\n",
    "\n",
    "idx0 = (lfw_people.target == target_names.index(names[0]))\n",
    "idx1 = (lfw_people.target == target_names.index(names[1]))\n",
    "images = np.r_[images[idx0], images[idx1]]\n",
    "n_samples = images.shape[0]\n",
    "y = np.r_[np.zeros(np.sum(idx0)), np.ones(np.sum(idx1))].astype(np.int)\n",
    "\n",
    "####################################################################\n",
    "# Extract features\n",
    "\n",
    "# features using only illuminations\n",
    "X = (np.mean(images, axis=3)).reshape(n_samples, -1)\n",
    "\n",
    "# # or compute features using colors (3 times more features)\n",
    "# X = images.copy().reshape(n_samples, -1)\n",
    "\n",
    "# Scale features\n",
    "X -= np.mean(X, axis=0)\n",
    "X /= np.std(X, axis=0)\n",
    "\n",
    "####################################################################\n",
    "# Split data into a half training and half test set\n",
    "# X_train, X_test, y_train, y_test, images_train, images_test = \\\n",
    "#    train_test_split(X, y, images, test_size=0.5, random_state=0)\n",
    "# X_train, X_test, y_train, y_test = \\\n",
    "#    train_test_split(X, y, test_size=0.5, random_state=0)\n",
    "\n",
    "indices = np.random.permutation(X.shape[0])\n",
    "train_idx, test_idx = indices[:X.shape[0] / 2], indices[X.shape[0] / 2:]\n",
    "X_train, X_test = X[train_idx, :], X[test_idx, :]\n",
    "y_train, y_test = y[train_idx], y[test_idx]\n",
    "images_train, images_test = images[\n",
    "    train_idx, :, :, :], images[test_idx, :, :, :]\n",
    "\n",
    "####################################################################\n",
    "# Quantitative evaluation of the model quality on the test set\n",
    "print (\"Fitting the classifier to the training set\")\n",
    "t0 = time()\n",
    "\n",
    "\n",
    "#TODO : fit a classifier, \n",
    "clf = SVC()\n",
    "clf.fit(X_train, y_train)\n",
    "\n",
    "\n",
    "print (\"Predicting the people names on the testing set\")\n",
    "t0 = time()\n",
    "\n",
    "# TODO : predict labels for the X_test images\n",
    "\n",
    "print (\"done in %0.3fs\" % (time() - t0))\n",
    "print (\"Chance level : %s\" % max(np.mean(y), 1. - np.mean(y)))\n",
    "print (\"Accuracy : %s\" % clf.score(X_test, y_test))\n",
    "\n",
    "\n"
   ]
  },
  {
   "cell_type": "code",
   "execution_count": null,
   "metadata": {
    "collapsed": true
   },
   "outputs": [],
   "source": [
    "#QUESTION 5 : TODO : try various values for C in the SVC function and plot the error curve\n",
    "\n",
    "####################################################################\n",
    "# Look at the coefficients\n",
    "pl.figure()\n",
    "pl.imshow(np.reshape(clf.coef_, (h, w)))\n",
    "\n",
    "####################################################################\n",
    "# Qualitative evaluation of the predictions using matplotlib\n",
    "\n",
    "\n",
    "def plot_gallery(images, titles, n_row=3, n_col=4):\n",
    "    \"\"\"Helper function to plot a gallery of portraits\"\"\"\n",
    "    pl.figure(figsize=(1.8 * n_col, 2.4 * n_row))\n",
    "    pl.subplots_adjust(bottom=0, left=.01, right=.99, top=.90,\n",
    "                       hspace=.35)\n",
    "    for i in range(n_row * n_col):\n",
    "        pl.subplot(n_row, n_col, i + 1)\n",
    "        pl.imshow(images[i])\n",
    "        pl.title(titles[i], size=12)\n",
    "        pl.xticks(())\n",
    "        pl.yticks(())\n",
    "\n",
    "\n",
    "def title(y_pred, y_test, names):\n",
    "    pred_name = names[int(y_pred)].rsplit(' ', 1)[-1]\n",
    "    true_name = names[int(y_test)].rsplit(' ', 1)[-1]\n",
    "    return 'predicted: %s\\ntrue:      %s' % (pred_name, true_name)\n",
    "\n",
    "prediction_titles = [title(y_pred[i], y_test[i], names)\n",
    "                     for i in range(y_pred.shape[0])]\n",
    "\n",
    "plot_gallery(images_test, prediction_titles)\n",
    "pl.show()\n"
   ]
  }
 ],
 "metadata": {
  "anaconda-cloud": {},
  "kernelspec": {
   "display_name": "Python [conda root]",
   "language": "python",
   "name": "conda-root-py"
  },
  "language_info": {
   "codemirror_mode": {
    "name": "ipython",
    "version": 3
   },
   "file_extension": ".py",
   "mimetype": "text/x-python",
   "name": "python",
   "nbconvert_exporter": "python",
   "pygments_lexer": "ipython3",
   "version": "3.5.2"
  }
 },
 "nbformat": 4,
 "nbformat_minor": 1
}
