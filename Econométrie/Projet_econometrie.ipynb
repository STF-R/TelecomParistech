{
 "cells": [
  {
   "cell_type": "markdown",
   "metadata": {},
   "source": [
    "\n",
    "# Projet d'économétrie"
   ]
  },
  {
   "cell_type": "code",
   "execution_count": 97,
   "metadata": {
    "collapsed": false
   },
   "outputs": [],
   "source": [
    "import pandas as pd \n",
    "import seaborn as sns\n",
    "import matplotlib.pyplot as plt\n",
    "import numpy as np\n",
    "from scipy.stats import t\n",
    "from scipy.stats import f\n",
    "from statsmodels.tsa.adfvalues import mackinnonp, mackinnoncrit\n",
    "from scipy.stats import normaltest"
   ]
  },
  {
   "cell_type": "code",
   "execution_count": 2,
   "metadata": {
    "collapsed": true
   },
   "outputs": [],
   "source": [
    "def OLS(df, variables_explicatives, variable_cible, centrer_reduire=False):\n",
    "    \n",
    "    X = df[variables_explicatives]\n",
    "    X = np.zeros((X.shape[0], X.shape[1]+1))\n",
    "    X[:,0] = 1\n",
    "    X[:,1:] = df.ix[:, variables_explicatives]\n",
    "    \n",
    "    if centrer_reduire:\n",
    "        X[:, 1:] = (X[:, 1:] - np.mean(X[:, 1:], axis=0)) / np.std(X[:, 1:], axis=0)\n",
    "\n",
    "    y = df[variable_cible]\n",
    "    beta = np.dot(np.linalg.inv(np.dot(X.T, X)), np.dot(X.T, y))\n",
    "    \n",
    "    y_pred = np.dot(X, beta)\n",
    "    return (beta, y_pred, y-y_pred, X)\n",
    "\n",
    "def afficher_var(variables, beta):\n",
    "    variables = [\"constante\"]+variables\n",
    "    for i, item in enumerate(beta):\n",
    "        print(item, variables[i])"
   ]
  },
  {
   "cell_type": "markdown",
   "metadata": {},
   "source": [
    "### 1.\tLire le fichier mroz.txt. Ne sélectionner que les observations pour lesquelles la variable wage est strictement positive."
   ]
  },
  {
   "cell_type": "code",
   "execution_count": 85,
   "metadata": {
    "collapsed": false
   },
   "outputs": [
    {
     "name": "stderr",
     "output_type": "stream",
     "text": [
      "/home/brehelin/anaconda3/lib/python3.5/site-packages/ipykernel/__main__.py:30: FutureWarning: convert_objects is deprecated.  Use the data-type specific converters pd.to_datetime, pd.to_timedelta and pd.to_numeric.\n"
     ]
    }
   ],
   "source": [
    "names = [\n",
    "    'inlf',                    # =1 if in labor force, 1975\n",
    "    'hours',                   # hours worked, 1975\n",
    "    'kidslt6',                 # #kids < 6 years\n",
    "    'kidsge6',                 # #kids 6-18\n",
    "    'age',                     # woman's age in yrs\n",
    "    'educ',                    # years of schooling\n",
    "    'wage',                    # estimated wage from earns., hours\n",
    "    'repwage',                 # reported wage at interview in 1976\n",
    "    'hushrs',                  # hours worked by husband, 1975\n",
    "    'husage',                  # husband's age\n",
    "    'huseduc',                 # husband's years of schooling\n",
    "    'huswage',                 # husband's hourly wage, 1975\n",
    "    'faminc',                  # family income, 1975\n",
    "    'mtr',                     # fed. marginal tax rate facing woman\n",
    "    'motheduc',                # mother's years of schooling\n",
    "    'fatheduc',                # father's years of schooling\n",
    "    'unem',                    # unem. rate in county of resid.\n",
    "    'city',                    # =1 if live in SMSA\n",
    "    'exper',                   # actual labor mkt exper\n",
    "    'nwifeinc',                # (faminc - wage*hours)/1000\n",
    "    'lwage',                   # log(wage)\n",
    "    'expersq',                 # exper^2\n",
    "]\n",
    "\n",
    "\n",
    "#chemin_alex = \"/media/brehelin/0FECCBDE10E4BE99/Projet économétrie/textfiles/MROZ.raw\"\n",
    "#df = pd.read_csv(chemin_alex, sep='\\s+', names=names)\n",
    "df = pd.read_csv('swbook1_3e\\\\textfiles\\MROZ.raw', sep='\\s+', names=names)\n",
    "df = df.convert_objects(convert_numeric=True)\n",
    "\n",
    "df = df[df[\"wage\"]>0]"
   ]
  },
  {
   "cell_type": "markdown",
   "metadata": {},
   "source": [
    "### 2. Faire les statistiques descriptives du salaire, de l’age et de l’éducation  pour l’ensemble des femmes"
   ]
  },
  {
   "cell_type": "code",
   "execution_count": 88,
   "metadata": {
    "collapsed": false
   },
   "outputs": [
    {
     "data": {
      "text/html": [
       "<div>\n",
       "<table border=\"1\" class=\"dataframe\">\n",
       "  <thead>\n",
       "    <tr style=\"text-align: right;\">\n",
       "      <th></th>\n",
       "      <th>wage</th>\n",
       "      <th>age</th>\n",
       "      <th>educ</th>\n",
       "    </tr>\n",
       "  </thead>\n",
       "  <tbody>\n",
       "    <tr>\n",
       "      <th>count</th>\n",
       "      <td>428.000000</td>\n",
       "      <td>428.000000</td>\n",
       "      <td>428.000000</td>\n",
       "    </tr>\n",
       "    <tr>\n",
       "      <th>mean</th>\n",
       "      <td>4.177682</td>\n",
       "      <td>41.971963</td>\n",
       "      <td>12.658879</td>\n",
       "    </tr>\n",
       "    <tr>\n",
       "      <th>std</th>\n",
       "      <td>3.310282</td>\n",
       "      <td>7.721084</td>\n",
       "      <td>2.285376</td>\n",
       "    </tr>\n",
       "    <tr>\n",
       "      <th>min</th>\n",
       "      <td>0.128200</td>\n",
       "      <td>30.000000</td>\n",
       "      <td>5.000000</td>\n",
       "    </tr>\n",
       "    <tr>\n",
       "      <th>25%</th>\n",
       "      <td>2.262600</td>\n",
       "      <td>35.000000</td>\n",
       "      <td>12.000000</td>\n",
       "    </tr>\n",
       "    <tr>\n",
       "      <th>50%</th>\n",
       "      <td>3.481900</td>\n",
       "      <td>42.000000</td>\n",
       "      <td>12.000000</td>\n",
       "    </tr>\n",
       "    <tr>\n",
       "      <th>75%</th>\n",
       "      <td>4.970750</td>\n",
       "      <td>47.250000</td>\n",
       "      <td>14.000000</td>\n",
       "    </tr>\n",
       "    <tr>\n",
       "      <th>max</th>\n",
       "      <td>25.000000</td>\n",
       "      <td>60.000000</td>\n",
       "      <td>17.000000</td>\n",
       "    </tr>\n",
       "  </tbody>\n",
       "</table>\n",
       "</div>"
      ],
      "text/plain": [
       "             wage         age        educ\n",
       "count  428.000000  428.000000  428.000000\n",
       "mean     4.177682   41.971963   12.658879\n",
       "std      3.310282    7.721084    2.285376\n",
       "min      0.128200   30.000000    5.000000\n",
       "25%      2.262600   35.000000   12.000000\n",
       "50%      3.481900   42.000000   12.000000\n",
       "75%      4.970750   47.250000   14.000000\n",
       "max     25.000000   60.000000   17.000000"
      ]
     },
     "execution_count": 88,
     "metadata": {},
     "output_type": "execute_result"
    }
   ],
   "source": [
    "df[[\"wage\", \"age\", \"educ\"]].describe()"
   ]
  },
  {
   "cell_type": "markdown",
   "metadata": {},
   "source": [
    "### Salaire du mari supérieur à la médiane de l'échantillon"
   ]
  },
  {
   "cell_type": "code",
   "execution_count": 89,
   "metadata": {
    "collapsed": false
   },
   "outputs": [
    {
     "data": {
      "text/html": [
       "<div>\n",
       "<table border=\"1\" class=\"dataframe\">\n",
       "  <thead>\n",
       "    <tr style=\"text-align: right;\">\n",
       "      <th></th>\n",
       "      <th>wage</th>\n",
       "      <th>age</th>\n",
       "      <th>educ</th>\n",
       "    </tr>\n",
       "  </thead>\n",
       "  <tbody>\n",
       "    <tr>\n",
       "      <th>count</th>\n",
       "      <td>214.000000</td>\n",
       "      <td>214.000000</td>\n",
       "      <td>214.000000</td>\n",
       "    </tr>\n",
       "    <tr>\n",
       "      <th>mean</th>\n",
       "      <td>4.896822</td>\n",
       "      <td>42.275701</td>\n",
       "      <td>13.242991</td>\n",
       "    </tr>\n",
       "    <tr>\n",
       "      <th>std</th>\n",
       "      <td>4.041606</td>\n",
       "      <td>7.388843</td>\n",
       "      <td>2.359045</td>\n",
       "    </tr>\n",
       "    <tr>\n",
       "      <th>min</th>\n",
       "      <td>0.161600</td>\n",
       "      <td>30.000000</td>\n",
       "      <td>5.000000</td>\n",
       "    </tr>\n",
       "    <tr>\n",
       "      <th>25%</th>\n",
       "      <td>2.513850</td>\n",
       "      <td>36.000000</td>\n",
       "      <td>12.000000</td>\n",
       "    </tr>\n",
       "    <tr>\n",
       "      <th>50%</th>\n",
       "      <td>3.846400</td>\n",
       "      <td>43.000000</td>\n",
       "      <td>12.000000</td>\n",
       "    </tr>\n",
       "    <tr>\n",
       "      <th>75%</th>\n",
       "      <td>5.854125</td>\n",
       "      <td>48.000000</td>\n",
       "      <td>16.000000</td>\n",
       "    </tr>\n",
       "    <tr>\n",
       "      <th>max</th>\n",
       "      <td>25.000000</td>\n",
       "      <td>59.000000</td>\n",
       "      <td>17.000000</td>\n",
       "    </tr>\n",
       "  </tbody>\n",
       "</table>\n",
       "</div>"
      ],
      "text/plain": [
       "             wage         age        educ\n",
       "count  214.000000  214.000000  214.000000\n",
       "mean     4.896822   42.275701   13.242991\n",
       "std      4.041606    7.388843    2.359045\n",
       "min      0.161600   30.000000    5.000000\n",
       "25%      2.513850   36.000000   12.000000\n",
       "50%      3.846400   43.000000   12.000000\n",
       "75%      5.854125   48.000000   16.000000\n",
       "max     25.000000   59.000000   17.000000"
      ]
     },
     "execution_count": 89,
     "metadata": {},
     "output_type": "execute_result"
    }
   ],
   "source": [
    "df[df[\"huswage\"]>df[\"huswage\"].median()][[\"wage\", \"age\", \"educ\"]].describe()"
   ]
  },
  {
   "cell_type": "markdown",
   "metadata": {},
   "source": [
    "### Salaire du mari inférieur à la médiane de l'échantillon"
   ]
  },
  {
   "cell_type": "code",
   "execution_count": 90,
   "metadata": {
    "collapsed": false
   },
   "outputs": [
    {
     "data": {
      "text/html": [
       "<div>\n",
       "<table border=\"1\" class=\"dataframe\">\n",
       "  <thead>\n",
       "    <tr style=\"text-align: right;\">\n",
       "      <th></th>\n",
       "      <th>wage</th>\n",
       "      <th>age</th>\n",
       "      <th>educ</th>\n",
       "    </tr>\n",
       "  </thead>\n",
       "  <tbody>\n",
       "    <tr>\n",
       "      <th>count</th>\n",
       "      <td>214.000000</td>\n",
       "      <td>214.000000</td>\n",
       "      <td>214.000000</td>\n",
       "    </tr>\n",
       "    <tr>\n",
       "      <th>mean</th>\n",
       "      <td>3.458541</td>\n",
       "      <td>41.668224</td>\n",
       "      <td>12.074766</td>\n",
       "    </tr>\n",
       "    <tr>\n",
       "      <th>std</th>\n",
       "      <td>2.143274</td>\n",
       "      <td>8.045482</td>\n",
       "      <td>2.054200</td>\n",
       "    </tr>\n",
       "    <tr>\n",
       "      <th>min</th>\n",
       "      <td>0.128200</td>\n",
       "      <td>30.000000</td>\n",
       "      <td>6.000000</td>\n",
       "    </tr>\n",
       "    <tr>\n",
       "      <th>25%</th>\n",
       "      <td>2.117275</td>\n",
       "      <td>35.000000</td>\n",
       "      <td>12.000000</td>\n",
       "    </tr>\n",
       "    <tr>\n",
       "      <th>50%</th>\n",
       "      <td>2.971800</td>\n",
       "      <td>41.000000</td>\n",
       "      <td>12.000000</td>\n",
       "    </tr>\n",
       "    <tr>\n",
       "      <th>75%</th>\n",
       "      <td>4.393800</td>\n",
       "      <td>47.000000</td>\n",
       "      <td>12.000000</td>\n",
       "    </tr>\n",
       "    <tr>\n",
       "      <th>max</th>\n",
       "      <td>18.267000</td>\n",
       "      <td>60.000000</td>\n",
       "      <td>17.000000</td>\n",
       "    </tr>\n",
       "  </tbody>\n",
       "</table>\n",
       "</div>"
      ],
      "text/plain": [
       "             wage         age        educ\n",
       "count  214.000000  214.000000  214.000000\n",
       "mean     3.458541   41.668224   12.074766\n",
       "std      2.143274    8.045482    2.054200\n",
       "min      0.128200   30.000000    6.000000\n",
       "25%      2.117275   35.000000   12.000000\n",
       "50%      2.971800   41.000000   12.000000\n",
       "75%      4.393800   47.000000   12.000000\n",
       "max     18.267000   60.000000   17.000000"
      ]
     },
     "execution_count": 90,
     "metadata": {},
     "output_type": "execute_result"
    }
   ],
   "source": [
    "df[df[\"huswage\"]<df[\"huswage\"].median()][[\"wage\", \"age\", \"educ\"]].describe()"
   ]
  },
  {
   "cell_type": "markdown",
   "metadata": {},
   "source": [
    "### 3. "
   ]
  },
  {
   "cell_type": "code",
   "execution_count": 91,
   "metadata": {
    "collapsed": false
   },
   "outputs": [
    {
     "name": "stderr",
     "output_type": "stream",
     "text": [
      "/home/brehelin/anaconda3/lib/python3.5/site-packages/statsmodels/nonparametric/kdetools.py:20: VisibleDeprecationWarning: using a non-integer number instead of an integer will result in an error in the future\n",
      "  y = X[:m/2+1] + np.r_[0,X[m/2+1:],0]*1j\n"
     ]
    },
    {
     "data": {
      "image/png": "[encoded data removed]",
      "text/plain": [
       "<matplotlib.figure.Figure at 0x7f70a53a34a8>"
      ]
     },
     "metadata": {},
     "output_type": "display_data"
    },
    {
     "data": {
      "image/png": "[encoded data removed]",
      "text/plain": [
       "<matplotlib.figure.Figure at 0x7f70a53021d0>"
      ]
     },
     "metadata": {},
     "output_type": "display_data"
    }
   ],
   "source": [
    "sns.distplot(df[\"wage\"])\n",
    "plt.title(\"histogramme des salaires pour les femmes\")\n",
    "plt.show()\n",
    "sns.distplot(df[\"lwage\"])\n",
    "plt.title(\"histogramme des log-salaires pour les femmes\")\n",
    "plt.show()"
   ]
  },
  {
   "cell_type": "markdown",
   "metadata": {},
   "source": [
    "### 4. Calculer les corrélations motheduc et fatheduc. Commentez. Il y a-t-il un problème de multicollinéarité si l'on utilise ces variables comme variables explicatives ?"
   ]
  },
  {
   "cell_type": "code",
   "execution_count": 92,
   "metadata": {
    "collapsed": false
   },
   "outputs": [
    {
     "name": "stdout",
     "output_type": "stream",
     "text": [
      "[[ 1.          0.55406322]\n",
      " [ 0.55406322  1.        ]]\n"
     ]
    },
    {
     "data": {
      "text/plain": [
       "SpearmanrResult(correlation=0.55073278223958799, pvalue=2.5800056955164742e-35)"
      ]
     },
     "execution_count": 92,
     "metadata": {},
     "output_type": "execute_result"
    }
   ],
   "source": [
    "from scipy.stats import spearmanr\n",
    "\n",
    "print(np.corrcoef(df[\"motheduc\"], df[\"fatheduc\"]))\n",
    "spearmanr(df[\"motheduc\"], df[\"fatheduc\"])"
   ]
  },
  {
   "cell_type": "markdown",
   "metadata": {},
   "source": [
    "### 5."
   ]
  },
  {
   "cell_type": "code",
   "execution_count": 93,
   "metadata": {
    "collapsed": false
   },
   "outputs": [
    {
     "data": {
      "image/png": "[encoded data removed]",
      "text/plain": [
       "<matplotlib.figure.Figure at 0x7f70a52014e0>"
      ]
     },
     "metadata": {},
     "output_type": "display_data"
    }
   ],
   "source": [
    "fx, axarr = plt.subplots(3, 1)\n",
    "axarr[0].plot(df[\"wage\"], df[\"educ\"], '.')\n",
    "axarr[0].set_title('wage vs educ')\n",
    "axarr[0].set_xlabel(\"wage\")\n",
    "axarr[0].set_ylabel(\"educ\")\n",
    "\n",
    "axarr[1].plot(df[\"wage\"], df[\"exper\"], '.')\n",
    "axarr[1].set_title('wage vs exper')\n",
    "axarr[1].set_xlabel(\"wage\")\n",
    "axarr[1].set_ylabel(\"exper\")\n",
    "\n",
    "axarr[2].plot(df[\"wage\"], df[\"fatheduc\"], '.')\n",
    "axarr[2].set_title('wage vs fatheduc')\n",
    "axarr[2].set_xlabel(\"wage\")\n",
    "axarr[2].set_ylabel(\"fatheduc\")\n",
    "\n",
    "\n",
    "\n",
    "plt.show()"
   ]
  },
  {
   "cell_type": "markdown",
   "metadata": {},
   "source": [
    "### 6. Quelle est l'hypothèse fondamentale qui garanti des estimateurs non biaisés ? Expliquer le biais de variable omise"
   ]
  },
  {
   "cell_type": "markdown",
   "metadata": {},
   "source": [
    "C'est la non-corrélation entre les variables explicatives et l'erreur. L'hypothèse permet de s'assurer d'avoir un estimateur sans biais : \n",
    "\n",
    "Hyputhèse : \n",
    "$$ E(X'u)=0 $$\n",
    "$$ E(\\hat{\\beta}) = E(\\beta) + (x'x)^{-1} E(X'u)$$\n",
    "\n",
    "Si l'hypothèse n'est pas respectée\n",
    "$$E(\\hat{\\beta}) \\ne E(\\beta)$$\n",
    "Donc estimateur biaisé"
   ]
  },
  {
   "cell_type": "markdown",
   "metadata": {},
   "source": [
    "### 7.\tFaire la régression de wage en utilisant les variables explicatives un constante, city, educ, exper, nwifeinc, kidslt6, kidsgt6. Commentez l'histogramme des résidus. "
   ]
  },
  {
   "cell_type": "code",
   "execution_count": 94,
   "metadata": {
    "collapsed": false
   },
   "outputs": [],
   "source": [
    "variables = [\"city\", \"educ\", \"exper\", \"nwifeinc\", \"kidslt6\", \"kidsge6\"]\n",
    "beta_wage, y_pred_wage, res_wage, X_wage = OLS(df, variables_explicatives=variables, variable_cible=\"wage\")"
   ]
  },
  {
   "cell_type": "code",
   "execution_count": 95,
   "metadata": {
    "collapsed": false
   },
   "outputs": [
    {
     "name": "stdout",
     "output_type": "stream",
     "text": [
      "-2.40345399155 constante\n",
      "0.369752029505 city\n",
      "0.460047701259 educ\n",
      "0.0238199479511 exper\n",
      "0.0152447935763 nwifeinc\n",
      "0.0361731913893 kidslt6\n",
      "-0.0618909096857 kidsge6\n"
     ]
    }
   ],
   "source": [
    "afficher_var(variables=variables, beta=beta_wage)"
   ]
  },
  {
   "cell_type": "code",
   "execution_count": 96,
   "metadata": {
    "collapsed": false
   },
   "outputs": [
    {
     "name": "stderr",
     "output_type": "stream",
     "text": [
      "/home/brehelin/anaconda3/lib/python3.5/site-packages/statsmodels/nonparametric/kdetools.py:20: VisibleDeprecationWarning: using a non-integer number instead of an integer will result in an error in the future\n",
      "  y = X[:m/2+1] + np.r_[0,X[m/2+1:],0]*1j\n"
     ]
    },
    {
     "data": {
      "image/png": "[encoded data removed]",
      "text/plain": [
       "<matplotlib.figure.Figure at 0x7f70a540fef0>"
      ]
     },
     "metadata": {},
     "output_type": "display_data"
    }
   ],
   "source": [
    "sns.distplot(res_wage)\n",
    "plt.show()"
   ]
  },
  {
   "cell_type": "markdown",
   "metadata": {},
   "source": [
    "Les résidus ne semblent pas suivre une loi normale centrée. On ne respecte pas les hypothèses du MCO."
   ]
  },
  {
   "cell_type": "code",
   "execution_count": 98,
   "metadata": {
    "collapsed": false
   },
   "outputs": [
    {
     "data": {
      "text/plain": [
       "NormaltestResult(statistic=345.82470863763086, pvalue=8.0374570731798246e-76)"
      ]
     },
     "execution_count": 98,
     "metadata": {},
     "output_type": "execute_result"
    }
   ],
   "source": [
    "normaltest(res_wage)"
   ]
  },
  {
   "cell_type": "markdown",
   "metadata": {},
   "source": [
    "### 8.\tFaire la régrssion de lwage sur une constante, city, educ, exper, nwifeinc, kidslt6, kidsgt6. Comparer l’histogramme obtenu à celui de la question 7."
   ]
  },
  {
   "cell_type": "code",
   "execution_count": 99,
   "metadata": {
    "collapsed": false
   },
   "outputs": [],
   "source": [
    "variables = [\"city\", \"educ\", \"exper\", \"nwifeinc\", \"kidslt6\", \"kidsge6\"]\n",
    "\n",
    "beta_lwage, y_pred_lwage, res_lwage, X_lwage = OLS(df, variables_explicatives=variables, variable_cible=\"lwage\")"
   ]
  },
  {
   "cell_type": "code",
   "execution_count": 100,
   "metadata": {
    "collapsed": false
   },
   "outputs": [
    {
     "name": "stdout",
     "output_type": "stream",
     "text": [
      "-0.398975226675 constante\n",
      "0.0352678929323 city\n",
      "0.10224754784 educ\n",
      "0.0154878720958 exper\n",
      "0.00488269568156 nwifeinc\n",
      "-0.0453028703817 kidslt6\n",
      "-0.0117035067044 kidsge6\n"
     ]
    }
   ],
   "source": [
    "afficher_var(variables, beta_lwage)"
   ]
  },
  {
   "cell_type": "code",
   "execution_count": 101,
   "metadata": {
    "collapsed": false
   },
   "outputs": [
    {
     "name": "stderr",
     "output_type": "stream",
     "text": [
      "/home/brehelin/anaconda3/lib/python3.5/site-packages/statsmodels/nonparametric/kdetools.py:20: VisibleDeprecationWarning: using a non-integer number instead of an integer will result in an error in the future\n",
      "  y = X[:m/2+1] + np.r_[0,X[m/2+1:],0]*1j\n"
     ]
    },
    {
     "data": {
      "image/png": "[encoded data removed]",
      "text/plain": [
       "<matplotlib.figure.Figure at 0x7f70a540fda0>"
      ]
     },
     "metadata": {},
     "output_type": "display_data"
    }
   ],
   "source": [
    "sns.distplot(res_lwage)\n",
    "plt.show()"
   ]
  },
  {
   "cell_type": "code",
   "execution_count": 102,
   "metadata": {
    "collapsed": false
   },
   "outputs": [
    {
     "data": {
      "text/plain": [
       "NormaltestResult(statistic=79.54246734643705, pvalue=5.3403863507053429e-18)"
      ]
     },
     "execution_count": 102,
     "metadata": {},
     "output_type": "execute_result"
    }
   ],
   "source": [
    "normaltest(res_lwage)"
   ]
  },
  {
   "cell_type": "markdown",
   "metadata": {},
   "source": [
    "L'hypothèse nulle de normalité des résidus est rejetée au risque 5%."
   ]
  },
  {
   "cell_type": "markdown",
   "metadata": {},
   "source": [
    "### 9.\tTester l'hypothèse de non significativité de exper avec un seuil de significativité de 1%, 5% et 10% (test alternatif des deux côtés). Commentez les p-values."
   ]
  },
  {
   "cell_type": "code",
   "execution_count": 103,
   "metadata": {
    "collapsed": false
   },
   "outputs": [
    {
     "name": "stdout",
     "output_type": "stream",
     "text": [
      "3.45171828081\n"
     ]
    }
   ],
   "source": [
    "ddl = (X_lwage.shape[0] - X_lwage.shape[1])\n",
    "sig2 = np.dot(res_lwage.T, res_lwage) / ddl\n",
    "std = np.sqrt(np.diag(sig2*np.linalg.inv(np.dot(X_lwage.T, X_lwage)))) \n",
    "t_exper = beta_lwage[3]/std[3]\n",
    "print(t_exper)"
   ]
  },
  {
   "cell_type": "code",
   "execution_count": 104,
   "metadata": {
    "collapsed": false
   },
   "outputs": [
    {
     "name": "stdout",
     "output_type": "stream",
     "text": [
      "p_value :  0.000613365079014\n"
     ]
    }
   ],
   "source": [
    "p_val = 2*t.sf(np.abs(t_exper), ddl)\n",
    "print(\"p_value : \", p_val)"
   ]
  },
  {
   "cell_type": "code",
   "execution_count": 105,
   "metadata": {
    "collapsed": false
   },
   "outputs": [
    {
     "name": "stdout",
     "output_type": "stream",
     "text": [
      "quantile de Student à 1% :  2.58755757305\n",
      "quantile de Student à 5% :  1.96561479201\n",
      "quantile de Student à 10% :  1.64848105713\n"
     ]
    }
   ],
   "source": [
    "t_student1 = t.ppf(1-0.01/2,df=df.shape[0]-7)\n",
    "print(\"quantile de Student à 1% : \", t_student1)\n",
    "t_student5 = t.ppf(1-0.05/2,df=df.shape[0]-7)\n",
    "print(\"quantile de Student à 5% : \", t_student5)\n",
    "t_student10 = t.ppf(1-0.1/2,df=df.shape[0]-7)\n",
    "print(\"quantile de Student à 10% : \", t_student10)"
   ]
  },
  {
   "cell_type": "markdown",
   "metadata": {},
   "source": [
    "Les quantiles de student sont tous inférieurs à la statistique de test. On rejète pour les troix tests l'hypothèse nulle $H_0 : B_{exper} = 0$ "
   ]
  },
  {
   "cell_type": "markdown",
   "metadata": {},
   "source": [
    "### 10. Tester l’hypothèse que le coefficient associé à educ est égal à 10% avec un seuil de significativité de 5% (test à alternatif des deux côtés)"
   ]
  },
  {
   "cell_type": "code",
   "execution_count": 106,
   "metadata": {
    "collapsed": false
   },
   "outputs": [
    {
     "name": "stdout",
     "output_type": "stream",
     "text": [
      "6.77056178537\n",
      "p_value :  4.32452637615e-11\n",
      "Statistique de test à 5% :  1.96561479201\n"
     ]
    }
   ],
   "source": [
    "t_educ = beta_lwage[2]/std[2]\n",
    "p_val = 2*t.sf(np.abs(t_educ), ddl)\n",
    "print(t_educ)\n",
    "print(\"p_value : \", p_val)\n",
    "t_student5 = t.ppf(1-0.05/2,df=df.shape[0]-7)\n",
    "print(\"Statistique de test à 5% : \", t_student5)"
   ]
  },
  {
   "cell_type": "markdown",
   "metadata": {},
   "source": [
    "### 11.\tTester l’hypothèse jointe que le rendement de l’éducation est de 10% et que celui de l’expérience professionnelle est de 5%."
   ]
  },
  {
   "cell_type": "code",
   "execution_count": 107,
   "metadata": {
    "collapsed": false
   },
   "outputs": [
    {
     "name": "stdout",
     "output_type": "stream",
     "text": [
      "(428, 5)\n"
     ]
    }
   ],
   "source": [
    "variables = [\"city\", \"nwifeinc\", \"kidslt6\", \"kidsge6\"]\n",
    "X_2 = df[variables]\n",
    "X_2 = np.zeros((X_2.shape[0], X_2.shape[1]+1))\n",
    "print(np.shape(X_2))\n",
    "X_2[:,0] = 1\n",
    "X_2[:,1:] = df.ix[:, variables]\n",
    "y_lwage_2 = df[\"lwage\"]\n",
    "beta_lwage_2 = np.dot(np.linalg.inv(np.dot(X_2.T, X_2)), np.dot(X_2.T, y_lwage_2))\n",
    "\n",
    "beta_lwage_2, y_pred_wage, res_lwage_2, X_wage = OLS(df, variables_explicatives=variables, variable_cible=\"wage\")"
   ]
  },
  {
   "cell_type": "code",
   "execution_count": 108,
   "metadata": {
    "collapsed": false
   },
   "outputs": [],
   "source": [
    "y_pred_lwage_2 = np.dot(X_2, beta_lwage_2)\n",
    "res_lwage_2 = y_pred_lwage_2 - y_lwage_2"
   ]
  },
  {
   "cell_type": "code",
   "execution_count": 109,
   "metadata": {
    "collapsed": false
   },
   "outputs": [],
   "source": [
    "SSR1 = np.dot(res_lwage.T, res_lwage)\n",
    "SSR0 = np.dot(res_lwage_2.T, res_lwage_2)\n",
    "\n",
    "ddl0 = X_lwage.shape[0]-X_lwage.shape[1]\n",
    "ddl1 = X_2.shape[0]-X_2.shape[1]\n",
    "\n",
    "F = ((SSR0 - SSR1)/SSR1) * (ddl0 / (ddl1 - ddl0))"
   ]
  },
  {
   "cell_type": "code",
   "execution_count": 110,
   "metadata": {
    "collapsed": false
   },
   "outputs": [
    {
     "name": "stdout",
     "output_type": "stream",
     "text": [
      "p-value\n"
     ]
    },
    {
     "data": {
      "text/plain": [
       "4.7233874676712871e-283"
      ]
     },
     "execution_count": 110,
     "metadata": {},
     "output_type": "execute_result"
    }
   ],
   "source": [
    "print(\"p-value\")\n",
    "f.sf(F, 2, X_lwage.shape[0]-7)"
   ]
  },
  {
   "cell_type": "code",
   "execution_count": 111,
   "metadata": {
    "collapsed": false
   },
   "outputs": [
    {
     "data": {
      "text/plain": [
       "3.0171506509713275"
      ]
     },
     "execution_count": 111,
     "metadata": {},
     "output_type": "execute_result"
    }
   ],
   "source": [
    "f.ppf(0.95,2,df.shape[0]-7)"
   ]
  },
  {
   "cell_type": "markdown",
   "metadata": {},
   "source": [
    "On rejette ainsi au risque 5%, l'hypothèse nulle. Selon le test, les deux coefficients sont significatifs."
   ]
  },
  {
   "cell_type": "markdown",
   "metadata": {},
   "source": [
    "### 12.\tDe combien augmente le salaire en pourcentage avec 10 années d’expérience ?"
   ]
  },
  {
   "cell_type": "code",
   "execution_count": 102,
   "metadata": {
    "collapsed": false
   },
   "outputs": [
    {
     "name": "stdout",
     "output_type": "stream",
     "text": [
      "Avec 10 année d'expérience, le salaire augmentera, selon le modèle, de  15.49\n"
     ]
    }
   ],
   "source": [
    "print(\"Avec 10 année d'expérience, le salaire augmentera, selon le modèle, \\\n",
    "de \", np.round(beta_lwage[3]*10*100, 2))"
   ]
  },
  {
   "cell_type": "markdown",
   "metadata": {},
   "source": [
    "### 13.\tTester l’égalité des coefficients associés aux variables kidsgt6 et kidslt6. Interprétez."
   ]
  },
  {
   "cell_type": "code",
   "execution_count": 45,
   "metadata": {
    "collapsed": false
   },
   "outputs": [],
   "source": [
    "y = df[\"lwage\"].as_matrix()\n",
    "X = np.zeros((df.shape[0],7))\n",
    "X[:,0] = 1\n",
    "df_modify = df.ix[:, [\"city\",\"educ\",\"exper\",\"nwifeinc\",\"kidslt6\",\"kidsge6\"]]\n",
    "df_modify[\"tot_kids\"] = df[\"kidslt6\"] + df[\"kidsge6\"]\n",
    "X[:,1:] = df_modify.ix[:, [\"city\",\"educ\",\"exper\",\"nwifeinc\",\"tot_kids\", \"kidslt6\"]]"
   ]
  },
  {
   "cell_type": "code",
   "execution_count": 46,
   "metadata": {
    "collapsed": false
   },
   "outputs": [
    {
     "name": "stdout",
     "output_type": "stream",
     "text": [
      "('constante', -0.39897522667496688)\n",
      "('city', 0.035267892932327793)\n",
      "('educ', 0.10224754784018658)\n",
      "('exper', 0.015487872095843347)\n",
      "('nwifeinc', 0.0048826956815640173)\n",
      "('tot_kids', -0.011703506704368927)\n",
      "('kidslt6', -0.033599363677317307)\n"
     ]
    },
    {
     "data": {
      "text/plain": [
       "[None, None, None, None, None, None, None]"
      ]
     },
     "execution_count": 46,
     "metadata": {},
     "output_type": "execute_result"
    }
   ],
   "source": [
    "coef = np.dot(np.linalg.inv(np.dot(X.T,X)), np.dot(X.T,y))\n",
    "list(map(lambda x: print(x),\n",
    "    zip([\"constante\",\"city\",\"educ\",\"exper\",\"nwifeinc\",\"tot_kids\", \"kidslt6\"], coef)))"
   ]
  },
  {
   "cell_type": "code",
   "execution_count": 53,
   "metadata": {
    "collapsed": true
   },
   "outputs": [],
   "source": [
    "beta_totkids = coef[6]\n",
    "y_pred = coef[0] + np.dot(X[:,1:], coef[1:])\n",
    "res = y_pred - y\n",
    "sig2 = np.dot(res.T,res) / (df.shape[0]-7)\n",
    "std = np.sqrt(np.diag(sig2*np.linalg.inv(np.dot(X.T,X))))"
   ]
  },
  {
   "cell_type": "code",
   "execution_count": 54,
   "metadata": {
    "collapsed": false
   },
   "outputs": [
    {
     "name": "stdout",
     "output_type": "stream",
     "text": [
      "Statistique de test :  -0.37174737908\n",
      "P-value :  0.710267974843\n"
     ]
    }
   ],
   "source": [
    "t_totkids = beta_totkids/ std[6]\n",
    "print(\"Statistique de test : \", t_totkids)\n",
    "p_val =  2.0 * (1.0 - t.cdf(np.abs(t_totkids), df.shape[0]-7))\n",
    "print(\"P-value : \", p_val)"
   ]
  },
  {
   "cell_type": "markdown",
   "metadata": {},
   "source": [
    "On rejette l'hypothèse nulle, les coefficients ne sont pas égaux au risque 5%. "
   ]
  },
  {
   "cell_type": "markdown",
   "metadata": {},
   "source": [
    "### 14.\tEn utilisant le modèle de la question 7, faire le test d'hétéroscédasticité de forme linéaire. Corriger le problème par rapport à la variable la plus importante en utilisant la méthode des MCG. Comparer les écarts-types des coefficients estimés avec ceux obtenus à la question 7. Commenter."
   ]
  },
  {
   "cell_type": "code",
   "execution_count": 107,
   "metadata": {
    "collapsed": false
   },
   "outputs": [],
   "source": [
    "variables = [\"city\", \"educ\", \"exper\", \"nwifeinc\", \"kidslt6\", \"kidsge6\"]\n",
    "X = df[variables]\n",
    "X = np.zeros((X.shape[0], X.shape[1]+1))\n",
    "\n",
    "X[:,0] = 1\n",
    "X[:,1:] = df.ix[:, variables]\n",
    "y_res = res_wage**2\n"
   ]
  },
  {
   "cell_type": "code",
   "execution_count": 108,
   "metadata": {
    "collapsed": true
   },
   "outputs": [],
   "source": [
    "beta_res = np.dot(np.linalg.inv(np.dot(X.T, X)), np.dot(X.T, y_res))"
   ]
  },
  {
   "cell_type": "code",
   "execution_count": 109,
   "metadata": {
    "collapsed": false
   },
   "outputs": [],
   "source": [
    "epsilon = np.dot(X, beta_res) - y_res\n",
    "SSR1 = np.dot(epsilon.T, epsilon)"
   ]
  },
  {
   "cell_type": "code",
   "execution_count": 110,
   "metadata": {
    "collapsed": true
   },
   "outputs": [],
   "source": [
    "X_0 = np.zeros((X.shape[0], 1))\n",
    "X_0[:,0] = 1"
   ]
  },
  {
   "cell_type": "code",
   "execution_count": 111,
   "metadata": {
    "collapsed": true
   },
   "outputs": [],
   "source": [
    "beta_res = np.dot(np.linalg.inv(np.dot(X_0.T, X_0)), np.dot(X_0.T, y_res))"
   ]
  },
  {
   "cell_type": "code",
   "execution_count": 112,
   "metadata": {
    "collapsed": true
   },
   "outputs": [],
   "source": [
    "epsilon = np.dot(X_0, beta_res) - y_res\n",
    "SSR0 = np.dot(epsilon.T, epsilon)"
   ]
  },
  {
   "cell_type": "code",
   "execution_count": 113,
   "metadata": {
    "collapsed": false
   },
   "outputs": [
    {
     "data": {
      "text/plain": [
       "array([ 9.54162047])"
      ]
     },
     "execution_count": 113,
     "metadata": {},
     "output_type": "execute_result"
    }
   ],
   "source": [
    "beta_res"
   ]
  },
  {
   "cell_type": "code",
   "execution_count": 114,
   "metadata": {
    "collapsed": false
   },
   "outputs": [],
   "source": [
    "ddl1 = X.shape[0]-X.shape[1]\n",
    "ddl0 = X.shape[0]-1\n",
    "\n",
    "F = ((SSR0 - SSR1)/SSR1) * (ddl1 / (ddl0 - ddl1))"
   ]
  },
  {
   "cell_type": "code",
   "execution_count": 117,
   "metadata": {
    "collapsed": false
   },
   "outputs": [
    {
     "name": "stdout",
     "output_type": "stream",
     "text": [
      "p-value :  0.147661333145\n",
      "stat de test :  2.12011463029\n",
      "fisher :  1.59261816202\n"
     ]
    }
   ],
   "source": [
    "print(\"p-value : \", f.sf(F, ddl0-ddl1, ddl1))\n",
    "print(\"stat de test : \", f.ppf(0.95, ddl0-ddl1, ddl1))\n",
    "print(\"fisher : \", F)"
   ]
  },
  {
   "cell_type": "markdown",
   "metadata": {
    "collapsed": true
   },
   "source": [
    "On ne rejette pas l'hypothèse d'homoscédasticité mais on suppose l'hétéroscédasticité pour implémenter la méthode des MCG."
   ]
  },
  {
   "cell_type": "markdown",
   "metadata": {},
   "source": [
    "Pour trouver la variable la plus importante dans le modèle, on a deux solutions : \n",
    "- On peut centrer et réduire les variables et regarder le coefficient le plus grand en valeur absolue. \n",
    "- On peut faire une loi du Chi2 pour trouver la variable la plus significative.\n",
    "\n",
    "On va procéder à la première solution : "
   ]
  },
  {
   "cell_type": "code",
   "execution_count": 169,
   "metadata": {
    "collapsed": false
   },
   "outputs": [],
   "source": [
    "variables = [\"city\", \"educ\", \"exper\", \"nwifeinc\", \"kidslt6\", \"kidsge6\"]\n",
    "\n",
    "beta, _, res, X = OLS(df, variables, \"wage\", centrer_reduire=True)"
   ]
  },
  {
   "cell_type": "code",
   "execution_count": 170,
   "metadata": {
    "collapsed": false
   },
   "outputs": [
    {
     "name": "stdout",
     "output_type": "stream",
     "text": [
      "4.17768154206 constante\n",
      "0.177460801739 city\n",
      "1.05015286667 educ\n",
      "0.191667364826 exper\n",
      "0.161274276206 nwifeinc\n",
      "0.0141605373808 kidslt6\n",
      "-0.0813492376709 kidsge6\n"
     ]
    }
   ],
   "source": [
    "afficher_var(variables, beta)"
   ]
  },
  {
   "cell_type": "markdown",
   "metadata": {},
   "source": [
    "La variable la plus importante dans le modèle est donc educ, qui a le coefficient associé le plus élevé."
   ]
  },
  {
   "cell_type": "code",
   "execution_count": 178,
   "metadata": {
    "collapsed": false
   },
   "outputs": [],
   "source": [
    "beta, _, res_1, X_1 = OLS(df/np.std(df[\"educ\"]), variables, \"wage\")"
   ]
  },
  {
   "cell_type": "markdown",
   "metadata": {},
   "source": [
    "beta"
   ]
  },
  {
   "cell_type": "code",
   "execution_count": 179,
   "metadata": {
    "collapsed": true
   },
   "outputs": [],
   "source": [
    "ddl = (X.shape[0] - X.shape[1])\n",
    "sig2 = np.dot(res.T, res) / ddl\n",
    "std = np.sqrt(np.diag(sig2*np.linalg.inv(np.dot(X.T, X)))) "
   ]
  },
  {
   "cell_type": "code",
   "execution_count": 180,
   "metadata": {
    "collapsed": false
   },
   "outputs": [
    {
     "name": "stdout",
     "output_type": "stream",
     "text": [
      "ecart type des variables pour le modèle de la question 7 : \n"
     ]
    },
    {
     "data": {
      "text/plain": [
       "array([ 0.03235695,  0.03368729,  0.03447856,  0.03611063,  0.03524154,\n",
       "        0.03340047,  0.03542145])"
      ]
     },
     "execution_count": 180,
     "metadata": {},
     "output_type": "execute_result"
    }
   ],
   "source": [
    "print(\"ecart type des variables pour le modèle de la question 7 : \")\n",
    "std"
   ]
  },
  {
   "cell_type": "code",
   "execution_count": 181,
   "metadata": {
    "collapsed": false
   },
   "outputs": [],
   "source": [
    "ddl = (X_1.shape[0] - X_1.shape[1])\n",
    "sig2 = np.dot(res_1.T, res_1) / ddl\n",
    "std = np.sqrt(np.diag(sig2*np.linalg.inv(np.dot(X_1.T, X_1)))) "
   ]
  },
  {
   "cell_type": "code",
   "execution_count": 182,
   "metadata": {
    "collapsed": false
   },
   "outputs": [
    {
     "name": "stdout",
     "output_type": "stream",
     "text": [
      "ecart type des variables pour le modèle corigé : \n"
     ]
    },
    {
     "data": {
      "text/plain": [
       "array([ 0.42208529,  0.32657023,  0.07027516,  0.02087998,  0.01549936,\n",
       "        0.39697399,  0.12538399])"
      ]
     },
     "execution_count": 182,
     "metadata": {},
     "output_type": "execute_result"
    }
   ],
   "source": [
    "print(\"ecart type des variables pour le modèle corigé : \")\n",
    "std"
   ]
  },
  {
   "cell_type": "markdown",
   "metadata": {},
   "source": [
    "On remarque qu'en divisant par l'écart type de la variable la plus importante, l'écart-type des coefficients semblent très différents les uns des autres. Cela peut nous donner un indice sur l'hétéroscédasticité."
   ]
  },
  {
   "cell_type": "markdown",
   "metadata": {},
   "source": [
    "### 15.\tTester le changement de structure de la question 8 entre les femmes qui ont plus de 43 ans et les autres : test sur l'ensemble des coefficients. Refaire le test avec 3 groupes (mutuellement exclusifs) : les femmes de moins de 30 ans, entre 30 et 43 ans, plus de 43 ans"
   ]
  },
  {
   "cell_type": "markdown",
   "metadata": {},
   "source": [
    "On va comparer 3 modèles :"
   ]
  },
  {
   "cell_type": "code",
   "execution_count": 82,
   "metadata": {
    "collapsed": true
   },
   "outputs": [],
   "source": [
    "variables = [\"city\", \"educ\", \"exper\", \"nwifeinc\", \"kidslt6\", \"kidsge6\"]\n"
   ]
  },
  {
   "cell_type": "code",
   "execution_count": 83,
   "metadata": {
    "collapsed": true
   },
   "outputs": [],
   "source": [
    "beta_0, _, res_0, X_0 = OLS(df, variables, \"lwage\")\n",
    "beta_g43, _, res_g43, X_g43 = OLS(df[df[\"age\"]>43], variables, \"lwage\")\n",
    "beta_le43, _, res_le43, X_le43 = OLS(df[df[\"age\"]<=43], variables, \"lwage\")"
   ]
  },
  {
   "cell_type": "code",
   "execution_count": 84,
   "metadata": {
    "collapsed": false
   },
   "outputs": [],
   "source": [
    "SSR = np.dot(res_0.T, res_0)\n",
    "ddl = X_0.shape[0]-X_0.shape[1]\n",
    "\n",
    "SSR1 = np.dot(res_g43.T, res_g43)\n",
    "ddl1 = X_g43.shape[0]-X_g43.shape[1]\n",
    "\n",
    "SSR2 = np.dot(res_le43.T, res_le43)\n",
    "ddl2 = X_le43.shape[0]-X_le43.shape[1]\n",
    "\n",
    "F = ((SSR - (SSR1+SSR2))/(SSR1+SSR2)) * ((ddl1+ddl2) / (ddl - (ddl1+ddl2)))"
   ]
  },
  {
   "cell_type": "code",
   "execution_count": 85,
   "metadata": {
    "collapsed": false
   },
   "outputs": [
    {
     "name": "stdout",
     "output_type": "stream",
     "text": [
      "p-value :  0.566036445033\n",
      "stat de test :  2.03170228032\n",
      "fisher :  0.826037485276\n"
     ]
    }
   ],
   "source": [
    "print(\"p-value : \", f.sf(F, (ddl - (ddl1+ddl2)), (ddl1+ddl2)))\n",
    "print(\"stat de test : \", f.ppf(0.95, (ddl - (ddl1+ddl2)), (ddl1+ddl2)))\n",
    "print(\"fisher : \", F)"
   ]
  },
  {
   "cell_type": "code",
   "execution_count": 86,
   "metadata": {
    "collapsed": false
   },
   "outputs": [
    {
     "data": {
      "text/plain": [
       "7"
      ]
     },
     "execution_count": 86,
     "metadata": {},
     "output_type": "execute_result"
    }
   ],
   "source": [
    "X_0.shape[1]"
   ]
  },
  {
   "cell_type": "markdown",
   "metadata": {},
   "source": [
    "On ne rejette pas H0, le changement de structure n'est pas justifié"
   ]
  },
  {
   "cell_type": "code",
   "execution_count": 87,
   "metadata": {
    "collapsed": false
   },
   "outputs": [],
   "source": [
    "beta_0, _, res_0, X_0 = OLS(df, variables, \"wage\")\n",
    "beta_le30, _, res_le30, X_le30 = OLS(df[df[\"age\"]<=30], variables, \"wage\")\n",
    "beta_g30le43, _, res_g30le43, X_g30le43 = OLS(\\\n",
    "                            df[(df[\"age\"]>30) & (df[\"age\"]<=43)], variables, \"wage\")\n",
    "beta_g43, _, res_g43, X_g43 = OLS(df[df[\"age\"]>43], variables, \"wage\")\n"
   ]
  },
  {
   "cell_type": "code",
   "execution_count": 91,
   "metadata": {
    "collapsed": true
   },
   "outputs": [],
   "source": [
    "SSR = np.dot(res_0.T, res_0)\n",
    "ddl = X_0.shape[0]-X_0.shape[1]\n",
    "\n",
    "SSR1 = np.dot(res_le30.T, res_le30)\n",
    "ddl1 = X_le30.shape[0]-X_le30.shape[1]\n",
    "\n",
    "SSR2 = np.dot(res_g30le43.T, res_g30le43)\n",
    "ddl2 = X_g30le43.shape[0]-X_g30le43.shape[1]\n",
    "\n",
    "SSR3 = np.dot(res_g43.T, res_g43)\n",
    "ddl3 = X_g43.shape[0]-X_g43.shape[1]\n",
    "\n",
    "\n",
    "F = ((SSR - (SSR1+SSR2+SSR3))/(SSR1+SSR2+SSR3)) * ((ddl1+ddl2+ddl3) / (ddl - (ddl1+ddl2+ddl3)))"
   ]
  },
  {
   "cell_type": "code",
   "execution_count": 92,
   "metadata": {
    "collapsed": false
   },
   "outputs": [
    {
     "data": {
      "text/plain": [
       "407"
      ]
     },
     "execution_count": 92,
     "metadata": {},
     "output_type": "execute_result"
    }
   ],
   "source": [
    "(ddl1+ddl2+ddl3)"
   ]
  },
  {
   "cell_type": "code",
   "execution_count": 93,
   "metadata": {
    "collapsed": false
   },
   "outputs": [
    {
     "name": "stdout",
     "output_type": "stream",
     "text": [
      "p-value :  0.880918612154\n",
      "stat de test :  1.71613078495\n",
      "fisher :  0.580018514709\n"
     ]
    }
   ],
   "source": [
    "print(\"p-value : \", f.sf(F, (ddl - (ddl1+ddl2+ddl3)), (ddl1+ddl2+ddl3)))\n",
    "print(\"stat de test : \", f.ppf(0.95, (ddl - (ddl1+ddl2+ddl3)), (ddl1+ddl2+ddl3)))\n",
    "print(\"fisher : \", F)"
   ]
  },
  {
   "cell_type": "markdown",
   "metadata": {
    "collapsed": true
   },
   "source": [
    "On ne rejette pas $H_0$"
   ]
  },
  {
   "cell_type": "markdown",
   "metadata": {},
   "source": [
    "### 16.\tA partir de la variable kidslt6, créer un ensemble de variables binaires pour le nombre d’enfants de moins de 6 ans. Refaire la question 8 avec ces variables et en utilisant comme référence les femmes qui ont des enfants de plus de 6 ans. Ces catégories sont-elles mutuellement exclusives ? Interprétez les paramètres associés aux variables binaires. Faire le test de non significativité de l’ensemble des variables binaires."
   ]
  },
  {
   "cell_type": "code",
   "execution_count": 103,
   "metadata": {
    "collapsed": false
   },
   "outputs": [],
   "source": [
    "df[\"0_kidslt6\"] = df[\"kidslt6\"].map(lambda x : 1 if x==0 else 0)\n",
    "df[\"1_kidslt6\"] = df[\"kidslt6\"].map(lambda x : 1 if x==1 else 0)\n",
    "df[\"2_kidslt6\"] = df[\"kidslt6\"].map(lambda x : 1 if x==2 else 0)"
   ]
  },
  {
   "cell_type": "code",
   "execution_count": 104,
   "metadata": {
    "collapsed": false
   },
   "outputs": [
    {
     "name": "stdout",
     "output_type": "stream",
     "text": [
      "375 46 7\n"
     ]
    }
   ],
   "source": [
    "print(df[\"0_kidslt6\"].sum(), df[\"1_kidslt6\"].sum(), df[\"2_kidslt6\"].sum())"
   ]
  },
  {
   "cell_type": "code",
   "execution_count": 105,
   "metadata": {
    "collapsed": false
   },
   "outputs": [
    {
     "data": {
      "text/html": [
       "<div>\n",
       "<table border=\"1\" class=\"dataframe\">\n",
       "  <thead>\n",
       "    <tr style=\"text-align: right;\">\n",
       "      <th></th>\n",
       "      <th>0_kidslt6</th>\n",
       "      <th>1_kidslt6</th>\n",
       "      <th>2_kidslt6</th>\n",
       "      <th>lwage</th>\n",
       "    </tr>\n",
       "  </thead>\n",
       "  <tbody>\n",
       "    <tr>\n",
       "      <th>0_kidslt6</th>\n",
       "      <td>1.000000</td>\n",
       "      <td>-0.923049</td>\n",
       "      <td>-0.342993</td>\n",
       "      <td>0.026992</td>\n",
       "    </tr>\n",
       "    <tr>\n",
       "      <th>1_kidslt6</th>\n",
       "      <td>-0.923049</td>\n",
       "      <td>1.000000</td>\n",
       "      <td>-0.044746</td>\n",
       "      <td>-0.034018</td>\n",
       "    </tr>\n",
       "    <tr>\n",
       "      <th>2_kidslt6</th>\n",
       "      <td>-0.342993</td>\n",
       "      <td>-0.044746</td>\n",
       "      <td>1.000000</td>\n",
       "      <td>0.012970</td>\n",
       "    </tr>\n",
       "    <tr>\n",
       "      <th>lwage</th>\n",
       "      <td>0.026992</td>\n",
       "      <td>-0.034018</td>\n",
       "      <td>0.012970</td>\n",
       "      <td>1.000000</td>\n",
       "    </tr>\n",
       "  </tbody>\n",
       "</table>\n",
       "</div>"
      ],
      "text/plain": [
       "           0_kidslt6  1_kidslt6  2_kidslt6     lwage\n",
       "0_kidslt6   1.000000  -0.923049  -0.342993  0.026992\n",
       "1_kidslt6  -0.923049   1.000000  -0.044746 -0.034018\n",
       "2_kidslt6  -0.342993  -0.044746   1.000000  0.012970\n",
       "lwage       0.026992  -0.034018   0.012970  1.000000"
      ]
     },
     "execution_count": 105,
     "metadata": {},
     "output_type": "execute_result"
    }
   ],
   "source": [
    "df[[\"0_kidslt6\", \"1_kidslt6\", \"2_kidslt6\", \"lwage\"]].corr()"
   ]
  },
  {
   "cell_type": "markdown",
   "metadata": {},
   "source": [
    "On vire la variable la moins corrélé : 2"
   ]
  },
  {
   "cell_type": "markdown",
   "metadata": {},
   "source": [
    "Les variables catégorielles sont par définition mutuellement exclusives."
   ]
  },
  {
   "cell_type": "code",
   "execution_count": 109,
   "metadata": {
    "collapsed": false
   },
   "outputs": [
    {
     "name": "stdout",
     "output_type": "stream",
     "text": [
      "-0.462578680318 constante\n",
      "0.0346091850583 city\n",
      "0.1022193931 educ\n",
      "0.0154368855084 exper\n",
      "0.00490326238684 nwifeinc\n",
      "-0.0115937326435 kidsge6\n",
      "0.065028157273 0_kidslt6\n",
      "0.0109985415938 1_kidslt6\n"
     ]
    }
   ],
   "source": [
    "variables = [\"city\", \"educ\", \"exper\", \"nwifeinc\", \"kidsge6\", \"0_kidslt6\", \"1_kidslt6\"]\n",
    "beta, _, res, X = OLS(df, variables, \"lwage\")\n",
    "afficher_var(variables, beta)"
   ]
  },
  {
   "cell_type": "markdown",
   "metadata": {},
   "source": [
    "Selon l'étude des coefficients, on s'apperçoit que ne pas avoir d'enfants augmente le salaire de 6.5% versus le fait d'avoir 2 enfants.\n"
   ]
  },
  {
   "cell_type": "code",
   "execution_count": 115,
   "metadata": {
    "collapsed": false
   },
   "outputs": [
    {
     "name": "stdout",
     "output_type": "stream",
     "text": [
      "0.251511104127 0.0401462492397\n"
     ]
    }
   ],
   "source": [
    "ddl = (X.shape[0] - X.shape[1])\n",
    "sig2 = np.dot(res.T, res) / ddl\n",
    "std = np.sqrt(np.diag(sig2*np.linalg.inv(np.dot(X.T, X)))) \n",
    "t_0 = beta[6]/std[6]\n",
    "t_1 = beta[7]/std[7]\n",
    "\n",
    "print(t_0,t_1)"
   ]
  },
  {
   "cell_type": "code",
   "execution_count": 119,
   "metadata": {
    "collapsed": false
   },
   "outputs": [
    {
     "name": "stdout",
     "output_type": "stream",
     "text": [
      "p_value pour la variable des femmes qui n'ont pas d'enfant :  0.80154199217\n",
      "p_value pour la variable des femmes qui ont 1 enfant :  0.967995606294\n"
     ]
    }
   ],
   "source": [
    "p_val = 2*t.sf(np.abs(t_0), ddl)\n",
    "print(\"p_value pour la variable des femmes qui n'ont pas d'enfant : \", p_val)\n",
    "\n",
    "p_val = 2*t.sf(np.abs(t_1), ddl)\n",
    "print(\"p_value pour la variable des femmes qui ont 1 enfant : \", p_val)"
   ]
  },
  {
   "cell_type": "code",
   "execution_count": 120,
   "metadata": {
    "collapsed": false
   },
   "outputs": [
    {
     "name": "stdout",
     "output_type": "stream",
     "text": [
      "quantile de Student à 5% :  1.96561479201\n"
     ]
    }
   ],
   "source": [
    "t_student1 = t.ppf(1-0.05/2,df=df.shape[0]-7)\n",
    "print(\"quantile de Student à 5% : \", t_student1)"
   ]
  },
  {
   "cell_type": "markdown",
   "metadata": {},
   "source": [
    "On ne rejette pas l'hypothèse de non significativé des deux coefficients au risque 5% "
   ]
  },
  {
   "cell_type": "markdown",
   "metadata": {},
   "source": [
    "### 17.\tCréer une variable binaire pour les femmes qui ont des enfants de moins de 2 ans. Créer un terme d’interaction entre le nombre d’enfants de moins deux ans et l’éducation. Faire la régression de lwage sur une constante, city, educ, exper, nwifeinc,  et ces deux dernières variables. Faire le test de significativité du terme d’interaction. Interpréter."
   ]
  },
  {
   "cell_type": "markdown",
   "metadata": {},
   "source": [
    "Il n'existe pas de variables \"nombre d'enfants de moins de 2 ans\". Nous allons répondre à la question en utilisant la variable du nombre d'enfants de moins de 6 ans."
   ]
  },
  {
   "cell_type": "code",
   "execution_count": 122,
   "metadata": {
    "collapsed": true
   },
   "outputs": [],
   "source": [
    "df[\"binary_kidslt6\"] = df[\"kidslt6\"].map(lambda x : 0 if x==0 else 1)\n",
    "df[\"interaction_kids_educ\"] = df[\"kidslt6\"]*df[\"educ\"]"
   ]
  },
  {
   "cell_type": "code",
   "execution_count": 123,
   "metadata": {
    "collapsed": false
   },
   "outputs": [
    {
     "name": "stdout",
     "output_type": "stream",
     "text": [
      "-0.424354866265 constante\n",
      "0.0358907209438 city\n",
      "0.102316977318 educ\n",
      "0.0161213459309 exper\n",
      "0.00492265840253 nwifeinc\n",
      "0.00268372791065 interaction_kids_educ\n",
      "-0.098055935251 binary_kidslt6\n"
     ]
    }
   ],
   "source": [
    "variables = [\"city\", \"educ\", \"exper\", \"nwifeinc\", \"interaction_kids_educ\", \"binary_kidslt6\"]\n",
    "beta, _, res, X = OLS(df, variables, \"lwage\")\n",
    "afficher_var(variables, beta)"
   ]
  },
  {
   "cell_type": "code",
   "execution_count": 125,
   "metadata": {
    "collapsed": false
   },
   "outputs": [
    {
     "name": "stdout",
     "output_type": "stream",
     "text": [
      "0.166444999737\n"
     ]
    }
   ],
   "source": [
    "ddl = (X.shape[0] - X.shape[1])\n",
    "sig2 = np.dot(res.T, res) / ddl\n",
    "std = np.sqrt(np.diag(sig2*np.linalg.inv(np.dot(X.T, X)))) \n",
    "t_0 = beta[5]/std[5]\n",
    "\n",
    "print(t_0)"
   ]
  },
  {
   "cell_type": "code",
   "execution_count": 127,
   "metadata": {
    "collapsed": false
   },
   "outputs": [
    {
     "name": "stdout",
     "output_type": "stream",
     "text": [
      "p_value pour la variable d'interaction :  0.867886670921\n"
     ]
    }
   ],
   "source": [
    "p_val = 2*t.sf(np.abs(t_0), ddl)\n",
    "print(\"p_value pour la variable d'interaction : \", p_val)\n"
   ]
  },
  {
   "cell_type": "markdown",
   "metadata": {},
   "source": [
    "la variable n'est pas significative, on rejette l'interaction entre les deux variables ce qui signifie que l'effet de l'éducation ne diffère pas selon la valeur prise par le nombre d'enfants de moins de 6 ans."
   ]
  },
  {
   "cell_type": "markdown",
   "metadata": {},
   "source": [
    "## Partie 2. Séries temporelles 1"
   ]
  },
  {
   "cell_type": "markdown",
   "metadata": {},
   "source": [
    "### 1.\tOuvrir le fichier volat.raw; importer les données sur matlab en recodant les valeurs manquantes en -9999."
   ]
  },
  {
   "cell_type": "code",
   "execution_count": 81,
   "metadata": {
    "collapsed": false,
    "scrolled": true
   },
   "outputs": [
    {
     "name": "stderr",
     "output_type": "stream",
     "text": [
      "/home/brehelin/anaconda3/lib/python3.5/site-packages/ipykernel/__main__.py:26: FutureWarning: convert_objects is deprecated.  Use the data-type specific converters pd.to_datetime, pd.to_timedelta and pd.to_numeric.\n"
     ]
    }
   ],
   "source": [
    "\n",
    "    \n",
    "    \n",
    "names = [\n",
    "    \"date\", #                    1947.01 to 1993.06\n",
    "    \"sp500\", #                   S&P 500 index\n",
    "    \"divyld\",  #                 dividend yield, annualized rate\n",
    "    \"i3\",      #                 3 mo. T-bill annualized rate\n",
    "    \"ip\",      #                 index of industrial production\n",
    "    \"pcsp\",    #                 pct chg, sp500, ann rate\n",
    "    \"rsp500\",  #                 return on sp500: pcsp + divyld\n",
    "    \"pcip\",    #                 pct chg, IP, ann. rate\n",
    "    \"ci3\",     #                 i3 - i3[t-1]\n",
    "    \"ci3_1\",   #                 ci3[t-1]\n",
    "    \"ci3_2\",   #                 ci3[t-2]\n",
    "    \"pcip_1\",  #                 pcip[t-1]\n",
    "    \"pcip_2\",  #                 pcip[t-2]\n",
    "    \"pcip_3\",  #                 pcip[t-3]\n",
    "    \"pcsp_1\",  #                 pcip[t-1]\n",
    "    \"pcsp_2\",  #                 pcip[t-2\n",
    "    \"pcsp_3\"  #                 pcip[t-3]\n",
    "]\n",
    "#chemin_alex = \"/media/brehelin/0FECCBDE10E4BE99/Projet économétrie/textfiles/VOLAT.raw\"\n",
    "#df = pd.read_csv(chemin_alex, sep='\\s+', names=names)\n",
    "df = pd.read_csv('swbook1_3e\\\\textfiles\\VOLAT.raw', sep='\\s+', names=names)\n",
    "df = df.convert_objects(convert_numeric=True)\n",
    "df = df.fillna(-9999)"
   ]
  },
  {
   "cell_type": "markdown",
   "metadata": {},
   "source": [
    "### 2.\tPourquoi doit-on stationnariser les séries ?"
   ]
  },
  {
   "cell_type": "markdown",
   "metadata": {},
   "source": [
    "Parce que nous ne savons pas modéliser des séries non stationnaires.\n",
    "Sous l'hypothèse de stationnarité le MCO est le meilleur estimateur non biaisé."
   ]
  },
  {
   "cell_type": "markdown",
   "metadata": {},
   "source": [
    "### 3.\tFaire le test de racine unitaire de log(sp500), de pcsp de div"
   ]
  },
  {
   "cell_type": "markdown",
   "metadata": {},
   "source": [
    "$$ H_0 = Les \\ données \\ ont \\ une \\ racine \\ unitaire,\\ donc \\ processus \\ non \\ stationnaire $$\n",
    "$$ H_1 = Les \\ données \\ n'ont \\ pas \\ de \\ racine \\ unitaire, \\ donc \\ processus \\ stationnaire $$"
   ]
  },
  {
   "cell_type": "code",
   "execution_count": 47,
   "metadata": {
    "collapsed": false
   },
   "outputs": [
    {
     "data": {
      "text/html": [
       "<div>\n",
       "<table border=\"1\" class=\"dataframe\">\n",
       "  <thead>\n",
       "    <tr style=\"text-align: right;\">\n",
       "      <th></th>\n",
       "      <th>date</th>\n",
       "      <th>sp500</th>\n",
       "      <th>divyld</th>\n",
       "      <th>i3</th>\n",
       "      <th>ip</th>\n",
       "      <th>pcsp</th>\n",
       "      <th>rsp500</th>\n",
       "      <th>pcip</th>\n",
       "      <th>ci3</th>\n",
       "      <th>ci3_1</th>\n",
       "      <th>ci3_2</th>\n",
       "      <th>pcip_1</th>\n",
       "      <th>pcip_2</th>\n",
       "      <th>pcip_3</th>\n",
       "      <th>pcsp_1</th>\n",
       "      <th>pcsp_2</th>\n",
       "      <th>pcsp_3</th>\n",
       "    </tr>\n",
       "  </thead>\n",
       "  <tbody>\n",
       "    <tr>\n",
       "      <th>0</th>\n",
       "      <td>1947.01</td>\n",
       "      <td>15.21</td>\n",
       "      <td>4.49</td>\n",
       "      <td>0.38</td>\n",
       "      <td>22.4</td>\n",
       "      <td>-9999.00000</td>\n",
       "      <td>-9999.00000</td>\n",
       "      <td>-9999.000000</td>\n",
       "      <td>-9999.0</td>\n",
       "      <td>-9999.0</td>\n",
       "      <td>-9999.0</td>\n",
       "      <td>-9999.000000</td>\n",
       "      <td>-9999.000000</td>\n",
       "      <td>-9999.000000</td>\n",
       "      <td>-9999.00000</td>\n",
       "      <td>-9999.00000</td>\n",
       "      <td>-9999.00000</td>\n",
       "    </tr>\n",
       "    <tr>\n",
       "      <th>1</th>\n",
       "      <td>1947.02</td>\n",
       "      <td>15.80</td>\n",
       "      <td>4.38</td>\n",
       "      <td>0.38</td>\n",
       "      <td>22.5</td>\n",
       "      <td>46.54833</td>\n",
       "      <td>50.92833</td>\n",
       "      <td>5.357163</td>\n",
       "      <td>0.0</td>\n",
       "      <td>-9999.0</td>\n",
       "      <td>-9999.0</td>\n",
       "      <td>-9999.000000</td>\n",
       "      <td>-9999.000000</td>\n",
       "      <td>-9999.000000</td>\n",
       "      <td>-9999.00000</td>\n",
       "      <td>-9999.00000</td>\n",
       "      <td>-9999.00000</td>\n",
       "    </tr>\n",
       "    <tr>\n",
       "      <th>2</th>\n",
       "      <td>1947.03</td>\n",
       "      <td>15.16</td>\n",
       "      <td>4.61</td>\n",
       "      <td>0.38</td>\n",
       "      <td>22.6</td>\n",
       "      <td>-48.60762</td>\n",
       "      <td>-43.99762</td>\n",
       "      <td>5.333354</td>\n",
       "      <td>0.0</td>\n",
       "      <td>0.0</td>\n",
       "      <td>-9999.0</td>\n",
       "      <td>5.357163</td>\n",
       "      <td>-9999.000000</td>\n",
       "      <td>-9999.000000</td>\n",
       "      <td>46.54833</td>\n",
       "      <td>-9999.00000</td>\n",
       "      <td>-9999.00000</td>\n",
       "    </tr>\n",
       "    <tr>\n",
       "      <th>3</th>\n",
       "      <td>1947.04</td>\n",
       "      <td>14.60</td>\n",
       "      <td>4.75</td>\n",
       "      <td>0.38</td>\n",
       "      <td>22.5</td>\n",
       "      <td>-44.32714</td>\n",
       "      <td>-39.57714</td>\n",
       "      <td>-5.309754</td>\n",
       "      <td>0.0</td>\n",
       "      <td>0.0</td>\n",
       "      <td>0.0</td>\n",
       "      <td>5.333354</td>\n",
       "      <td>5.357163</td>\n",
       "      <td>-9999.000000</td>\n",
       "      <td>-48.60762</td>\n",
       "      <td>46.54833</td>\n",
       "      <td>-9999.00000</td>\n",
       "    </tr>\n",
       "    <tr>\n",
       "      <th>4</th>\n",
       "      <td>1947.05</td>\n",
       "      <td>14.34</td>\n",
       "      <td>5.05</td>\n",
       "      <td>0.38</td>\n",
       "      <td>22.6</td>\n",
       "      <td>-21.36988</td>\n",
       "      <td>-16.31988</td>\n",
       "      <td>5.333354</td>\n",
       "      <td>0.0</td>\n",
       "      <td>0.0</td>\n",
       "      <td>0.0</td>\n",
       "      <td>-5.309754</td>\n",
       "      <td>5.333354</td>\n",
       "      <td>5.357163</td>\n",
       "      <td>-44.32714</td>\n",
       "      <td>-48.60762</td>\n",
       "      <td>46.54833</td>\n",
       "    </tr>\n",
       "  </tbody>\n",
       "</table>\n",
       "</div>"
      ],
      "text/plain": [
       "      date  sp500  divyld    i3    ip        pcsp      rsp500         pcip  \\\n",
       "0  1947.01  15.21    4.49  0.38  22.4 -9999.00000 -9999.00000 -9999.000000   \n",
       "1  1947.02  15.80    4.38  0.38  22.5    46.54833    50.92833     5.357163   \n",
       "2  1947.03  15.16    4.61  0.38  22.6   -48.60762   -43.99762     5.333354   \n",
       "3  1947.04  14.60    4.75  0.38  22.5   -44.32714   -39.57714    -5.309754   \n",
       "4  1947.05  14.34    5.05  0.38  22.6   -21.36988   -16.31988     5.333354   \n",
       "\n",
       "      ci3   ci3_1   ci3_2       pcip_1       pcip_2       pcip_3      pcsp_1  \\\n",
       "0 -9999.0 -9999.0 -9999.0 -9999.000000 -9999.000000 -9999.000000 -9999.00000   \n",
       "1     0.0 -9999.0 -9999.0 -9999.000000 -9999.000000 -9999.000000 -9999.00000   \n",
       "2     0.0     0.0 -9999.0     5.357163 -9999.000000 -9999.000000    46.54833   \n",
       "3     0.0     0.0     0.0     5.333354     5.357163 -9999.000000   -48.60762   \n",
       "4     0.0     0.0     0.0    -5.309754     5.333354     5.357163   -44.32714   \n",
       "\n",
       "       pcsp_2      pcsp_3  \n",
       "0 -9999.00000 -9999.00000  \n",
       "1 -9999.00000 -9999.00000  \n",
       "2 -9999.00000 -9999.00000  \n",
       "3    46.54833 -9999.00000  \n",
       "4   -48.60762    46.54833  "
      ]
     },
     "execution_count": 47,
     "metadata": {},
     "output_type": "execute_result"
    }
   ],
   "source": [
    "df.head()"
   ]
  },
  {
   "cell_type": "markdown",
   "metadata": {},
   "source": [
    "* Log(SP500)"
   ]
  },
  {
   "cell_type": "code",
   "execution_count": 82,
   "metadata": {
    "collapsed": false
   },
   "outputs": [],
   "source": [
    "#df[\"y_lag\"] = np.nan\n",
    "#df.ix[1:, \"y_lag\"] = df[\"\"]\n",
    "df_sp = df.copy()\n",
    "df_sp[\"log_sp500\"] = np.log(df_sp[\"sp500\"])\n",
    "df_sp[\"y_lag\"] = df_sp[\"log_sp500\"].shift(1)\n",
    "df_sp = df_sp.iloc[1:,:]"
   ]
  },
  {
   "cell_type": "code",
   "execution_count": 83,
   "metadata": {
    "collapsed": false
   },
   "outputs": [],
   "source": [
    "df_sp[\"delta_y\"] = df_sp[\"log_sp500\"] - df_sp[\"y_lag\"]"
   ]
  },
  {
   "cell_type": "code",
   "execution_count": 84,
   "metadata": {
    "collapsed": false
   },
   "outputs": [
    {
     "name": "stdout",
     "output_type": "stream",
     "text": [
      "0.00963858554346 constante\n",
      "-0.000807100663185 y_lag\n"
     ]
    }
   ],
   "source": [
    "variables = [\"y_lag\"]\n",
    "beta, _, res, X = OLS(df_sp, variables, \"delta_y\")\n",
    "afficher_var(variables, beta)"
   ]
  },
  {
   "cell_type": "code",
   "execution_count": 85,
   "metadata": {
    "collapsed": false
   },
   "outputs": [
    {
     "name": "stdout",
     "output_type": "stream",
     "text": [
      "Statistique de test :  -0.489970585303\n"
     ]
    }
   ],
   "source": [
    "# Test racine unitaire\n",
    "ddl = (X.shape[0] - X.shape[1])\n",
    "sig2 = np.dot(res.T, res) / ddl\n",
    "std = np.sqrt(np.diag(sig2*np.linalg.inv(np.dot(X.T, X)))) \n",
    "t_0 = beta[1]/std[1]\n",
    "print(\"Statistique de test : \", t_0)"
   ]
  },
  {
   "cell_type": "code",
   "execution_count": 86,
   "metadata": {
    "collapsed": false
   },
   "outputs": [
    {
     "name": "stdout",
     "output_type": "stream",
     "text": [
      "p-value du test de dickey-fuller :  0.893958854311\n",
      "Valeur critique de mackinnon :  {'10%': -2.5695409929766093, '1%': -3.4421447800270673, '5%': -2.8667429272780858}\n"
     ]
    }
   ],
   "source": [
    "pvalue = mackinnonp(t_0, regression='c', N=1)\n",
    "print(\"p-value du test de dickey-fuller : \", pvalue)\n",
    "critvalues = mackinnoncrit(N=1, regression='c', nobs=X.shape[0])\n",
    "critvalues = {\"1%\" : critvalues[0], \"5%\" : critvalues[1],\n",
    "              \"10%\" : critvalues[2]}\n",
    "\n",
    "print(\"Valeur critique de mackinnon : \", critvalues)"
   ]
  },
  {
   "cell_type": "markdown",
   "metadata": {},
   "source": [
    "On ne peut pas rejetter H0, il est donc probable à 5% que notre série soit non stationnaire"
   ]
  },
  {
   "cell_type": "markdown",
   "metadata": {},
   "source": [
    "* pcsp"
   ]
  },
  {
   "cell_type": "code",
   "execution_count": 87,
   "metadata": {
    "collapsed": true
   },
   "outputs": [],
   "source": [
    "df_pcsp = df.copy()\n",
    "df_pcsp[\"y_lag\"] = df_pcsp[\"pcsp\"].shift(1)\n",
    "# On part de la ligne 2 car la valeur est manquante en 0\n",
    "df_pcsp = df_pcsp.iloc[2:,:]\n",
    "df_pcsp[\"delta_y\"] = df_pcsp[\"pcsp\"] - df_pcsp[\"y_lag\"]"
   ]
  },
  {
   "cell_type": "code",
   "execution_count": 88,
   "metadata": {
    "collapsed": false
   },
   "outputs": [
    {
     "name": "stdout",
     "output_type": "stream",
     "text": [
      "5.99377755776 constante\n",
      "-0.758787766093 y_lag\n"
     ]
    }
   ],
   "source": [
    "variables = [\"y_lag\"]\n",
    "beta, _, res, X = OLS(df_pcsp, variables, \"delta_y\")\n",
    "afficher_var(variables, beta)"
   ]
  },
  {
   "cell_type": "code",
   "execution_count": 89,
   "metadata": {
    "collapsed": false
   },
   "outputs": [
    {
     "name": "stdout",
     "output_type": "stream",
     "text": [
      "Statistique de test :  -18.4192564801\n"
     ]
    }
   ],
   "source": [
    "ddl = (X.shape[0] - X.shape[1])\n",
    "sig2 = np.dot(res.T, res) / ddl\n",
    "std = np.sqrt(np.diag(sig2*np.linalg.inv(np.dot(X.T, X)))) \n",
    "t_0 = beta[1]/std[1]\n",
    "print(\"Statistique de test : \", t_0)"
   ]
  },
  {
   "cell_type": "code",
   "execution_count": 90,
   "metadata": {
    "collapsed": false
   },
   "outputs": [
    {
     "name": "stdout",
     "output_type": "stream",
     "text": [
      "p-value du test de dickey-fuller :  2.17767343796e-30\n",
      "Valeur critique de mackinnon :  {'10%': -2.5695459930904199, '1%': -3.4421660928041633, '5%': -2.8667523104859627}\n"
     ]
    }
   ],
   "source": [
    "pvalue = mackinnonp(t_0, regression='c', N=1)\n",
    "print(\"p-value du test de dickey-fuller : \", pvalue)\n",
    "critvalues = mackinnoncrit(N=1, regression='c', nobs=X.shape[0])\n",
    "critvalues = {\"1%\" : critvalues[0], \"5%\" : critvalues[1],\n",
    "              \"10%\" : critvalues[2]}\n",
    "\n",
    "print(\"Valeur critique de mackinnon : \", critvalues)"
   ]
  },
  {
   "cell_type": "markdown",
   "metadata": {},
   "source": [
    "Ici on rejette H0, donc au risque 5% on peut dire que notre série est stationnaire"
   ]
  },
  {
   "cell_type": "markdown",
   "metadata": {},
   "source": [
    "* div"
   ]
  },
  {
   "cell_type": "code",
   "execution_count": 92,
   "metadata": {
    "collapsed": true
   },
   "outputs": [],
   "source": [
    "df_div = df.copy()\n",
    "df_div[\"y_lag\"] = df_div[\"divyld\"].shift(1)\n",
    "df_div = df_div.iloc[1:,:]\n",
    "df_div[\"delta_y\"] = df_div[\"divyld\"] - df_div[\"y_lag\"]"
   ]
  },
  {
   "cell_type": "code",
   "execution_count": 93,
   "metadata": {
    "collapsed": false
   },
   "outputs": [
    {
     "name": "stdout",
     "output_type": "stream",
     "text": [
      "0.038169486737 constante\n",
      "-0.00990860578459 y_lag\n"
     ]
    }
   ],
   "source": [
    "variables = [\"y_lag\"]\n",
    "beta, _, res, X = OLS(df_div, variables, \"delta_y\")\n",
    "afficher_var(variables, beta)"
   ]
  },
  {
   "cell_type": "code",
   "execution_count": 94,
   "metadata": {
    "collapsed": false
   },
   "outputs": [
    {
     "name": "stdout",
     "output_type": "stream",
     "text": [
      "Statistique de test :  -1.56549185688\n"
     ]
    }
   ],
   "source": [
    "ddl = (X.shape[0] - X.shape[1])\n",
    "sig2 = np.dot(res.T, res) / ddl\n",
    "std = np.sqrt(np.diag(sig2*np.linalg.inv(np.dot(X.T, X)))) \n",
    "t_0 = beta[1]/std[1]\n",
    "print(\"Statistique de test : \", t_0)"
   ]
  },
  {
   "cell_type": "code",
   "execution_count": 95,
   "metadata": {
    "collapsed": false
   },
   "outputs": [
    {
     "name": "stdout",
     "output_type": "stream",
     "text": [
      "p-value du test de dickey-fuller :  0.500901099077\n",
      "Valeur critique de mackinnon :  {'10%': -2.5695409929766093, '1%': -3.4421447800270673, '5%': -2.8667429272780858}\n"
     ]
    }
   ],
   "source": [
    "pvalue = mackinnonp(t_0, regression='c', N=1)\n",
    "print(\"p-value du test de dickey-fuller : \", pvalue)\n",
    "critvalues = mackinnoncrit(N=1, regression='c', nobs=X.shape[0])\n",
    "critvalues = {\"1%\" : critvalues[0], \"5%\" : critvalues[1],\n",
    "              \"10%\" : critvalues[2]}\n",
    "\n",
    "print(\"Valeur critique de mackinnon : \", critvalues)"
   ]
  },
  {
   "cell_type": "markdown",
   "metadata": {},
   "source": [
    "Au risque 5%, on ne rejette pas l'hypothèse que notre série est non stationnaire"
   ]
  },
  {
   "cell_type": "markdown",
   "metadata": {
    "collapsed": true
   },
   "source": [
    "### 4. Interpréter l'autocorrélogramme et l'autocorrélogrammes partiels de pcsp et de div. Quelle est la différence entre ces deux graphiques ?"
   ]
  },
  {
   "cell_type": "markdown",
   "metadata": {},
   "source": [
    "### 5. Proposer une modélisation AR(p) d’une série de votre choix, en utilisant tous les outils vus au cours."
   ]
  },
  {
   "cell_type": "markdown",
   "metadata": {},
   "source": [
    "### 6. Faire des prévisions pour T+1, T+2, T+3 en utilisant le modèle AR(p) de question 5. Calculer les RMSE."
   ]
  },
  {
   "cell_type": "markdown",
   "metadata": {},
   "source": [
    "## Partie 2. Séries temporelles 2"
   ]
  },
  {
   "cell_type": "markdown",
   "metadata": {},
   "source": [
    "### 1. Ouvrir le fichier Faire une régression de i3 sur inf_1, inf_2, inf_3 et def_1, def_2, def_3 où x_i représente la variable x laggée de i périodes. Calculer l’impact à 1, 2 et 3 périodes de inf et def sur i3. Calculer les impacts à long terme ; commentez"
   ]
  },
  {
   "cell_type": "code",
   "execution_count": 8,
   "metadata": {
    "collapsed": false
   },
   "outputs": [
    {
     "name": "stderr",
     "output_type": "stream",
     "text": [
      "/home/brehelin/anaconda3/lib/python3.5/site-packages/ipykernel/__main__.py:20: FutureWarning: convert_objects is deprecated.  Use the data-type specific converters pd.to_datetime, pd.to_timedelta and pd.to_numeric.\n"
     ]
    }
   ],
   "source": [
    "    \n",
    "names = [\n",
    "  \"year\",                     #1948-2003\n",
    "  \"i3\",                       #3 mo. T bill rate\n",
    "  \"inf\" ,                     #CPI inflation rate\n",
    "  \"rec\",                      #federal receipts, % GDP\n",
    "  \"out\" ,                     #federal outlays, % GDP\n",
    "  \"def\",                      #out - rec (deficit as % GDP)\n",
    "  \"i3_1\",                     #i3[t-1]\n",
    "  \"inf_1\" ,                   #inf[t-1]\n",
    "  \"def_1\",                    #def[t-1]\n",
    "  \"ci3\",                      #i3 - i3_1 \n",
    "   \"cinf\",                    #inf - inf_1\n",
    "   \"cdef\",                    #def - def_1\n",
    "   \"y77\"   \n",
    "]\n",
    "#chemin_alex = \"/media/brehelin/0FECCBDE10E4BE99/Projet économétrie/textfiles/intdef.raw\"\n",
    "#df = pd.read_csv(chemin_alex, sep='\\s+', names=names)\n",
    "df = pd.read_csv('swbook1_3e\\\\textfiles\\intdef.raw', sep='\\s+', names=names)\n",
    "df = df.convert_objects(convert_numeric=True)"
   ]
  },
  {
   "cell_type": "code",
   "execution_count": 11,
   "metadata": {
    "collapsed": false
   },
   "outputs": [
    {
     "data": {
      "text/html": [
       "<div>\n",
       "<table border=\"1\" class=\"dataframe\">\n",
       "  <thead>\n",
       "    <tr style=\"text-align: right;\">\n",
       "      <th></th>\n",
       "      <th>year</th>\n",
       "      <th>i3</th>\n",
       "      <th>inf</th>\n",
       "      <th>rec</th>\n",
       "      <th>out</th>\n",
       "      <th>def</th>\n",
       "      <th>i3_1</th>\n",
       "      <th>inf_1</th>\n",
       "      <th>def_1</th>\n",
       "      <th>ci3</th>\n",
       "      <th>cinf</th>\n",
       "      <th>cdef</th>\n",
       "      <th>y77</th>\n",
       "    </tr>\n",
       "  </thead>\n",
       "  <tbody>\n",
       "    <tr>\n",
       "      <th>0</th>\n",
       "      <td>1948</td>\n",
       "      <td>1.04</td>\n",
       "      <td>8.1</td>\n",
       "      <td>16.2</td>\n",
       "      <td>11.6</td>\n",
       "      <td>-4.600000</td>\n",
       "      <td>NaN</td>\n",
       "      <td>NaN</td>\n",
       "      <td>NaN</td>\n",
       "      <td>NaN</td>\n",
       "      <td>NaN</td>\n",
       "      <td>NaN</td>\n",
       "      <td>0</td>\n",
       "    </tr>\n",
       "    <tr>\n",
       "      <th>1</th>\n",
       "      <td>1949</td>\n",
       "      <td>1.10</td>\n",
       "      <td>-1.2</td>\n",
       "      <td>14.5</td>\n",
       "      <td>14.3</td>\n",
       "      <td>-0.200000</td>\n",
       "      <td>1.04</td>\n",
       "      <td>8.1</td>\n",
       "      <td>-4.600000</td>\n",
       "      <td>0.06</td>\n",
       "      <td>-9.3</td>\n",
       "      <td>4.400001</td>\n",
       "      <td>0</td>\n",
       "    </tr>\n",
       "    <tr>\n",
       "      <th>2</th>\n",
       "      <td>1950</td>\n",
       "      <td>1.22</td>\n",
       "      <td>1.3</td>\n",
       "      <td>14.4</td>\n",
       "      <td>15.6</td>\n",
       "      <td>1.200001</td>\n",
       "      <td>1.10</td>\n",
       "      <td>-1.2</td>\n",
       "      <td>-0.200000</td>\n",
       "      <td>0.12</td>\n",
       "      <td>2.5</td>\n",
       "      <td>1.400001</td>\n",
       "      <td>0</td>\n",
       "    </tr>\n",
       "    <tr>\n",
       "      <th>3</th>\n",
       "      <td>1951</td>\n",
       "      <td>1.55</td>\n",
       "      <td>7.9</td>\n",
       "      <td>16.1</td>\n",
       "      <td>14.2</td>\n",
       "      <td>-1.900001</td>\n",
       "      <td>1.22</td>\n",
       "      <td>1.3</td>\n",
       "      <td>1.200001</td>\n",
       "      <td>0.33</td>\n",
       "      <td>6.6</td>\n",
       "      <td>-3.100001</td>\n",
       "      <td>0</td>\n",
       "    </tr>\n",
       "    <tr>\n",
       "      <th>4</th>\n",
       "      <td>1952</td>\n",
       "      <td>1.77</td>\n",
       "      <td>1.9</td>\n",
       "      <td>19.0</td>\n",
       "      <td>19.4</td>\n",
       "      <td>0.400000</td>\n",
       "      <td>1.55</td>\n",
       "      <td>7.9</td>\n",
       "      <td>-1.900001</td>\n",
       "      <td>0.22</td>\n",
       "      <td>-6.0</td>\n",
       "      <td>2.300000</td>\n",
       "      <td>0</td>\n",
       "    </tr>\n",
       "  </tbody>\n",
       "</table>\n",
       "</div>"
      ],
      "text/plain": [
       "   year    i3  inf   rec   out       def  i3_1  inf_1     def_1   ci3  cinf  \\\n",
       "0  1948  1.04  8.1  16.2  11.6 -4.600000   NaN    NaN       NaN   NaN   NaN   \n",
       "1  1949  1.10 -1.2  14.5  14.3 -0.200000  1.04    8.1 -4.600000  0.06  -9.3   \n",
       "2  1950  1.22  1.3  14.4  15.6  1.200001  1.10   -1.2 -0.200000  0.12   2.5   \n",
       "3  1951  1.55  7.9  16.1  14.2 -1.900001  1.22    1.3  1.200001  0.33   6.6   \n",
       "4  1952  1.77  1.9  19.0  19.4  0.400000  1.55    7.9 -1.900001  0.22  -6.0   \n",
       "\n",
       "       cdef  y77  \n",
       "0       NaN    0  \n",
       "1  4.400001    0  \n",
       "2  1.400001    0  \n",
       "3 -3.100001    0  \n",
       "4  2.300000    0  "
      ]
     },
     "execution_count": 11,
     "metadata": {},
     "output_type": "execute_result"
    }
   ],
   "source": [
    "df.head()"
   ]
  },
  {
   "cell_type": "code",
   "execution_count": 12,
   "metadata": {
    "collapsed": true
   },
   "outputs": [],
   "source": [
    "df[\"inf_2\"] = df[\"inf_1\"].shift(1)\n",
    "df[\"inf_3\"] = df[\"inf_2\"].shift(1)\n",
    "df[\"def_2\"] = df[\"def_1\"].shift(1)\n",
    "df[\"def_3\"] = df[\"def_2\"].shift(1)"
   ]
  },
  {
   "cell_type": "code",
   "execution_count": 15,
   "metadata": {
    "collapsed": false
   },
   "outputs": [
    {
     "name": "stdout",
     "output_type": "stream",
     "text": [
      "(52, 17)\n"
     ]
    }
   ],
   "source": [
    "df = df.ix[ 4:,:]\n",
    "print(df.shape)"
   ]
  },
  {
   "cell_type": "code",
   "execution_count": 24,
   "metadata": {
    "collapsed": false
   },
   "outputs": [
    {
     "name": "stdout",
     "output_type": "stream",
     "text": [
      "2.05291684226 constante\n",
      "0.585407921662 inf_1\n",
      "-0.153967456752 inf_2\n",
      "0.364301715485 inf_3\n",
      "Impact multiplier of order 1 :  0.585407921662\n",
      "Impact multiplier of order 2 :  0.431440464911\n",
      "Long Run Propensity (LRP) :  0.795742180396\n"
     ]
    }
   ],
   "source": [
    "variables = [\"inf_1\", \"inf_2\", \"inf_3\"]\n",
    "beta, _, res, X = OLS(df, variables, \"i3\")\n",
    "afficher_var(variables, beta)\n",
    "print(\"Impact multiplier of order 1 : \", beta[1])\n",
    "print(\"Impact multiplier of order 2 : \", beta[1:3].sum())\n",
    "print(\"Long Run Propensity (LRP) : \", beta[1:].sum())"
   ]
  },
  {
   "cell_type": "markdown",
   "metadata": {},
   "source": [
    "Il y'a un impact positif sur la période 1 & 3. L'impact de la période 2 est négatif"
   ]
  },
  {
   "cell_type": "code",
   "execution_count": 23,
   "metadata": {
    "collapsed": false
   },
   "outputs": [
    {
     "name": "stdout",
     "output_type": "stream",
     "text": [
      "3.73446521301 constante\n",
      "0.214182321806 def_1\n",
      "0.162621050661 def_2\n",
      "0.462825277256 def_3\n",
      "Impact multiplier of order 1 :  0.214182321806\n",
      "Impact multiplier of order 2 :  0.376803372467\n",
      "Long Run Propensity (LRP) :  0.839628649724\n"
     ]
    }
   ],
   "source": [
    "variables = [\"def_1\", \"def_2\", \"def_3\"]\n",
    "beta, _, res, X = OLS(df, variables, \"i3\")\n",
    "afficher_var(variables, beta)\n",
    "print(\"Impact multiplier of order 1 : \", beta[1])\n",
    "print(\"Impact multiplier of order 2 : \", beta[1:3].sum())\n",
    "print(\"Long Run Propensity (LRP) : \", beta[1:].sum())"
   ]
  },
  {
   "cell_type": "markdown",
   "metadata": {},
   "source": [
    "Les 3 périodes ont un impact positif, avec le plus important sur la 3ème période"
   ]
  },
  {
   "cell_type": "code",
   "execution_count": 25,
   "metadata": {
    "collapsed": true
   },
   "outputs": [],
   "source": [
    "# test la significativité de long terme\n",
    "df_test = df.ix[:, [\"i3\", \"def\",\"def_1\", \"def_2\", \"def_3\"]]\n",
    "df_test[\"def_1_minus\"] = df_test[\"def_1\"] - df_test[\"def\"]\n",
    "df_test[\"def_2_minus\"] = df_test[\"def_2\"] - df_test[\"def\"]\n",
    "df_test[\"def_3_minus\"] = df_test[\"def_3\"] - df_test[\"def\"]"
   ]
  },
  {
   "cell_type": "code",
   "execution_count": 27,
   "metadata": {
    "collapsed": false
   },
   "outputs": [
    {
     "name": "stdout",
     "output_type": "stream",
     "text": [
      "3.67031062767 constante\n",
      "0.869905740215 def\n",
      "0.120970155159 def_1_minus\n",
      "0.17823871774 def_2_minus\n",
      "0.452587520031 def_3_minus\n",
      "Statistique de test :  4.17409655976\n",
      "p_value pour la variable d'interaction :  0.000128233822959\n"
     ]
    }
   ],
   "source": [
    "variables = [\"def\", \"def_1_minus\", \"def_2_minus\", \"def_3_minus\"]\n",
    "beta, _, res, X = OLS(df_test, variables, \"i3\")\n",
    "afficher_var(variables, beta)\n",
    "ddl = (X.shape[0] - X.shape[1])\n",
    "sig2 = np.dot(res.T, res) / ddl\n",
    "std = np.sqrt(np.diag(sig2*np.linalg.inv(np.dot(X.T, X)))) \n",
    "t_0 = beta[1]/std[1]\n",
    "print(\"Statistique de test : \", t_0)\n",
    "p_val = 2*t.sf(np.abs(t_0), ddl)\n",
    "print(\"p_value pour la variable d'interaction : \", p_val)"
   ]
  },
  {
   "cell_type": "markdown",
   "metadata": {},
   "source": [
    "On peut rejetter l'hypothèse nulle, et affirmer au risque 5% que le risque de long terme est significatif"
   ]
  },
  {
   "cell_type": "markdown",
   "metadata": {},
   "source": [
    "### 2. Tester l’auto-corrélation des erreurs"
   ]
  },
  {
   "cell_type": "code",
   "execution_count": 74,
   "metadata": {
    "collapsed": false
   },
   "outputs": [
    {
     "name": "stdout",
     "output_type": "stream",
     "text": [
      "Statistique de test :  4.02987635693\n",
      "p_value pour la variable d'interaction :  0.000190112023963\n"
     ]
    }
   ],
   "source": [
    "# Dans le cas de regression de I3 sur inf\n",
    "variables = [\"inf_1\", \"inf_2\", \"inf_3\"]\n",
    "beta, _, res, X = OLS(df, variables, \"i3\")\n",
    "\n",
    "u_ = res[1:,]\n",
    "u_ = u_.values.reshape((51,1))\n",
    "lag_u = res.shift(1)[1:]\n",
    "lag_u = lag_u.values.reshape((51,1))\n",
    "rho = np.dot(np.linalg.inv(np.dot(lag_u.T, lag_u)), np.dot(lag_u.T, u_))\n",
    "u_new = u_-lag_u*rho\n",
    "\n",
    "ddl = (u_.shape[0] - 1)\n",
    "sig2 = np.dot(u_new.T, u_new) / ddl\n",
    "std = np.sqrt(np.diag(sig2*np.linalg.inv(np.dot(lag_u.T, lag_u)))) \n",
    "t_0 = rho[0]/ std[0]\n",
    "print(\"Statistique de test : \", t_0[0])\n",
    "p_val = 2*t.sf(np.abs(t_0), ddl)\n",
    "print(\"p_value pour la variable d'interaction : \", p_val[0])"
   ]
  },
  {
   "cell_type": "markdown",
   "metadata": {},
   "source": [
    "On rejette H0, il y'a donc une autocorrélation des erreurs au risque 5%"
   ]
  },
  {
   "cell_type": "code",
   "execution_count": 75,
   "metadata": {
    "collapsed": false
   },
   "outputs": [
    {
     "name": "stdout",
     "output_type": "stream",
     "text": [
      "Statistique de test :  9.27362732974\n",
      "p_value pour la variable d'interaction :  1.90913202255e-12\n"
     ]
    }
   ],
   "source": [
    "# Dans le cas de regression de I3 sur inf\n",
    "variables = [\"def_1\", \"def_2\", \"def_3\"]\n",
    "beta, _, res, X = OLS(df, variables, \"i3\")\n",
    "\n",
    "u_ = res[1:,]\n",
    "u_ = u_.values.reshape((51,1))\n",
    "lag_u = res.shift(1)[1:]\n",
    "lag_u = lag_u.values.reshape((51,1))\n",
    "rho = np.dot(np.linalg.inv(np.dot(lag_u.T, lag_u)), np.dot(lag_u.T, u_))\n",
    "u_new = u_-lag_u*rho\n",
    "\n",
    "ddl = (u_.shape[0] - 1)\n",
    "sig2 = np.dot(u_new.T, u_new) / ddl\n",
    "std = np.sqrt(np.diag(sig2*np.linalg.inv(np.dot(lag_u.T, lag_u)))) \n",
    "t_0 = rho[0]/ std[0]\n",
    "print(\"Statistique de test : \", t_0[0])\n",
    "p_val = 2*t.sf(np.abs(t_0), ddl)\n",
    "print(\"p_value pour la variable d'interaction : \", p_val[0])"
   ]
  },
  {
   "cell_type": "markdown",
   "metadata": {},
   "source": [
    "On rejette H0, il y'a donc une autocorrélation des erreurs au risque 5%"
   ]
  },
  {
   "cell_type": "markdown",
   "metadata": {},
   "source": [
    "### 3. Tester l’hypothèse que les valeurs passées de inf n’ont pas d’impact sur i3."
   ]
  },
  {
   "cell_type": "code",
   "execution_count": 83,
   "metadata": {
    "collapsed": false
   },
   "outputs": [
    {
     "name": "stdout",
     "output_type": "stream",
     "text": [
      "p-value :  7.37190803531e-09\n",
      "valeur critique du test :  2.79806063544\n",
      "fisher :  21.098121403\n"
     ]
    }
   ],
   "source": [
    "# test de granger\n",
    "# modèle non contraint\n",
    "variables = [\"inf_1\", \"inf_2\", \"inf_3\"]\n",
    "beta, _, res, X = OLS(df, variables, \"i3\")\n",
    "\n",
    "ssr0 = res.dot(res)\n",
    "ddl0 = X.shape[0] - X.shape[1]\n",
    "# modèle contraint\n",
    "beta, _, res, X = OLS(df, [], \"i3\")\n",
    "ssr1 = res.dot(res)\n",
    "ddl1 = X.shape[0] - X.shape[1]\n",
    "\n",
    "F = ((ssr1-ssr0)/ssr0)*(ddl0/(ddl1-ddl0))\n",
    "\n",
    "\n",
    "print(\"p-value : \", f.sf(F, (ddl1-ddl0), ddl0))\n",
    "print(\"valeur critique du test : \", f.ppf(0.95, (ddl1-ddl0), ddl0))\n",
    "print(\"fisher : \", F)"
   ]
  },
  {
   "cell_type": "markdown",
   "metadata": {},
   "source": [
    "On rejette H0, les valeurs retardées sont significiative"
   ]
  },
  {
   "cell_type": "code",
   "execution_count": null,
   "metadata": {
    "collapsed": true
   },
   "outputs": [],
   "source": []
  }
 ],
 "metadata": {
  "kernelspec": {
   "display_name": "Python [Root]",
   "language": "python",
   "name": "Python [Root]"
  },
  "language_info": {
   "codemirror_mode": {
    "name": "ipython",
    "version": 3
   },
   "file_extension": ".py",
   "mimetype": "text/x-python",
   "name": "python",
   "nbconvert_exporter": "python",
   "pygments_lexer": "ipython3",
   "version": "3.5.2"
  }
 },
 "nbformat": 4,
 "nbformat_minor": 2
}
