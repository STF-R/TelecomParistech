{
 "cells": [
  {
   "cell_type": "markdown",
   "metadata": {},
   "source": [
    "\n",
    "# Projet d'économétrie"
   ]
  },
  {
   "cell_type": "code",
   "execution_count": 295,
   "metadata": {
    "collapsed": false
   },
   "outputs": [],
   "source": [
    "import pandas as pd \n",
    "import seaborn as sns\n",
    "import matplotlib.pyplot as plt\n",
    "import numpy as np\n",
    "from scipy.stats import t, f"
   ]
  },
  {
   "cell_type": "markdown",
   "metadata": {},
   "source": [
    "### 1.\tLire le fichier mroz.txt. Ne sélectionner que les observations pour lesquelles la variable wage est strictement positive."
   ]
  },
  {
   "cell_type": "code",
   "execution_count": 257,
   "metadata": {
    "collapsed": false
   },
   "outputs": [
    {
     "name": "stderr",
     "output_type": "stream",
     "text": [
      "C:\\Users\\Mohamed\\Anaconda3\\lib\\site-packages\\ipykernel\\__main__.py:27: FutureWarning: convert_objects is deprecated.  Use the data-type specific converters pd.to_datetime, pd.to_timedelta and pd.to_numeric.\n"
     ]
    }
   ],
   "source": [
    "names = [\n",
    "    'inlf',                    # =1 if in labor force, 1975\n",
    "    'hours',                   # hours worked, 1975\n",
    "    'kidslt6',                 # #kids < 6 years\n",
    "    'kidsge6',                 # #kids 6-18\n",
    "    'age',                     # woman's age in yrs\n",
    "    'educ',                    # years of schooling\n",
    "    'wage',                    # estimated wage from earns., hours\n",
    "    'repwage',                 # reported wage at interview in 1976\n",
    "    'hushrs',                  # hours worked by husband, 1975\n",
    "    'husage',                  # husband's age\n",
    "    'huseduc',                 # husband's years of schooling\n",
    "    'huswage',                 # husband's hourly wage, 1975\n",
    "    'faminc',                  # family income, 1975\n",
    "    'mtr',                     # fed. marginal tax rate facing woman\n",
    "    'motheduc',                # mother's years of schooling\n",
    "    'fatheduc',                # father's years of schooling\n",
    "    'unem',                    # unem. rate in county of resid.\n",
    "    'city',                    # =1 if live in SMSA\n",
    "    'exper',                   # actual labor mkt exper\n",
    "    'nwifeinc',                # (faminc - wage*hours)/1000\n",
    "    'lwage',                   # log(wage)\n",
    "    'expersq',                 # exper^2\n",
    "]\n",
    "\n",
    "df = pd.read_csv('swbook1_3e\\\\textfiles\\MROZ.raw', sep='\\s+', names=names)\n",
    "df = df.convert_objects(convert_numeric=True)\n",
    "\n",
    "df = df[df[\"wage\"]>0]"
   ]
  },
  {
   "cell_type": "markdown",
   "metadata": {},
   "source": [
    "### 2. Faire les statistiques descriptives du salaire, de l’age et de l’éducation  pour l’ensemble des femmes"
   ]
  },
  {
   "cell_type": "code",
   "execution_count": 258,
   "metadata": {
    "collapsed": false
   },
   "outputs": [
    {
     "data": {
      "text/html": [
       "<div>\n",
       "<table border=\"1\" class=\"dataframe\">\n",
       "  <thead>\n",
       "    <tr style=\"text-align: right;\">\n",
       "      <th></th>\n",
       "      <th>wage</th>\n",
       "      <th>age</th>\n",
       "      <th>educ</th>\n",
       "    </tr>\n",
       "  </thead>\n",
       "  <tbody>\n",
       "    <tr>\n",
       "      <th>count</th>\n",
       "      <td>428.000000</td>\n",
       "      <td>428.000000</td>\n",
       "      <td>428.000000</td>\n",
       "    </tr>\n",
       "    <tr>\n",
       "      <th>mean</th>\n",
       "      <td>4.177682</td>\n",
       "      <td>41.971963</td>\n",
       "      <td>12.658879</td>\n",
       "    </tr>\n",
       "    <tr>\n",
       "      <th>std</th>\n",
       "      <td>3.310282</td>\n",
       "      <td>7.721084</td>\n",
       "      <td>2.285376</td>\n",
       "    </tr>\n",
       "    <tr>\n",
       "      <th>min</th>\n",
       "      <td>0.128200</td>\n",
       "      <td>30.000000</td>\n",
       "      <td>5.000000</td>\n",
       "    </tr>\n",
       "    <tr>\n",
       "      <th>25%</th>\n",
       "      <td>2.262600</td>\n",
       "      <td>35.000000</td>\n",
       "      <td>12.000000</td>\n",
       "    </tr>\n",
       "    <tr>\n",
       "      <th>50%</th>\n",
       "      <td>3.481900</td>\n",
       "      <td>42.000000</td>\n",
       "      <td>12.000000</td>\n",
       "    </tr>\n",
       "    <tr>\n",
       "      <th>75%</th>\n",
       "      <td>4.970750</td>\n",
       "      <td>47.250000</td>\n",
       "      <td>14.000000</td>\n",
       "    </tr>\n",
       "    <tr>\n",
       "      <th>max</th>\n",
       "      <td>25.000000</td>\n",
       "      <td>60.000000</td>\n",
       "      <td>17.000000</td>\n",
       "    </tr>\n",
       "  </tbody>\n",
       "</table>\n",
       "</div>"
      ],
      "text/plain": [
       "             wage         age        educ\n",
       "count  428.000000  428.000000  428.000000\n",
       "mean     4.177682   41.971963   12.658879\n",
       "std      3.310282    7.721084    2.285376\n",
       "min      0.128200   30.000000    5.000000\n",
       "25%      2.262600   35.000000   12.000000\n",
       "50%      3.481900   42.000000   12.000000\n",
       "75%      4.970750   47.250000   14.000000\n",
       "max     25.000000   60.000000   17.000000"
      ]
     },
     "execution_count": 258,
     "metadata": {},
     "output_type": "execute_result"
    }
   ],
   "source": [
    "df[[\"wage\", \"age\", \"educ\"]].describe()"
   ]
  },
  {
   "cell_type": "markdown",
   "metadata": {},
   "source": [
    "### Salaire du mari supérieur à la médiane de l'échantillon"
   ]
  },
  {
   "cell_type": "code",
   "execution_count": 259,
   "metadata": {
    "collapsed": false
   },
   "outputs": [
    {
     "data": {
      "text/html": [
       "<div>\n",
       "<table border=\"1\" class=\"dataframe\">\n",
       "  <thead>\n",
       "    <tr style=\"text-align: right;\">\n",
       "      <th></th>\n",
       "      <th>wage</th>\n",
       "      <th>age</th>\n",
       "      <th>educ</th>\n",
       "    </tr>\n",
       "  </thead>\n",
       "  <tbody>\n",
       "    <tr>\n",
       "      <th>count</th>\n",
       "      <td>214.000000</td>\n",
       "      <td>214.000000</td>\n",
       "      <td>214.000000</td>\n",
       "    </tr>\n",
       "    <tr>\n",
       "      <th>mean</th>\n",
       "      <td>4.896822</td>\n",
       "      <td>42.275701</td>\n",
       "      <td>13.242991</td>\n",
       "    </tr>\n",
       "    <tr>\n",
       "      <th>std</th>\n",
       "      <td>4.041606</td>\n",
       "      <td>7.388843</td>\n",
       "      <td>2.359045</td>\n",
       "    </tr>\n",
       "    <tr>\n",
       "      <th>min</th>\n",
       "      <td>0.161600</td>\n",
       "      <td>30.000000</td>\n",
       "      <td>5.000000</td>\n",
       "    </tr>\n",
       "    <tr>\n",
       "      <th>25%</th>\n",
       "      <td>2.513850</td>\n",
       "      <td>36.000000</td>\n",
       "      <td>12.000000</td>\n",
       "    </tr>\n",
       "    <tr>\n",
       "      <th>50%</th>\n",
       "      <td>3.846400</td>\n",
       "      <td>43.000000</td>\n",
       "      <td>12.000000</td>\n",
       "    </tr>\n",
       "    <tr>\n",
       "      <th>75%</th>\n",
       "      <td>5.854125</td>\n",
       "      <td>48.000000</td>\n",
       "      <td>16.000000</td>\n",
       "    </tr>\n",
       "    <tr>\n",
       "      <th>max</th>\n",
       "      <td>25.000000</td>\n",
       "      <td>59.000000</td>\n",
       "      <td>17.000000</td>\n",
       "    </tr>\n",
       "  </tbody>\n",
       "</table>\n",
       "</div>"
      ],
      "text/plain": [
       "             wage         age        educ\n",
       "count  214.000000  214.000000  214.000000\n",
       "mean     4.896822   42.275701   13.242991\n",
       "std      4.041606    7.388843    2.359045\n",
       "min      0.161600   30.000000    5.000000\n",
       "25%      2.513850   36.000000   12.000000\n",
       "50%      3.846400   43.000000   12.000000\n",
       "75%      5.854125   48.000000   16.000000\n",
       "max     25.000000   59.000000   17.000000"
      ]
     },
     "execution_count": 259,
     "metadata": {},
     "output_type": "execute_result"
    }
   ],
   "source": [
    "df[df[\"huswage\"]>df[\"huswage\"].median()][[\"wage\", \"age\", \"educ\"]].describe()"
   ]
  },
  {
   "cell_type": "markdown",
   "metadata": {},
   "source": [
    "### Salaire du mari inférieur à la médiane de l'échantillon"
   ]
  },
  {
   "cell_type": "code",
   "execution_count": 260,
   "metadata": {
    "collapsed": false
   },
   "outputs": [
    {
     "data": {
      "text/html": [
       "<div>\n",
       "<table border=\"1\" class=\"dataframe\">\n",
       "  <thead>\n",
       "    <tr style=\"text-align: right;\">\n",
       "      <th></th>\n",
       "      <th>wage</th>\n",
       "      <th>age</th>\n",
       "      <th>educ</th>\n",
       "    </tr>\n",
       "  </thead>\n",
       "  <tbody>\n",
       "    <tr>\n",
       "      <th>count</th>\n",
       "      <td>214.000000</td>\n",
       "      <td>214.000000</td>\n",
       "      <td>214.000000</td>\n",
       "    </tr>\n",
       "    <tr>\n",
       "      <th>mean</th>\n",
       "      <td>3.458541</td>\n",
       "      <td>41.668224</td>\n",
       "      <td>12.074766</td>\n",
       "    </tr>\n",
       "    <tr>\n",
       "      <th>std</th>\n",
       "      <td>2.143274</td>\n",
       "      <td>8.045482</td>\n",
       "      <td>2.054200</td>\n",
       "    </tr>\n",
       "    <tr>\n",
       "      <th>min</th>\n",
       "      <td>0.128200</td>\n",
       "      <td>30.000000</td>\n",
       "      <td>6.000000</td>\n",
       "    </tr>\n",
       "    <tr>\n",
       "      <th>25%</th>\n",
       "      <td>2.117275</td>\n",
       "      <td>35.000000</td>\n",
       "      <td>12.000000</td>\n",
       "    </tr>\n",
       "    <tr>\n",
       "      <th>50%</th>\n",
       "      <td>2.971800</td>\n",
       "      <td>41.000000</td>\n",
       "      <td>12.000000</td>\n",
       "    </tr>\n",
       "    <tr>\n",
       "      <th>75%</th>\n",
       "      <td>4.393800</td>\n",
       "      <td>47.000000</td>\n",
       "      <td>12.000000</td>\n",
       "    </tr>\n",
       "    <tr>\n",
       "      <th>max</th>\n",
       "      <td>18.267000</td>\n",
       "      <td>60.000000</td>\n",
       "      <td>17.000000</td>\n",
       "    </tr>\n",
       "  </tbody>\n",
       "</table>\n",
       "</div>"
      ],
      "text/plain": [
       "             wage         age        educ\n",
       "count  214.000000  214.000000  214.000000\n",
       "mean     3.458541   41.668224   12.074766\n",
       "std      2.143274    8.045482    2.054200\n",
       "min      0.128200   30.000000    6.000000\n",
       "25%      2.117275   35.000000   12.000000\n",
       "50%      2.971800   41.000000   12.000000\n",
       "75%      4.393800   47.000000   12.000000\n",
       "max     18.267000   60.000000   17.000000"
      ]
     },
     "execution_count": 260,
     "metadata": {},
     "output_type": "execute_result"
    }
   ],
   "source": [
    "df[df[\"huswage\"]<df[\"huswage\"].median()][[\"wage\", \"age\", \"educ\"]].describe()"
   ]
  },
  {
   "cell_type": "markdown",
   "metadata": {},
   "source": [
    "### 3. "
   ]
  },
  {
   "cell_type": "code",
   "execution_count": 261,
   "metadata": {
    "collapsed": false
   },
   "outputs": [
    {
     "name": "stderr",
     "output_type": "stream",
     "text": [
      "C:\\Users\\Mohamed\\Anaconda3\\lib\\site-packages\\statsmodels\\nonparametric\\kdetools.py:20: VisibleDeprecationWarning: using a non-integer number instead of an integer will result in an error in the future\n",
      "  y = X[:m/2+1] + np.r_[0,X[m/2+1:],0]*1j\n"
     ]
    },
    {
     "data": {
      "image/png": "[encoded data removed]",
      "text/plain": [
       "<matplotlib.figure.Figure at 0x1f9baf45b70>"
      ]
     },
     "metadata": {},
     "output_type": "display_data"
    },
    {
     "data": {
      "image/png": "[encoded data removed]",
      "text/plain": [
       "<matplotlib.figure.Figure at 0x1f9b958f860>"
      ]
     },
     "metadata": {},
     "output_type": "display_data"
    }
   ],
   "source": [
    "sns.distplot(df[\"wage\"])\n",
    "plt.title(\"histogramme des salaires pour les femmes\")\n",
    "plt.show()\n",
    "sns.distplot(df[\"lwage\"])\n",
    "plt.title(\"histogramme des log-salaires pour les femmes\")\n",
    "plt.show()"
   ]
  },
  {
   "cell_type": "markdown",
   "metadata": {},
   "source": [
    "### 4. Calculer les corrélations motheduc et fatheduc. Commentez. Il y a-t-il un problème de multicollinéarité si l'on utilise ces variables comme variables explicatives ?"
   ]
  },
  {
   "cell_type": "code",
   "execution_count": 262,
   "metadata": {
    "collapsed": false
   },
   "outputs": [
    {
     "name": "stdout",
     "output_type": "stream",
     "text": [
      "[[ 1.          0.55406322]\n",
      " [ 0.55406322  1.        ]]\n"
     ]
    },
    {
     "data": {
      "text/plain": [
       "SpearmanrResult(correlation=0.55073278223958799, pvalue=2.5800056955164742e-35)"
      ]
     },
     "execution_count": 262,
     "metadata": {},
     "output_type": "execute_result"
    }
   ],
   "source": [
    "from scipy.stats import spearmanr\n",
    "\n",
    "print(np.corrcoef(df[\"motheduc\"], df[\"fatheduc\"]))\n",
    "spearmanr(df[\"motheduc\"], df[\"fatheduc\"])"
   ]
  },
  {
   "cell_type": "markdown",
   "metadata": {},
   "source": [
    "### 5."
   ]
  },
  {
   "cell_type": "code",
   "execution_count": 263,
   "metadata": {
    "collapsed": false
   },
   "outputs": [
    {
     "data": {
      "image/png": "[encoded data removed]",
      "text/plain": [
       "<matplotlib.figure.Figure at 0x1f9bc09dc18>"
      ]
     },
     "metadata": {},
     "output_type": "display_data"
    }
   ],
   "source": [
    "f, axarr = plt.subplots(3, 1)\n",
    "axarr[0].plot(df[\"wage\"], df[\"educ\"], '.')\n",
    "axarr[0].set_title('wage vs educ')\n",
    "axarr[0].set_xlabel(\"wage\")\n",
    "axarr[0].set_ylabel(\"educ\")\n",
    "\n",
    "axarr[1].plot(df[\"wage\"], df[\"exper\"], '.')\n",
    "axarr[1].set_title('wage vs exper')\n",
    "axarr[1].set_xlabel(\"wage\")\n",
    "axarr[1].set_ylabel(\"exper\")\n",
    "\n",
    "axarr[2].plot(df[\"wage\"], df[\"fatheduc\"], '.')\n",
    "axarr[2].set_title('wage vs fatheduc')\n",
    "axarr[2].set_xlabel(\"wage\")\n",
    "axarr[2].set_ylabel(\"fatheduc\")\n",
    "\n",
    "\n",
    "\n",
    "plt.show()"
   ]
  },
  {
   "cell_type": "markdown",
   "metadata": {},
   "source": [
    "### 6. Quelle est l'hypothèse fondamentale qui garanti des estimateurs non biaisés ? Expliquer le biais de variable omise"
   ]
  },
  {
   "cell_type": "markdown",
   "metadata": {},
   "source": [
    "C'est la non-corrélation entre les variables explicatives et l'erreur. L'hypothèse permet de s'assurer d'avoir un estimateur sans biais : \n",
    "\n",
    "Hyputhèse : \n",
    "$$ E(X'u)=0 $$\n",
    "$$ E(\\hat{\\beta}) = E(\\beta) + (x'x)^{-1} E(X'u)$$\n",
    "\n",
    "Si l'hypothèse n'est pas respectée\n",
    "$$E(\\hat{\\beta}) \\ne E(\\beta)$$\n",
    "Donc estimateur biaisé"
   ]
  },
  {
   "cell_type": "markdown",
   "metadata": {},
   "source": [
    "### 7.\tFaire la régression de wage en utilisant les variables explicatives un constante, city, educ, exper, nwifeinc, kidslt6, kidsgt6. Commentez l'histogramme des résidus. "
   ]
  },
  {
   "cell_type": "code",
   "execution_count": 264,
   "metadata": {
    "collapsed": false
   },
   "outputs": [],
   "source": [
    "variables = [\"city\", \"educ\", \"exper\", \"nwifeinc\", \"kidslt6\", \"kidsge6\"]\n",
    "X = df[variables]\n",
    "X = np.zeros((X.shape[0], X.shape[1]+1))\n",
    "\n",
    "X[:,0] = 1\n",
    "X[:,1:] = df.ix[:, variables]\n",
    "y_wage = df[\"wage\"]\n"
   ]
  },
  {
   "cell_type": "code",
   "execution_count": 265,
   "metadata": {
    "collapsed": false
   },
   "outputs": [],
   "source": [
    "beta_wage = np.dot(np.linalg.inv(np.dot(X.T, X)), np.dot(X.T, y_wage))"
   ]
  },
  {
   "cell_type": "code",
   "execution_count": 266,
   "metadata": {
    "collapsed": false
   },
   "outputs": [
    {
     "name": "stdout",
     "output_type": "stream",
     "text": [
      "-2.40345399155 constante\n",
      "0.369752029505 city\n",
      "0.460047701259 educ\n",
      "0.0238199479511 exper\n",
      "0.0152447935763 nwifeinc\n",
      "0.0361731913893 kidslt6\n",
      "-0.0618909096857 kidsge6\n"
     ]
    }
   ],
   "source": [
    "variables = [\"constante\", \"city\", \"educ\", \"exper\", \"nwifeinc\", \"kidslt6\", \"kidsge6\"]\n",
    "for i, item in enumerate(beta_wage):\n",
    "    \n",
    "    print(item, variables[i])"
   ]
  },
  {
   "cell_type": "code",
   "execution_count": 267,
   "metadata": {
    "collapsed": false
   },
   "outputs": [],
   "source": [
    "y_pred_wage = np.dot(X, beta_wage)\n",
    "res_wage = y_pred_wage - y_wage"
   ]
  },
  {
   "cell_type": "code",
   "execution_count": 268,
   "metadata": {
    "collapsed": false
   },
   "outputs": [
    {
     "name": "stderr",
     "output_type": "stream",
     "text": [
      "C:\\Users\\Mohamed\\Anaconda3\\lib\\site-packages\\statsmodels\\nonparametric\\kdetools.py:20: VisibleDeprecationWarning: using a non-integer number instead of an integer will result in an error in the future\n",
      "  y = X[:m/2+1] + np.r_[0,X[m/2+1:],0]*1j\n"
     ]
    },
    {
     "data": {
      "image/png": "[encoded data removed]",
      "text/plain": [
       "<matplotlib.figure.Figure at 0x1f9bc1d8358>"
      ]
     },
     "metadata": {},
     "output_type": "display_data"
    }
   ],
   "source": [
    "sns.distplot(res_wage)\n",
    "plt.show()"
   ]
  },
  {
   "cell_type": "markdown",
   "metadata": {},
   "source": [
    "Les résidus ne semblent pas suivre une loi normale centrée. On ne respecte pas les hypothèses du MCO."
   ]
  },
  {
   "cell_type": "code",
   "execution_count": 269,
   "metadata": {
    "collapsed": false
   },
   "outputs": [
    {
     "data": {
      "text/plain": [
       "NormaltestResult(statistic=345.82470863763069, pvalue=8.0374570731805143e-76)"
      ]
     },
     "execution_count": 269,
     "metadata": {},
     "output_type": "execute_result"
    }
   ],
   "source": [
    "from scipy.stats import normaltest\n",
    "normaltest(res_wage)"
   ]
  },
  {
   "cell_type": "markdown",
   "metadata": {},
   "source": [
    "### 8.\tFaire la régrssion de lwage sur une constante, city, educ, exper, nwifeinc, kidslt6, kidsgt6. Comparer l’histogramme obtenu à celui de la question 7."
   ]
  },
  {
   "cell_type": "code",
   "execution_count": 270,
   "metadata": {
    "collapsed": false
   },
   "outputs": [
    {
     "name": "stdout",
     "output_type": "stream",
     "text": [
      "(428, 7)\n"
     ]
    }
   ],
   "source": [
    "variables = [\"city\", \"educ\", \"exper\", \"nwifeinc\", \"kidslt6\", \"kidsge6\"]\n",
    "X = df[variables]\n",
    "X = np.zeros((X.shape[0], X.shape[1]+1))\n",
    "print(np.shape(X))\n",
    "X[:,0] = 1\n",
    "X[:,1:] = df.ix[:, variables]\n",
    "y_lwage = df[\"lwage\"]\n",
    "beta_lwage = np.dot(np.linalg.inv(np.dot(X.T, X)), np.dot(X.T, y_lwage))"
   ]
  },
  {
   "cell_type": "code",
   "execution_count": 271,
   "metadata": {
    "collapsed": false
   },
   "outputs": [
    {
     "name": "stdout",
     "output_type": "stream",
     "text": [
      "-0.398975226675 constante\n",
      "0.0352678929323 city\n",
      "0.10224754784 educ\n",
      "0.0154878720958 exper\n",
      "0.00488269568156 nwifeinc\n",
      "-0.0453028703817 kidslt6\n",
      "-0.0117035067044 kidsge6\n"
     ]
    }
   ],
   "source": [
    "variables = [\"constante\", \"city\", \"educ\", \"exper\", \"nwifeinc\", \"kidslt6\", \"kidsge6\"]\n",
    "for i, item in enumerate(beta):\n",
    "    \n",
    "    print(item, variables[i])"
   ]
  },
  {
   "cell_type": "code",
   "execution_count": 272,
   "metadata": {
    "collapsed": true
   },
   "outputs": [],
   "source": [
    "y_pred_lwage = np.dot(X, beta_lwage)\n",
    "res_lwage = y_pred_lwage - y_lwage"
   ]
  },
  {
   "cell_type": "code",
   "execution_count": 273,
   "metadata": {
    "collapsed": false
   },
   "outputs": [
    {
     "name": "stderr",
     "output_type": "stream",
     "text": [
      "C:\\Users\\Mohamed\\Anaconda3\\lib\\site-packages\\statsmodels\\nonparametric\\kdetools.py:20: VisibleDeprecationWarning: using a non-integer number instead of an integer will result in an error in the future\n",
      "  y = X[:m/2+1] + np.r_[0,X[m/2+1:],0]*1j\n"
     ]
    },
    {
     "data": {
      "image/png": "[encoded data removed]",
      "text/plain": [
       "<matplotlib.figure.Figure at 0x1f9baba25c0>"
      ]
     },
     "metadata": {},
     "output_type": "display_data"
    }
   ],
   "source": [
    "sns.distplot(res_lwage)\n",
    "plt.show()"
   ]
  },
  {
   "cell_type": "code",
   "execution_count": 274,
   "metadata": {
    "collapsed": false
   },
   "outputs": [
    {
     "data": {
      "text/plain": [
       "NormaltestResult(statistic=79.542467346437277, pvalue=5.3403863507047204e-18)"
      ]
     },
     "execution_count": 274,
     "metadata": {},
     "output_type": "execute_result"
    }
   ],
   "source": [
    "from scipy.stats import normaltest\n",
    "normaltest(res_lwage)"
   ]
  },
  {
   "cell_type": "markdown",
   "metadata": {},
   "source": [
    "L'hypothèse nulle de normalité des résidus est rejetée."
   ]
  },
  {
   "cell_type": "markdown",
   "metadata": {},
   "source": [
    "### 9.\tTester l'hypothèse de non significativité de exper avec un seuil de significativité de 1%, 5% et 10% (test alternatif des deux côtés). Commentez les p-values."
   ]
  },
  {
   "cell_type": "code",
   "execution_count": 275,
   "metadata": {
    "collapsed": false
   },
   "outputs": [
    {
     "name": "stdout",
     "output_type": "stream",
     "text": [
      "3.45171828081\n"
     ]
    }
   ],
   "source": [
    "ddl = (X.shape[0] - X.shape[1])\n",
    "sig2 = np.dot(res_lwage.T, res_lwage) / ddl\n",
    "std = np.sqrt(np.diag(sig2*np.linalg.inv(np.dot(X.T, X)))) \n",
    "t_exper = beta_lwage[3]/std[3]\n",
    "print(t_exper)"
   ]
  },
  {
   "cell_type": "code",
   "execution_count": 276,
   "metadata": {
    "collapsed": false
   },
   "outputs": [
    {
     "name": "stdout",
     "output_type": "stream",
     "text": [
      "p_value :  0.000613365079014\n"
     ]
    }
   ],
   "source": [
    "p_val = 2*t.sf(np.abs(t_exper), ddl)\n",
    "print(\"p_value : \", p_val)"
   ]
  },
  {
   "cell_type": "code",
   "execution_count": 277,
   "metadata": {
    "collapsed": false
   },
   "outputs": [
    {
     "name": "stdout",
     "output_type": "stream",
     "text": [
      "Statistique de test à 1% :  2.58755757305\n",
      "Statistique de test à 5% :  1.96561479201\n",
      "Statistique de test à 10% :  1.64848105713\n"
     ]
    }
   ],
   "source": [
    "t_student1 = t.ppf(1-0.01/2,df=df.shape[0]-7)\n",
    "print(\"Statistique de test à 1% : \", t_student1)\n",
    "t_student5 = t.ppf(1-0.05/2,df=df.shape[0]-7)\n",
    "print(\"Statistique de test à 5% : \", t_student5)\n",
    "t_student10 = t.ppf(1-0.1/2,df=df.shape[0]-7)\n",
    "print(\"Statistique de test à 10% : \", t_student10)"
   ]
  },
  {
   "cell_type": "markdown",
   "metadata": {},
   "source": [
    "On rejète pour les troix tests l'hypothèse nulle $H_0 : B_{exper} = 0$ "
   ]
  },
  {
   "cell_type": "markdown",
   "metadata": {},
   "source": [
    "### 10. Tester l’hypothèse que le coefficient associé à educ est égal à 10% avec un seuil de significativité de 5% (test à alternatif des deux côtés)"
   ]
  },
  {
   "cell_type": "code",
   "execution_count": 278,
   "metadata": {
    "collapsed": false
   },
   "outputs": [
    {
     "name": "stdout",
     "output_type": "stream",
     "text": [
      "6.77056178537\n",
      "p_value :  4.32452637615e-11\n",
      "Statistique de test à 5% :  1.96561479201\n"
     ]
    }
   ],
   "source": [
    "t_educ = beta_lwage[2]/std[2]\n",
    "p_val = 2*t.sf(np.abs(t_educ), ddl)\n",
    "print(t_educ)\n",
    "print(\"p_value : \", p_val)\n",
    "t_student5 = t.ppf(1-0.05/2,df=df.shape[0]-7)\n",
    "print(\"Statistique de test à 5% : \", t_student5)"
   ]
  },
  {
   "cell_type": "markdown",
   "metadata": {},
   "source": [
    "### 11.\tTester l’hypothèse jointe que le rendement de l’éducation est de 10% et que celui de l’expérience professionnelle est de 5%."
   ]
  },
  {
   "cell_type": "code",
   "execution_count": 279,
   "metadata": {
    "collapsed": false
   },
   "outputs": [
    {
     "name": "stdout",
     "output_type": "stream",
     "text": [
      "(428, 5)\n"
     ]
    }
   ],
   "source": [
    "variables = [\"city\", \"nwifeinc\", \"kidslt6\", \"kidsge6\"]\n",
    "X_2 = df[variables]\n",
    "X_2 = np.zeros((X_2.shape[0], X_2.shape[1]+1))\n",
    "print(np.shape(X_2))\n",
    "X_2[:,0] = 1\n",
    "X_2[:,1:] = df.ix[:, variables]\n",
    "y_lwage_2 = df[\"lwage\"]\n",
    "beta_lwage_2 = np.dot(np.linalg.inv(np.dot(X_2.T, X_2)), np.dot(X_2.T, y_lwage_2))"
   ]
  },
  {
   "cell_type": "code",
   "execution_count": 280,
   "metadata": {
    "collapsed": false
   },
   "outputs": [],
   "source": [
    "y_pred_lwage_2 = np.dot(X_2, beta_lwage_2)\n",
    "res_lwage_2 = y_pred_lwage_2 - y_lwage_2"
   ]
  },
  {
   "cell_type": "code",
   "execution_count": 291,
   "metadata": {
    "collapsed": false
   },
   "outputs": [],
   "source": [
    "SSR1 = np.dot(res_lwage.T, res_lwage)\n",
    "SSR0 = np.dot(res_lwage_2.T, res_lwage_2)\n",
    "ddl0 = X.shape[0]-X.shape[1]\n",
    "ddl1 = X_2.shape[0]-X_2.shape[1]\n",
    "\n",
    "F = ((SSR0 - SSR1)/SSR1) * (ddl0 / (ddl1 - ddl0))"
   ]
  },
  {
   "cell_type": "code",
   "execution_count": 359,
   "metadata": {
    "collapsed": false
   },
   "outputs": [
    {
     "name": "stdout",
     "output_type": "stream",
     "text": [
      "p-value\n"
     ]
    },
    {
     "data": {
      "text/plain": [
       "0.4092306203025744"
      ]
     },
     "execution_count": 359,
     "metadata": {},
     "output_type": "execute_result"
    }
   ],
   "source": [
    "print(\"p-value\")\n",
    "2*f.sf(F, 2, X.shape[0]-7)"
   ]
  },
  {
   "cell_type": "code",
   "execution_count": 297,
   "metadata": {
    "collapsed": false
   },
   "outputs": [
    {
     "data": {
      "text/plain": [
       "3.7213917359468551"
      ]
     },
     "execution_count": 297,
     "metadata": {},
     "output_type": "execute_result"
    }
   ],
   "source": [
    "f.ppf(0.975,2,df.shape[0]-7)"
   ]
  },
  {
   "cell_type": "markdown",
   "metadata": {},
   "source": [
    "On rejette ainsi au risque 5%, l'hypothèse nulle. Selon le test, les deux coefficients sont significatifs."
   ]
  },
  {
   "cell_type": "markdown",
   "metadata": {},
   "source": [
    "### 12.\tDe combien augmente le salaire en pourcentage avec 10 années d’expérience ?"
   ]
  },
  {
   "cell_type": "code",
   "execution_count": 302,
   "metadata": {
    "collapsed": false
   },
   "outputs": [
    {
     "name": "stdout",
     "output_type": "stream",
     "text": [
      "Avec 10 année d'expérience, le salaire augmentera, selon le modèle, de  15.49\n"
     ]
    }
   ],
   "source": [
    "print(\"Avec 10 année d'expérience, le salaire augmentera, selon le modèle, \\\n",
    "de \", np.round(beta_lwage[3]*10*100, 2))"
   ]
  },
  {
   "cell_type": "markdown",
   "metadata": {},
   "source": [
    "### 13.\tTester l’égalité des coefficients associés aux variables kidsgt6 et kidslt6. Interprétez."
   ]
  },
  {
   "cell_type": "code",
   "execution_count": 305,
   "metadata": {
    "collapsed": false
   },
   "outputs": [],
   "source": [
    "y = df[\"lwage\"].as_matrix()\n",
    "X = np.zeros((df.shape[0],6))\n",
    "X[:,0] = 1\n",
    "df_modify = df.ix[:, [\"city\",\"educ\",\"exper\",\"nwifeinc\",\"kidslt6\",\"kidsge6\"]]\n",
    "df_modify[\"tot_kids\"] = df[\"kidslt6\"] + df[\"kidsge6\"]\n",
    "X[:,1:] = df_modify.ix[:, [\"city\",\"educ\",\"exper\",\"nwifeinc\",\"tot_kids\"]]"
   ]
  },
  {
   "cell_type": "code",
   "execution_count": 307,
   "metadata": {
    "collapsed": false
   },
   "outputs": [
    {
     "name": "stdout",
     "output_type": "stream",
     "text": [
      "('constante', -0.38924089405754003)\n",
      "('city', 0.034308108767335366)\n",
      "('educ', 0.10126983187747757)\n",
      "('exper', 0.015574150465735404)\n",
      "('nwifeinc', 0.0050084015509880651)\n",
      "('tot_kids', -0.015030027263000623)\n"
     ]
    },
    {
     "data": {
      "text/plain": [
       "[None, None, None, None, None, None]"
      ]
     },
     "execution_count": 307,
     "metadata": {},
     "output_type": "execute_result"
    }
   ],
   "source": [
    "coef = np.dot(np.linalg.inv(np.dot(X.T,X)), np.dot(X.T,y))\n",
    "list(map(lambda x: print(x),\n",
    "    zip([\"constante\",\"city\",\"educ\",\"exper\",\"nwifeinc\",\"tot_kids\"], coef)))"
   ]
  },
  {
   "cell_type": "code",
   "execution_count": 309,
   "metadata": {
    "collapsed": true
   },
   "outputs": [],
   "source": [
    "beta_totkids = coef[5]\n",
    "y_pred = coef[0] + np.dot(X[:,1:], coef[1:])\n",
    "res = y_pred - y\n",
    "sig2= np.dot(res.T,res)/ (df.shape[0]-5)\n",
    "std=np.sqrt(np.diag(sig2*np.linalg.inv(np.dot(X.T,X))))"
   ]
  },
  {
   "cell_type": "code",
   "execution_count": 310,
   "metadata": {
    "collapsed": false
   },
   "outputs": [
    {
     "name": "stdout",
     "output_type": "stream",
     "text": [
      "Statistique de test :  -0.592687383731\n",
      "P-value :  0.553707092749\n"
     ]
    }
   ],
   "source": [
    "t_totkids = beta_totkids/ std[5]\n",
    "print(\"Statistique de test : \", t_totkids)\n",
    "p_val =  2.0 * (1.0 - t.cdf(np.abs( t_totkids),df.shape[0]-5))\n",
    "print(\"P-value : \", p_val)"
   ]
  },
  {
   "cell_type": "markdown",
   "metadata": {},
   "source": [
    "On ne rejette pas l'hypothèse nulle, les coefficients sont égaux au risque 5%. "
   ]
  },
  {
   "cell_type": "markdown",
   "metadata": {},
   "source": [
    "### 14.\tEn utilisant le modèle de la question 7, faire le test d'hétéroscédasticité de forme linéaire. Corriger le problème par rapport à la variable la plus importante en utilisant la méthode des MCG. Comparer les écarts-types des coefficients estimés avec ceux obtenus à la question 7. Commenter."
   ]
  },
  {
   "cell_type": "code",
   "execution_count": 348,
   "metadata": {
    "collapsed": false
   },
   "outputs": [],
   "source": [
    "variables = [\"city\", \"educ\", \"exper\", \"nwifeinc\", \"kidslt6\", \"kidsge6\"]\n",
    "X = df[variables]\n",
    "X = np.zeros((X.shape[0], X.shape[1]+1))\n",
    "\n",
    "X[:,0] = 1\n",
    "X[:,1:] = df.ix[:, variables]\n",
    "y_res = res_wage**2\n"
   ]
  },
  {
   "cell_type": "code",
   "execution_count": 349,
   "metadata": {
    "collapsed": true
   },
   "outputs": [],
   "source": [
    "beta_res = np.dot(np.linalg.inv(np.dot(X.T, X)), np.dot(X.T, y_res))"
   ]
  },
  {
   "cell_type": "code",
   "execution_count": 350,
   "metadata": {
    "collapsed": false
   },
   "outputs": [],
   "source": [
    "epsilon = np.dot(X, beta_res) - y_res\n",
    "SSR1 = np.dot(epsilon.T, epsilon)"
   ]
  },
  {
   "cell_type": "code",
   "execution_count": 351,
   "metadata": {
    "collapsed": true
   },
   "outputs": [],
   "source": [
    "X_0 = np.zeros((X.shape[0], 1))\n",
    "X_0[:,0] = 1"
   ]
  },
  {
   "cell_type": "code",
   "execution_count": 352,
   "metadata": {
    "collapsed": true
   },
   "outputs": [],
   "source": [
    "beta_res = np.dot(np.linalg.inv(np.dot(X_0.T, X_0)), np.dot(X_0.T, y_res))"
   ]
  },
  {
   "cell_type": "code",
   "execution_count": 353,
   "metadata": {
    "collapsed": true
   },
   "outputs": [],
   "source": [
    "epsilon = np.dot(X_0, beta_res) - y_res\n",
    "SSR0 = np.dot(epsilon.T, epsilon)"
   ]
  },
  {
   "cell_type": "code",
   "execution_count": 354,
   "metadata": {
    "collapsed": false
   },
   "outputs": [
    {
     "data": {
      "text/plain": [
       "array([ 9.54162047])"
      ]
     },
     "execution_count": 354,
     "metadata": {},
     "output_type": "execute_result"
    }
   ],
   "source": [
    "beta_res"
   ]
  },
  {
   "cell_type": "code",
   "execution_count": 357,
   "metadata": {
    "collapsed": false
   },
   "outputs": [],
   "source": [
    "ddl1 = X.shape[0]-X.shape[1]\n",
    "ddl0 = X.shape[0]-1\n",
    "\n",
    "F = ((SSR0 - SSR1)/SSR1) * (ddl1 / (ddl0 - ddl1))"
   ]
  },
  {
   "cell_type": "code",
   "execution_count": 361,
   "metadata": {
    "collapsed": false
   },
   "outputs": [
    {
     "name": "stdout",
     "output_type": "stream",
     "text": [
      "p-value 0.29532266629\n",
      "stat de test 2.43830200742\n"
     ]
    }
   ],
   "source": [
    "print(\"p-value\", 2*f.sf(F, ddl0-ddl1, ddl1))\n",
    "print(\"stat de test\", f.ppf(0.975, ddl0-ddl1, ddl1))\n"
   ]
  },
  {
   "cell_type": "code",
   "execution_count": null,
   "metadata": {
    "collapsed": true
   },
   "outputs": [],
   "source": []
  }
 ],
 "metadata": {
  "kernelspec": {
   "display_name": "Python [conda root]",
   "language": "python",
   "name": "conda-root-py"
  },
  "language_info": {
   "codemirror_mode": {
    "name": "ipython",
    "version": 3
   },
   "file_extension": ".py",
   "mimetype": "text/x-python",
   "name": "python",
   "nbconvert_exporter": "python",
   "pygments_lexer": "ipython3",
   "version": "3.5.2"
  }
 },
 "nbformat": 4,
 "nbformat_minor": 2
}
